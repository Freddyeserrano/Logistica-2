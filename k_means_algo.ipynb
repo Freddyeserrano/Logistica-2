{
 "cells": [
  {
   "cell_type": "markdown",
   "metadata": {},
   "source": [
    "## Implementación de clustering para la selección de sucursales.\n"
   ]
  },
  {
   "cell_type": "code",
   "execution_count": 1,
   "metadata": {},
   "outputs": [],
   "source": [
    "import numpy as np\n",
    "import pandas as pd\n",
    "from sklearn.preprocessing import StandardScaler\n",
    "from sklearn.cluster import KMeans\n",
    "import matplotlib.pyplot as plt\n",
    "import matplotlib.cm as cm\n",
    "import plotly.graph_objects as go\n",
    "import plotly.express as px\n",
    "import seaborn as sns"
   ]
  },
  {
   "cell_type": "code",
   "execution_count": 2,
   "metadata": {},
   "outputs": [
    {
     "data": {
      "text/html": [
       "<div>\n",
       "<style scoped>\n",
       "    .dataframe tbody tr th:only-of-type {\n",
       "        vertical-align: middle;\n",
       "    }\n",
       "\n",
       "    .dataframe tbody tr th {\n",
       "        vertical-align: top;\n",
       "    }\n",
       "\n",
       "    .dataframe thead th {\n",
       "        text-align: right;\n",
       "    }\n",
       "</style>\n",
       "<table border=\"1\" class=\"dataframe\">\n",
       "  <thead>\n",
       "    <tr style=\"text-align: right;\">\n",
       "      <th></th>\n",
       "      <th>ORGANIZACIÓN</th>\n",
       "      <th>GRUPO POBLACIONAL</th>\n",
       "      <th>RED</th>\n",
       "      <th>LOCALIDAD</th>\n",
       "      <th>BARRIO</th>\n",
       "      <th>DIRECCIÓN</th>\n",
       "      <th>FAMILIAS ATENDIDAS</th>\n",
       "      <th>FRECUENCIA</th>\n",
       "      <th>SEMANA</th>\n",
       "      <th>Latitud</th>\n",
       "      <th>Longitud</th>\n",
       "    </tr>\n",
       "  </thead>\n",
       "  <tbody>\n",
       "    <tr>\n",
       "      <th>0</th>\n",
       "      <td>Fundación 1</td>\n",
       "      <td>TERAPÉUTICO POR ADICCIÓN</td>\n",
       "      <td>ZIPAQUIRÁ</td>\n",
       "      <td>-</td>\n",
       "      <td>KM. 2 VIA SIMIJACA - VEREDA HATOCHICO</td>\n",
       "      <td>VDA HATO CHICO K M 2 BRR VIA SIMIJACA-CHIQUINQ...</td>\n",
       "      <td>20</td>\n",
       "      <td>MENSUAL</td>\n",
       "      <td>3 SEMANA</td>\n",
       "      <td>5.538380</td>\n",
       "      <td>-73.844520</td>\n",
       "    </tr>\n",
       "    <tr>\n",
       "      <th>1</th>\n",
       "      <td>Fundación 2</td>\n",
       "      <td>COMEDOR AMIGO</td>\n",
       "      <td>NACIONAL</td>\n",
       "      <td>ALBAN</td>\n",
       "      <td>VEREDA DE ALBAN CUNDINAMARCA SALON COMUNAL</td>\n",
       "      <td>VEREDA DE ALBAN CUNDINAMARCA SALON COMUNAL</td>\n",
       "      <td>150</td>\n",
       "      <td>SEMANAL</td>\n",
       "      <td>SEMANAL</td>\n",
       "      <td>4.930780</td>\n",
       "      <td>-74.450760</td>\n",
       "    </tr>\n",
       "    <tr>\n",
       "      <th>2</th>\n",
       "      <td>Fundación 3</td>\n",
       "      <td>ADULTO MAYOR</td>\n",
       "      <td>NACIONAL</td>\n",
       "      <td>ANOLAIMA</td>\n",
       "      <td>CENTRO</td>\n",
       "      <td>CARRERA 5 No. 127</td>\n",
       "      <td>65</td>\n",
       "      <td>SEMANAL</td>\n",
       "      <td>SEMANAL</td>\n",
       "      <td>4.763323</td>\n",
       "      <td>-74.463584</td>\n",
       "    </tr>\n",
       "    <tr>\n",
       "      <th>3</th>\n",
       "      <td>Fundación 4</td>\n",
       "      <td>TEJIENDO COMUNIDAD</td>\n",
       "      <td>NACIONAL</td>\n",
       "      <td>ANOLAIMA</td>\n",
       "      <td>VEREDA SAN JERÓNIMO DEL MUNICIPIO DE ANOLAIMA</td>\n",
       "      <td>VEREDA SAN JERÓNIMO DEL MUNICIPIO DE ANOLAIMA</td>\n",
       "      <td>66</td>\n",
       "      <td>MENSUAL</td>\n",
       "      <td>2 SEMANA</td>\n",
       "      <td>4.699704</td>\n",
       "      <td>-74.500822</td>\n",
       "    </tr>\n",
       "    <tr>\n",
       "      <th>4</th>\n",
       "      <td>Fundación 5</td>\n",
       "      <td>INTERNADO</td>\n",
       "      <td>SAN JOSÉ</td>\n",
       "      <td>ANTONIO NARIÑO</td>\n",
       "      <td>CIUDAD JARDÍN SUR</td>\n",
       "      <td>CRA. 12 B NO. 18 - 27 SUR CIUDAD JARDÍN SUR</td>\n",
       "      <td>120</td>\n",
       "      <td>MENSUAL</td>\n",
       "      <td>4 SEMANA</td>\n",
       "      <td>4.581430</td>\n",
       "      <td>-74.096940</td>\n",
       "    </tr>\n",
       "  </tbody>\n",
       "</table>\n",
       "</div>"
      ],
      "text/plain": [
       "  ORGANIZACIÓN         GRUPO POBLACIONAL        RED       LOCALIDAD  \\\n",
       "0  Fundación 1  TERAPÉUTICO POR ADICCIÓN  ZIPAQUIRÁ               -   \n",
       "1  Fundación 2             COMEDOR AMIGO   NACIONAL           ALBAN   \n",
       "2  Fundación 3              ADULTO MAYOR   NACIONAL        ANOLAIMA   \n",
       "3  Fundación 4        TEJIENDO COMUNIDAD   NACIONAL        ANOLAIMA   \n",
       "4  Fundación 5                 INTERNADO   SAN JOSÉ  ANTONIO NARIÑO   \n",
       "\n",
       "                                          BARRIO  \\\n",
       "0          KM. 2 VIA SIMIJACA - VEREDA HATOCHICO   \n",
       "1     VEREDA DE ALBAN CUNDINAMARCA SALON COMUNAL   \n",
       "2                                         CENTRO   \n",
       "3  VEREDA SAN JERÓNIMO DEL MUNICIPIO DE ANOLAIMA   \n",
       "4                              CIUDAD JARDÍN SUR   \n",
       "\n",
       "                                           DIRECCIÓN  FAMILIAS ATENDIDAS  \\\n",
       "0  VDA HATO CHICO K M 2 BRR VIA SIMIJACA-CHIQUINQ...                  20   \n",
       "1         VEREDA DE ALBAN CUNDINAMARCA SALON COMUNAL                 150   \n",
       "2                                  CARRERA 5 No. 127                  65   \n",
       "3      VEREDA SAN JERÓNIMO DEL MUNICIPIO DE ANOLAIMA                  66   \n",
       "4        CRA. 12 B NO. 18 - 27 SUR CIUDAD JARDÍN SUR                 120   \n",
       "\n",
       "  FRECUENCIA    SEMANA   Latitud   Longitud  \n",
       "0    MENSUAL  3 SEMANA  5.538380 -73.844520  \n",
       "1    SEMANAL   SEMANAL  4.930780 -74.450760  \n",
       "2    SEMANAL   SEMANAL  4.763323 -74.463584  \n",
       "3    MENSUAL  2 SEMANA  4.699704 -74.500822  \n",
       "4    MENSUAL  4 SEMANA  4.581430 -74.096940  "
      ]
     },
     "execution_count": 2,
     "metadata": {},
     "output_type": "execute_result"
    }
   ],
   "source": [
    "# Read excel file and create dataframe\n",
    "df = pd.read_excel('DATOS PROYECTO LOGISTICA - Todos.xlsx', sheet_name='DATOS DE FUNDACIONES',  skiprows=5, usecols='B:L')\n",
    "df.head()"
   ]
  },
  {
   "cell_type": "markdown",
   "metadata": {},
   "source": [
    "# For seeing the distinct values of a column\n",
    "```python\n",
    "# Drop  DIRECCIÓN column\n",
    "df.drop('DIRECCIÓN', axis=1, inplace=True)\n",
    "# Print the value counts for each column\n",
    "for col in df.columns:\n",
    "    print(df[col].value_counts())\n",
    "    print()\n",
    "```\n"
   ]
  },
  {
   "cell_type": "code",
   "execution_count": 3,
   "metadata": {},
   "outputs": [
    {
     "name": "stdout",
     "output_type": "stream",
     "text": [
      "ORGANIZACIÓN           object\n",
      "GRUPO POBLACIONAL      object\n",
      "RED                    object\n",
      "LOCALIDAD              object\n",
      "BARRIO                 object\n",
      "DIRECCIÓN              object\n",
      "FAMILIAS ATENDIDAS      int64\n",
      "FRECUENCIA             object\n",
      "SEMANA                 object\n",
      "Latitud               float64\n",
      "Longitud              float64\n",
      "dtype: object\n",
      "       FAMILIAS ATENDIDAS       Latitud      Longitud\n",
      "count          611.000000  6.110000e+02  6.110000e+02\n",
      "mean            94.612111  7.503570e+04 -1.214464e+06\n",
      "std            122.868309  1.854649e+06  3.001779e+07\n",
      "min              5.000000  3.442037e+00 -7.419923e+08\n",
      "25%             36.500000  4.574361e+00 -7.414648e+01\n",
      "50%             60.000000  4.610360e+00 -7.410213e+01\n",
      "75%            100.000000  4.672888e+00 -7.407669e+01\n",
      "max           1500.000000  4.584399e+07  7.406401e+01\n"
     ]
    }
   ],
   "source": [
    "df['Latitud'] = df['Latitud'].astype(float)\n",
    "# Drop nan values in latitud\n",
    "df.dropna(subset=['Latitud'], inplace=True)\n",
    "# print the column names and data types\n",
    "print(df.dtypes)\n",
    "# print the stats of the data\n",
    "print(df.describe())"
   ]
  },
  {
   "cell_type": "code",
   "execution_count": 4,
   "metadata": {},
   "outputs": [
    {
     "name": "stdout",
     "output_type": "stream",
     "text": [
      "(609, 11)\n",
      "(579, 11)\n",
      "       FAMILIAS ATENDIDAS     Latitud    Longitud\n",
      "count          579.000000  579.000000  579.000000\n",
      "mean            94.956822    4.620038  -74.112883\n",
      "std            125.308974    0.066258    0.050565\n",
      "min              5.000000    4.478338  -74.356028\n",
      "25%             35.000000    4.574172  -74.144939\n",
      "50%             60.000000    4.608428  -74.102165\n",
      "75%            100.000000    4.667240  -74.077817\n",
      "max           1500.000000    4.783006  -73.997710\n"
     ]
    }
   ],
   "source": [
    "# If longitudes are positve, convert them to negative\n",
    "df['Longitud'] = df['Longitud'].apply(lambda x: x * -1 if x > 0 else x)\n",
    "# If longitudes are greater than 180 delete them\n",
    "df = df[df['Longitud'] < 180]\n",
    "# If longitudes are less than -180 delete them\n",
    "df = df[df['Longitud'] > -180]\n",
    "# If latitudes are greater than 90 delete them\n",
    "df = df[df['Latitud'] < 90]\n",
    "# If latitudes are less than -90 delete them\n",
    "df = df[df['Latitud'] > -90]\n",
    "print(df.shape)\n",
    "# If longitudes are 1.2 standard deviations away from the mean, delete them\n",
    "df = df[np.abs(df['Longitud'] - df['Longitud'].mean()) <= (2 * df['Longitud'].std())]\n",
    "# If latitudes are 1.2 standard deviations away from the mean, delete them\n",
    "df = df[np.abs(df['Latitud'] - df['Latitud'].mean()) <= (2 * df['Latitud'].std())]\n",
    "print(df.shape)\n",
    "print(df.describe())"
   ]
  },
  {
   "cell_type": "code",
   "execution_count": 5,
   "metadata": {},
   "outputs": [
    {
     "name": "stdout",
     "output_type": "stream",
     "text": [
      "50     78\n",
      "100    46\n",
      "20     39\n",
      "60     38\n",
      "30     37\n",
      "       ..\n",
      "554     1\n",
      "151     1\n",
      "56      1\n",
      "145     1\n",
      "125     1\n",
      "Name: FAMILIAS ATENDIDAS, Length: 123, dtype: int64\n"
     ]
    }
   ],
   "source": [
    "# Print value conts for BARRIO\n",
    "print(df['FAMILIAS ATENDIDAS'].value_counts())"
   ]
  },
  {
   "cell_type": "code",
   "execution_count": 6,
   "metadata": {},
   "outputs": [
    {
     "name": "stdout",
     "output_type": "stream",
     "text": [
      "(579, 11)\n"
     ]
    },
    {
     "data": {
      "application/vnd.plotly.v1+json": {
       "config": {
        "plotlyServerURL": "https://plot.ly"
       },
       "data": [
        {
         "hovertemplate": "<b>%{hovertext}</b><br><br>BARRIO= CIUDAD JARDÍN SUR<br>Latitud=%{lat}<br>Longitud=%{lon}<extra></extra>",
         "hovertext": [
          "Fundación 5"
         ],
         "lat": [
          4.58143
         ],
         "legendgroup": " CIUDAD JARDÍN SUR",
         "lon": [
          -74.09694
         ],
         "marker": {
          "color": "#636efa"
         },
         "mode": "markers",
         "name": " CIUDAD JARDÍN SUR",
         "showlegend": true,
         "subplot": "mapbox",
         "type": "scattermapbox"
        },
        {
         "hovertemplate": "<b>%{hovertext}</b><br><br>BARRIO=LA ESTANZUELA<br>Latitud=%{lat}<br>Longitud=%{lon}<extra></extra>",
         "hovertext": [
          "Fundación 6",
          "Fundación 10"
         ],
         "lat": [
          4.60116841204114,
          4.598645
         ],
         "legendgroup": "LA ESTANZUELA",
         "lon": [
          -74.0877205301045,
          -74.089669
         ],
         "marker": {
          "color": "#EF553B"
         },
         "mode": "markers",
         "name": "LA ESTANZUELA",
         "showlegend": true,
         "subplot": "mapbox",
         "type": "scattermapbox"
        },
        {
         "hovertemplate": "<b>%{hovertext}</b><br><br>BARRIO=EDUARDO SANTOS <br>Latitud=%{lat}<br>Longitud=%{lon}<extra></extra>",
         "hovertext": [
          "Fundación 7"
         ],
         "lat": [
          4.594741
         ],
         "legendgroup": "EDUARDO SANTOS ",
         "lon": [
          -74.091919
         ],
         "marker": {
          "color": "#00cc96"
         },
         "mode": "markers",
         "name": "EDUARDO SANTOS ",
         "showlegend": true,
         "subplot": "mapbox",
         "type": "scattermapbox"
        },
        {
         "hovertemplate": "<b>%{hovertext}</b><br><br>BARRIO=CIUDAD BERNA<br>Latitud=%{lat}<br>Longitud=%{lon}<extra></extra>",
         "hovertext": [
          "Fundación 8"
         ],
         "lat": [
          4.583549
         ],
         "legendgroup": "CIUDAD BERNA",
         "lon": [
          -74.095351
         ],
         "marker": {
          "color": "#ab63fa"
         },
         "mode": "markers",
         "name": "CIUDAD BERNA",
         "showlegend": true,
         "subplot": "mapbox",
         "type": "scattermapbox"
        },
        {
         "hovertemplate": "<b>%{hovertext}</b><br><br>BARRIO=LA F RAGUA<br>Latitud=%{lat}<br>Longitud=%{lon}<extra></extra>",
         "hovertext": [
          "Fundación 9"
         ],
         "lat": [
          4.595307
         ],
         "legendgroup": "LA F RAGUA",
         "lon": [
          -74.105222
         ],
         "marker": {
          "color": "#FFA15A"
         },
         "mode": "markers",
         "name": "LA F RAGUA",
         "showlegend": true,
         "subplot": "mapbox",
         "type": "scattermapbox"
        },
        {
         "hovertemplate": "<b>%{hovertext}</b><br><br>BARRIO=CUIDAD BERNA<br>Latitud=%{lat}<br>Longitud=%{lon}<extra></extra>",
         "hovertext": [
          "Fundación 11"
         ],
         "lat": [
          4.59992
         ],
         "legendgroup": "CUIDAD BERNA",
         "lon": [
          -74.079962
         ],
         "marker": {
          "color": "#19d3f3"
         },
         "mode": "markers",
         "name": "CUIDAD BERNA",
         "showlegend": true,
         "subplot": "mapbox",
         "type": "scattermapbox"
        },
        {
         "hovertemplate": "<b>%{hovertext}</b><br><br>BARRIO=BARRANCAS<br>Latitud=%{lat}<br>Longitud=%{lon}<extra></extra>",
         "hovertext": [
          "Fundación 12",
          "Fundación 541"
         ],
         "lat": [
          4.733723,
          4.7329464
         ],
         "legendgroup": "BARRANCAS",
         "lon": [
          -74.027954,
          -74.0268909
         ],
         "marker": {
          "color": "#FF6692"
         },
         "mode": "markers",
         "name": "BARRANCAS",
         "showlegend": true,
         "subplot": "mapbox",
         "type": "scattermapbox"
        },
        {
         "hovertemplate": "<b>%{hovertext}</b><br><br>BARRIO=LOS ALCAZARES<br>Latitud=%{lat}<br>Longitud=%{lon}<extra></extra>",
         "hovertext": [
          "Fundación 13"
         ],
         "lat": [
          4.662537
         ],
         "legendgroup": "LOS ALCAZARES",
         "lon": [
          -74.070281
         ],
         "marker": {
          "color": "#B6E880"
         },
         "mode": "markers",
         "name": "LOS ALCAZARES",
         "showlegend": true,
         "subplot": "mapbox",
         "type": "scattermapbox"
        },
        {
         "hovertemplate": "<b>%{hovertext}</b><br><br>BARRIO=PATRIA<br>Latitud=%{lat}<br>Longitud=%{lon}<extra></extra>",
         "hovertext": [
          "Fundación 14"
         ],
         "lat": [
          4.677146
         ],
         "legendgroup": "PATRIA",
         "lon": [
          -74.066436
         ],
         "marker": {
          "color": "#FF97FF"
         },
         "mode": "markers",
         "name": "PATRIA",
         "showlegend": true,
         "subplot": "mapbox",
         "type": "scattermapbox"
        },
        {
         "hovertemplate": "<b>%{hovertext}</b><br><br>BARRIO=SAN FERNANDO <br>Latitud=%{lat}<br>Longitud=%{lon}<extra></extra>",
         "hovertext": [
          "Fundación 15"
         ],
         "lat": [
          4.672669
         ],
         "legendgroup": "SAN FERNANDO ",
         "lon": [
          -74.078501
         ],
         "marker": {
          "color": "#FECB52"
         },
         "mode": "markers",
         "name": "SAN FERNANDO ",
         "showlegend": true,
         "subplot": "mapbox",
         "type": "scattermapbox"
        },
        {
         "hovertemplate": "<b>%{hovertext}</b><br><br>BARRIO=ALCÁZARES<br>Latitud=%{lat}<br>Longitud=%{lon}<extra></extra>",
         "hovertext": [
          "Fundación 16",
          "Fundación 61"
         ],
         "lat": [
          4.66718,
          4.66211037416536
         ],
         "legendgroup": "ALCÁZARES",
         "lon": [
          -74.06822,
          -74.069409980774
         ],
         "marker": {
          "color": "#636efa"
         },
         "mode": "markers",
         "name": "ALCÁZARES",
         "showlegend": true,
         "subplot": "mapbox",
         "type": "scattermapbox"
        },
        {
         "hovertemplate": "<b>%{hovertext}</b><br><br>BARRIO=VEREDA DE ALBAN CUNDINAMARCA SALON COMUNAL<br>Latitud=%{lat}<br>Longitud=%{lon}<extra></extra>",
         "hovertext": [
          "Fundación 17",
          "Fundación 361",
          "Fundación 425",
          "Fundación 426"
         ],
         "lat": [
          4.68177,
          4.5455734,
          4.643271,
          4.5948083
         ],
         "legendgroup": "VEREDA DE ALBAN CUNDINAMARCA SALON COMUNAL",
         "lon": [
          -74.06108,
          -74.0876949,
          -74.139101,
          -74.1918942
         ],
         "marker": {
          "color": "#EF553B"
         },
         "mode": "markers",
         "name": "VEREDA DE ALBAN CUNDINAMARCA SALON COMUNAL",
         "showlegend": true,
         "subplot": "mapbox",
         "type": "scattermapbox"
        },
        {
         "hovertemplate": "<b>%{hovertext}</b><br><br>BARRIO=ESCUELA MILITAR<br>Latitud=%{lat}<br>Longitud=%{lon}<extra></extra>",
         "hovertext": [
          "Fundación 18"
         ],
         "lat": [
          4.68231
         ],
         "legendgroup": "ESCUELA MILITAR",
         "lon": [
          -74.0734
         ],
         "marker": {
          "color": "#00cc96"
         },
         "mode": "markers",
         "name": "ESCUELA MILITAR",
         "showlegend": true,
         "subplot": "mapbox",
         "type": "scattermapbox"
        },
        {
         "hovertemplate": "<b>%{hovertext}</b><br><br>BARRIO=LA CASTELLANA<br>Latitud=%{lat}<br>Longitud=%{lon}<extra></extra>",
         "hovertext": [
          "Fundación 19",
          "Fundación 234",
          "Fundación 313"
         ],
         "lat": [
          4.682222,
          4.6824626,
          4.71611695165287
         ],
         "legendgroup": "LA CASTELLANA",
         "lon": [
          -74.063133,
          -74.0616579,
          -74.0552438032671
         ],
         "marker": {
          "color": "#ab63fa"
         },
         "mode": "markers",
         "name": "LA CASTELLANA",
         "showlegend": true,
         "subplot": "mapbox",
         "type": "scattermapbox"
        },
        {
         "hovertemplate": "<b>%{hovertext}</b><br><br>BARRIO=LA MERCED NORTE<br>Latitud=%{lat}<br>Longitud=%{lon}<extra></extra>",
         "hovertext": [
          "Fundación 20"
         ],
         "lat": [
          4.6630894
         ],
         "legendgroup": "LA MERCED NORTE",
         "lon": [
          -74.0735911
         ],
         "marker": {
          "color": "#FFA15A"
         },
         "mode": "markers",
         "name": "LA MERCED NORTE",
         "showlegend": true,
         "subplot": "mapbox",
         "type": "scattermapbox"
        },
        {
         "hovertemplate": "<b>%{hovertext}</b><br><br>BARRIO=VERACRUZ<br>Latitud=%{lat}<br>Longitud=%{lon}<extra></extra>",
         "hovertext": [
          "Fundación 21",
          "Fundación 76"
         ],
         "lat": [
          4.6741367,
          4.60122939906589
         ],
         "legendgroup": "VERACRUZ",
         "lon": [
          -74.0860731,
          -74.0721805317269
         ],
         "marker": {
          "color": "#19d3f3"
         },
         "mode": "markers",
         "name": "VERACRUZ",
         "showlegend": true,
         "subplot": "mapbox",
         "type": "scattermapbox"
        },
        {
         "hovertemplate": "<b>%{hovertext}</b><br><br>BARRIO=MUEQUETA<br>Latitud=%{lat}<br>Longitud=%{lon}<extra></extra>",
         "hovertext": [
          "Fundación 22"
         ],
         "lat": [
          4.6543159
         ],
         "legendgroup": "MUEQUETA",
         "lon": [
          -74.0700957
         ],
         "marker": {
          "color": "#FF6692"
         },
         "mode": "markers",
         "name": "MUEQUETA",
         "showlegend": true,
         "subplot": "mapbox",
         "type": "scattermapbox"
        },
        {
         "hovertemplate": "<b>%{hovertext}</b><br><br>BARRIO=LOS ANDES<br>Latitud=%{lat}<br>Longitud=%{lon}<extra></extra>",
         "hovertext": [
          "Fundación 23"
         ],
         "lat": [
          4.6856782
         ],
         "legendgroup": "LOS ANDES",
         "lon": [
          -74.0726733
         ],
         "marker": {
          "color": "#B6E880"
         },
         "mode": "markers",
         "name": "LOS ANDES",
         "showlegend": true,
         "subplot": "mapbox",
         "type": "scattermapbox"
        },
        {
         "hovertemplate": "<b>%{hovertext}</b><br><br>BARRIO=SAN FERNANDO<br>Latitud=%{lat}<br>Longitud=%{lon}<extra></extra>",
         "hovertext": [
          "Fundación 24"
         ],
         "lat": [
          4.6747616
         ],
         "legendgroup": "SAN FERNANDO",
         "lon": [
          -74.0802557
         ],
         "marker": {
          "color": "#FF97FF"
         },
         "mode": "markers",
         "name": "SAN FERNANDO",
         "showlegend": true,
         "subplot": "mapbox",
         "type": "scattermapbox"
        },
        {
         "hovertemplate": "<b>%{hovertext}</b><br><br>BARRIO=C/MARCA<br>Latitud=%{lat}<br>Longitud=%{lon}<extra></extra>",
         "hovertext": [
          "Fundación 25"
         ],
         "lat": [
          4.610242
         ],
         "legendgroup": "C/MARCA",
         "lon": [
          -74.353222
         ],
         "marker": {
          "color": "#FECB52"
         },
         "mode": "markers",
         "name": "C/MARCA",
         "showlegend": true,
         "subplot": "mapbox",
         "type": "scattermapbox"
        },
        {
         "hovertemplate": "<b>%{hovertext}</b><br><br>BARRIO=BRASIL<br>Latitud=%{lat}<br>Longitud=%{lon}<extra></extra>",
         "hovertext": [
          "Fundación 26",
          "Fundación 29"
         ],
         "lat": [
          4.631799,
          4.62925
         ],
         "legendgroup": "BRASIL",
         "lon": [
          -74.1819896,
          -74.18396
         ],
         "marker": {
          "color": "#636efa"
         },
         "mode": "markers",
         "name": "BRASIL",
         "showlegend": true,
         "subplot": "mapbox",
         "type": "scattermapbox"
        },
        {
         "hovertemplate": "<b>%{hovertext}</b><br><br>BARRIO=EL CHICÓ<br>Latitud=%{lat}<br>Longitud=%{lon}<extra></extra>",
         "hovertext": [
          "Fundación 27"
         ],
         "lat": [
          4.61221851722243
         ],
         "legendgroup": "EL CHICÓ",
         "lon": [
          -74.2035597464007
         ],
         "marker": {
          "color": "#EF553B"
         },
         "mode": "markers",
         "name": "EL CHICÓ",
         "showlegend": true,
         "subplot": "mapbox",
         "type": "scattermapbox"
        },
        {
         "hovertemplate": "<b>%{hovertext}</b><br><br>BARRIO=JIMENEZ DE QUESADA<br>Latitud=%{lat}<br>Longitud=%{lon}<extra></extra>",
         "hovertext": [
          "Fundación 28"
         ],
         "lat": [
          4.6079968
         ],
         "legendgroup": "JIMENEZ DE QUESADA",
         "lon": [
          -74.1850391
         ],
         "marker": {
          "color": "#00cc96"
         },
         "mode": "markers",
         "name": "JIMENEZ DE QUESADA",
         "showlegend": true,
         "subplot": "mapbox",
         "type": "scattermapbox"
        },
        {
         "hovertemplate": "<b>%{hovertext}</b><br><br>BARRIO=RESTREPO<br>Latitud=%{lat}<br>Longitud=%{lon}<extra></extra>",
         "hovertext": [
          "Fundación 30",
          "Fundación 338",
          "Fundación 393"
         ],
         "lat": [
          4.63239727403919,
          4.58702888561864,
          4.6176513888844
         ],
         "legendgroup": "RESTREPO",
         "lon": [
          -74.1893950953664,
          -74.1061469455954,
          -74.0800956879822
         ],
         "marker": {
          "color": "#ab63fa"
         },
         "mode": "markers",
         "name": "RESTREPO",
         "showlegend": true,
         "subplot": "mapbox",
         "type": "scattermapbox"
        },
        {
         "hovertemplate": "<b>%{hovertext}</b><br><br>BARRIO=ANTONIO SANTOS<br>Latitud=%{lat}<br>Longitud=%{lon}<extra></extra>",
         "hovertext": [
          "Fundación 31"
         ],
         "lat": [
          4.61279436731178
         ],
         "legendgroup": "ANTONIO SANTOS",
         "lon": [
          -74.1896479515058
         ],
         "marker": {
          "color": "#FFA15A"
         },
         "mode": "markers",
         "name": "ANTONIO SANTOS",
         "showlegend": true,
         "subplot": "mapbox",
         "type": "scattermapbox"
        },
        {
         "hovertemplate": "<b>%{hovertext}</b><br><br>BARRIO=GRAN COLOMBIANO<br>Latitud=%{lat}<br>Longitud=%{lon}<extra></extra>",
         "hovertext": [
          "Fundación 32",
          "Fundación 281"
         ],
         "lat": [
          4.60778550020372,
          4.7072916
         ],
         "legendgroup": "GRAN COLOMBIANO",
         "lon": [
          -74.1982301257119,
          -74.0918205
         ],
         "marker": {
          "color": "#19d3f3"
         },
         "mode": "markers",
         "name": "GRAN COLOMBIANO",
         "showlegend": true,
         "subplot": "mapbox",
         "type": "scattermapbox"
        },
        {
         "hovertemplate": "<b>%{hovertext}</b><br><br>BARRIO= PIAMONTE<br>Latitud=%{lat}<br>Longitud=%{lon}<extra></extra>",
         "hovertext": [
          "Fundación 33"
         ],
         "lat": [
          4.60298492170407
         ],
         "legendgroup": " PIAMONTE",
         "lon": [
          -74.1906713506579
         ],
         "marker": {
          "color": "#FF6692"
         },
         "mode": "markers",
         "name": " PIAMONTE",
         "showlegend": true,
         "subplot": "mapbox",
         "type": "scattermapbox"
        },
        {
         "hovertemplate": "<b>%{hovertext}</b><br><br>BARRIO=SAN PABLO<br>Latitud=%{lat}<br>Longitud=%{lon}<extra></extra>",
         "hovertext": [
          "Fundación 34"
         ],
         "lat": [
          4.6046016090267
         ],
         "legendgroup": "SAN PABLO",
         "lon": [
          -74.1872161398176
         ],
         "marker": {
          "color": "#B6E880"
         },
         "mode": "markers",
         "name": "SAN PABLO",
         "showlegend": true,
         "subplot": "mapbox",
         "type": "scattermapbox"
        },
        {
         "hovertemplate": "<b>%{hovertext}</b><br><br>BARRIO=INDEPENDENCIA<br>Latitud=%{lat}<br>Longitud=%{lon}<extra></extra>",
         "hovertext": [
          "Fundación 35"
         ],
         "lat": [
          4.6199315670464
         ],
         "legendgroup": "INDEPENDENCIA",
         "lon": [
          -74.1971452968293
         ],
         "marker": {
          "color": "#FF97FF"
         },
         "mode": "markers",
         "name": "INDEPENDENCIA",
         "showlegend": true,
         "subplot": "mapbox",
         "type": "scattermapbox"
        },
        {
         "hovertemplate": "<b>%{hovertext}</b><br><br>BARRIO=BRASILIA<br>Latitud=%{lat}<br>Longitud=%{lon}<extra></extra>",
         "hovertext": [
          "Fundación 36"
         ],
         "lat": [
          4.62728429852338
         ],
         "legendgroup": "BRASILIA",
         "lon": [
          -74.1960939456529
         ],
         "marker": {
          "color": "#FECB52"
         },
         "mode": "markers",
         "name": "BRASILIA",
         "showlegend": true,
         "subplot": "mapbox",
         "type": "scattermapbox"
        },
        {
         "hovertemplate": "<b>%{hovertext}</b><br><br>BARRIO=LA PAZ<br>Latitud=%{lat}<br>Longitud=%{lon}<extra></extra>",
         "hovertext": [
          "Fundación 37"
         ],
         "lat": [
          4.57812837840698
         ],
         "legendgroup": "LA PAZ",
         "lon": [
          -74.2102713099175
         ],
         "marker": {
          "color": "#636efa"
         },
         "mode": "markers",
         "name": "LA PAZ",
         "showlegend": true,
         "subplot": "mapbox",
         "type": "scattermapbox"
        },
        {
         "hovertemplate": "<b>%{hovertext}</b><br><br>BARRIO=JIMÉNEZ DE QUESADA<br>Latitud=%{lat}<br>Longitud=%{lon}<extra></extra>",
         "hovertext": [
          "Fundación 38"
         ],
         "lat": [
          4.60907433198532
         ],
         "legendgroup": "JIMÉNEZ DE QUESADA",
         "lon": [
          -74.1863593243122
         ],
         "marker": {
          "color": "#EF553B"
         },
         "mode": "markers",
         "name": "JIMÉNEZ DE QUESADA",
         "showlegend": true,
         "subplot": "mapbox",
         "type": "scattermapbox"
        },
        {
         "hovertemplate": "<b>%{hovertext}</b><br><br>BARRIO=BOSA (CENTRO)<br>Latitud=%{lat}<br>Longitud=%{lon}<extra></extra>",
         "hovertext": [
          "Fundación 39"
         ],
         "lat": [
          4.61201566091473
         ],
         "legendgroup": "BOSA (CENTRO)",
         "lon": [
          -74.1846446186652
         ],
         "marker": {
          "color": "#00cc96"
         },
         "mode": "markers",
         "name": "BOSA (CENTRO)",
         "showlegend": true,
         "subplot": "mapbox",
         "type": "scattermapbox"
        },
        {
         "hovertemplate": "<b>%{hovertext}</b><br><br>BARRIO=SAN JOSÉ<br>Latitud=%{lat}<br>Longitud=%{lon}<extra></extra>",
         "hovertext": [
          "Fundación 40"
         ],
         "lat": [
          4.61429737101844
         ],
         "legendgroup": "SAN JOSÉ",
         "lon": [
          -74.2114685669855
         ],
         "marker": {
          "color": "#ab63fa"
         },
         "mode": "markers",
         "name": "SAN JOSÉ",
         "showlegend": true,
         "subplot": "mapbox",
         "type": "scattermapbox"
        },
        {
         "hovertemplate": "<b>%{hovertext}</b><br><br>BARRIO=BOSA VILLA SUAITA<br>Latitud=%{lat}<br>Longitud=%{lon}<extra></extra>",
         "hovertext": [
          "Fundación 41"
         ],
         "lat": [
          4.61394401361333
         ],
         "legendgroup": "BOSA VILLA SUAITA",
         "lon": [
          -74.1892271609944
         ],
         "marker": {
          "color": "#FFA15A"
         },
         "mode": "markers",
         "name": "BOSA VILLA SUAITA",
         "showlegend": true,
         "subplot": "mapbox",
         "type": "scattermapbox"
        },
        {
         "hovertemplate": "<b>%{hovertext}</b><br><br>BARRIO=BOSA CENTRO<br>Latitud=%{lat}<br>Longitud=%{lon}<extra></extra>",
         "hovertext": [
          "Fundación 42"
         ],
         "lat": [
          4.61065901137946
         ],
         "legendgroup": "BOSA CENTRO",
         "lon": [
          -74.184489845906
         ],
         "marker": {
          "color": "#19d3f3"
         },
         "mode": "markers",
         "name": "BOSA CENTRO",
         "showlegend": true,
         "subplot": "mapbox",
         "type": "scattermapbox"
        },
        {
         "hovertemplate": "<b>%{hovertext}</b><br><br>BARRIO=LOURDES<br>Latitud=%{lat}<br>Longitud=%{lon}<extra></extra>",
         "hovertext": [
          "Fundación 44",
          "Fundación 401"
         ],
         "lat": [
          4.5886561,
          4.58752605832631
         ],
         "legendgroup": "LOURDES",
         "lon": [
          -74.0760233,
          -74.0742610744883
         ],
         "marker": {
          "color": "#FF6692"
         },
         "mode": "markers",
         "name": "LOURDES",
         "showlegend": true,
         "subplot": "mapbox",
         "type": "scattermapbox"
        },
        {
         "hovertemplate": "<b>%{hovertext}</b><br><br>BARRIO=LAS AGUAS<br>Latitud=%{lat}<br>Longitud=%{lon}<extra></extra>",
         "hovertext": [
          "Fundación 45"
         ],
         "lat": [
          4.58657737025049
         ],
         "legendgroup": "LAS AGUAS",
         "lon": [
          -74.0751930073536
         ],
         "marker": {
          "color": "#B6E880"
         },
         "mode": "markers",
         "name": "LAS AGUAS",
         "showlegend": true,
         "subplot": "mapbox",
         "type": "scattermapbox"
        },
        {
         "hovertemplate": "<b>%{hovertext}</b><br><br>BARRIO=SANTA BÁRBARA<br>Latitud=%{lat}<br>Longitud=%{lon}<extra></extra>",
         "hovertext": [
          "Fundación 46"
         ],
         "lat": [
          4.59274161247767
         ],
         "legendgroup": "SANTA BÁRBARA",
         "lon": [
          -74.0786459168177
         ],
         "marker": {
          "color": "#FF97FF"
         },
         "mode": "markers",
         "name": "SANTA BÁRBARA",
         "showlegend": true,
         "subplot": "mapbox",
         "type": "scattermapbox"
        },
        {
         "hovertemplate": "<b>%{hovertext}</b><br><br>BARRIO=CATEDRAL<br>Latitud=%{lat}<br>Longitud=%{lon}<extra></extra>",
         "hovertext": [
          "Fundación 47"
         ],
         "lat": [
          4.5997768
         ],
         "legendgroup": "CATEDRAL",
         "lon": [
          -74.0731549
         ],
         "marker": {
          "color": "#FECB52"
         },
         "mode": "markers",
         "name": "CATEDRAL",
         "showlegend": true,
         "subplot": "mapbox",
         "type": "scattermapbox"
        },
        {
         "hovertemplate": "<b>%{hovertext}</b><br><br>BARRIO=EGIPTO<br>Latitud=%{lat}<br>Longitud=%{lon}<extra></extra>",
         "hovertext": [
          "Fundación 48",
          "Fundación 55",
          "Fundación 56"
         ],
         "lat": [
          4.59360687200444,
          4.59587251343711,
          4.5927267
         ],
         "legendgroup": "EGIPTO",
         "lon": [
          -74.0699446945879,
          -74.0694768470717,
          -74.0714734
         ],
         "marker": {
          "color": "#636efa"
         },
         "mode": "markers",
         "name": "EGIPTO",
         "showlegend": true,
         "subplot": "mapbox",
         "type": "scattermapbox"
        },
        {
         "hovertemplate": "<b>%{hovertext}</b><br><br>BARRIO=LAS CRUCES<br>Latitud=%{lat}<br>Longitud=%{lon}<extra></extra>",
         "hovertext": [
          "Fundación 49",
          "Fundación 249",
          "Fundación 390",
          "Fundación 391",
          "Fundación 398"
         ],
         "lat": [
          4.58705991511683,
          4.5877564,
          4.58937149099431,
          4.58905384109357,
          4.58739604731541
         ],
         "legendgroup": "LAS CRUCES",
         "lon": [
          -74.0825572947124,
          -74.0795683,
          -74.0817992033237,
          -74.0819877168176,
          -74.080129732159
         ],
         "marker": {
          "color": "#EF553B"
         },
         "mode": "markers",
         "name": "LAS CRUCES",
         "showlegend": true,
         "subplot": "mapbox",
         "type": "scattermapbox"
        },
        {
         "hovertemplate": "<b>%{hovertext}</b><br><br>BARRIO=CANDELARIA<br>Latitud=%{lat}<br>Longitud=%{lon}<extra></extra>",
         "hovertext": [
          "Fundación 50"
         ],
         "lat": [
          4.59203361482541
         ],
         "legendgroup": "CANDELARIA",
         "lon": [
          -74.0742630028888
         ],
         "marker": {
          "color": "#00cc96"
         },
         "mode": "markers",
         "name": "CANDELARIA",
         "showlegend": true,
         "subplot": "mapbox",
         "type": "scattermapbox"
        },
        {
         "hovertemplate": "<b>%{hovertext}</b><br><br>BARRIO=BELÉN<br>Latitud=%{lat}<br>Longitud=%{lon}<extra></extra>",
         "hovertext": [
          "Fundación 51"
         ],
         "lat": [
          4.67846178851254
         ],
         "legendgroup": "BELÉN",
         "lon": [
          -74.1480338936401
         ],
         "marker": {
          "color": "#ab63fa"
         },
         "mode": "markers",
         "name": "BELÉN",
         "showlegend": true,
         "subplot": "mapbox",
         "type": "scattermapbox"
        },
        {
         "hovertemplate": "<b>%{hovertext}</b><br><br>BARRIO=CANDELARIA CENTRO<br>Latitud=%{lat}<br>Longitud=%{lon}<extra></extra>",
         "hovertext": [
          "Fundación 52"
         ],
         "lat": [
          4.59630111217246
         ],
         "legendgroup": "CANDELARIA CENTRO",
         "lon": [
          -74.071865501066
         ],
         "marker": {
          "color": "#FFA15A"
         },
         "mode": "markers",
         "name": "CANDELARIA CENTRO",
         "showlegend": true,
         "subplot": "mapbox",
         "type": "scattermapbox"
        },
        {
         "hovertemplate": "<b>%{hovertext}</b><br><br>BARRIO=CENTRO ADMINISTRATIVO<br>Latitud=%{lat}<br>Longitud=%{lon}<extra></extra>",
         "hovertext": [
          "Fundación 53",
          "Fundación 198"
         ],
         "lat": [
          4.597317,
          4.58132067153167
         ],
         "legendgroup": "CENTRO ADMINISTRATIVO",
         "lon": [
          -74.0747542,
          -74.223912545711
         ],
         "marker": {
          "color": "#19d3f3"
         },
         "mode": "markers",
         "name": "CENTRO ADMINISTRATIVO",
         "showlegend": true,
         "subplot": "mapbox",
         "type": "scattermapbox"
        },
        {
         "hovertemplate": "<b>%{hovertext}</b><br><br>BARRIO=EGIPTO.<br>Latitud=%{lat}<br>Longitud=%{lon}<extra></extra>",
         "hovertext": [
          "Fundación 54"
         ],
         "lat": [
          4.59604413431315
         ],
         "legendgroup": "EGIPTO.",
         "lon": [
          -74.0718116068181
         ],
         "marker": {
          "color": "#FF6692"
         },
         "mode": "markers",
         "name": "EGIPTO.",
         "showlegend": true,
         "subplot": "mapbox",
         "type": "scattermapbox"
        },
        {
         "hovertemplate": "<b>%{hovertext}</b><br><br>BARRIO=SAN ANTONIO NOROORIENTAL<br>Latitud=%{lat}<br>Longitud=%{lon}<extra></extra>",
         "hovertext": [
          "Fundación 57"
         ],
         "lat": [
          4.69522923964839
         ],
         "legendgroup": "SAN ANTONIO NOROORIENTAL",
         "lon": [
          -74.0969766680514
         ],
         "marker": {
          "color": "#B6E880"
         },
         "mode": "markers",
         "name": "SAN ANTONIO NOROORIENTAL",
         "showlegend": true,
         "subplot": "mapbox",
         "type": "scattermapbox"
        },
        {
         "hovertemplate": "<b>%{hovertext}</b><br><br>BARRIO=CARACOLI<br>Latitud=%{lat}<br>Longitud=%{lon}<extra></extra>",
         "hovertext": [
          "Fundación 58",
          "Fundación 134",
          "Fundación 245"
         ],
         "lat": [
          4.57437375667623,
          4.571718,
          4.5905355
         ],
         "legendgroup": "CARACOLI",
         "lon": [
          -74.1745412422762,
          -74.164189,
          -74.1764762
         ],
         "marker": {
          "color": "#FF97FF"
         },
         "mode": "markers",
         "name": "CARACOLI",
         "showlegend": true,
         "subplot": "mapbox",
         "type": "scattermapbox"
        },
        {
         "hovertemplate": "<b>%{hovertext}</b><br><br>BARRIO=LA MAGDALENA<br>Latitud=%{lat}<br>Longitud=%{lon}<extra></extra>",
         "hovertext": [
          "Fundación 59",
          "Fundación 515"
         ],
         "lat": [
          4.62819337771199,
          4.6284133
         ],
         "legendgroup": "LA MAGDALENA",
         "lon": [
          -74.0724149958554,
          -74.0701951
         ],
         "marker": {
          "color": "#FECB52"
         },
         "mode": "markers",
         "name": "LA MAGDALENA",
         "showlegend": true,
         "subplot": "mapbox",
         "type": "scattermapbox"
        },
        {
         "hovertemplate": "<b>%{hovertext}</b><br><br>BARRIO=GRANADA<br>Latitud=%{lat}<br>Longitud=%{lon}<extra></extra>",
         "hovertext": [
          "Fundación 60",
          "Fundación 66"
         ],
         "lat": [
          4.65061327340052,
          4.6508111187404
         ],
         "legendgroup": "GRANADA",
         "lon": [
          -74.0544504186651,
          -74.0562784587103
         ],
         "marker": {
          "color": "#636efa"
         },
         "mode": "markers",
         "name": "GRANADA",
         "showlegend": true,
         "subplot": "mapbox",
         "type": "scattermapbox"
        },
        {
         "hovertemplate": "<b>%{hovertext}</b><br><br>BARRIO=DIVINO NIÑO<br>Latitud=%{lat}<br>Longitud=%{lon}<extra></extra>",
         "hovertext": [
          "Fundación 62",
          "Fundación 246",
          "Fundación 422"
         ],
         "lat": [
          4.6778505,
          4.5747306,
          4.590084
         ],
         "legendgroup": "DIVINO NIÑO",
         "lon": [
          -74.046192,
          -74.1710618,
          -74.199649
         ],
         "marker": {
          "color": "#EF553B"
         },
         "mode": "markers",
         "name": "DIVINO NIÑO",
         "showlegend": true,
         "subplot": "mapbox",
         "type": "scattermapbox"
        },
        {
         "hovertemplate": "<b>%{hovertext}</b><br><br>BARRIO=CIRCUNVALAR<br>Latitud=%{lat}<br>Longitud=%{lon}<extra></extra>",
         "hovertext": [
          "Fundación 63"
         ],
         "lat": [
          4.67132426738067
         ],
         "legendgroup": "CIRCUNVALAR",
         "lon": [
          -74.0435632452185
         ],
         "marker": {
          "color": "#00cc96"
         },
         "mode": "markers",
         "name": "CIRCUNVALAR",
         "showlegend": true,
         "subplot": "mapbox",
         "type": "scattermapbox"
        },
        {
         "hovertemplate": "<b>%{hovertext}</b><br><br>BARRIO=CHAPINERO CENTRAL<br>Latitud=%{lat}<br>Longitud=%{lon}<extra></extra>",
         "hovertext": [
          "Fundación 64"
         ],
         "lat": [
          4.64690967445379
         ],
         "legendgroup": "CHAPINERO CENTRAL",
         "lon": [
          -74.0610730317269
         ],
         "marker": {
          "color": "#ab63fa"
         },
         "mode": "markers",
         "name": "CHAPINERO CENTRAL",
         "showlegend": true,
         "subplot": "mapbox",
         "type": "scattermapbox"
        },
        {
         "hovertemplate": "<b>%{hovertext}</b><br><br>BARRIO=NICOLAS DE FEDERMAN<br>Latitud=%{lat}<br>Longitud=%{lon}<extra></extra>",
         "hovertext": [
          "Fundación 65",
          "Fundación 290"
         ],
         "lat": [
          4.64853,
          4.5971079
         ],
         "legendgroup": "NICOLAS DE FEDERMAN",
         "lon": [
          -74.07507,
          -74.1191921
         ],
         "marker": {
          "color": "#FFA15A"
         },
         "mode": "markers",
         "name": "NICOLAS DE FEDERMAN",
         "showlegend": true,
         "subplot": "mapbox",
         "type": "scattermapbox"
        },
        {
         "hovertemplate": "<b>%{hovertext}</b><br><br>BARRIO=MARLY<br>Latitud=%{lat}<br>Longitud=%{lon}<extra></extra>",
         "hovertext": [
          "Fundación 67"
         ],
         "lat": [
          4.63887427677364
         ],
         "legendgroup": "MARLY",
         "lon": [
          -74.0648486028908
         ],
         "marker": {
          "color": "#19d3f3"
         },
         "mode": "markers",
         "name": "MARLY",
         "showlegend": true,
         "subplot": "mapbox",
         "type": "scattermapbox"
        },
        {
         "hovertemplate": "<b>%{hovertext}</b><br><br>BARRIO=CAMPIN<br>Latitud=%{lat}<br>Longitud=%{lon}<extra></extra>",
         "hovertext": [
          "Fundación 68",
          "Fundación 385"
         ],
         "lat": [
          4.65179997303999,
          4.58983530199727
         ],
         "legendgroup": "CAMPIN",
         "lon": [
          -74.0763564317268,
          -74.0843399898298
         ],
         "marker": {
          "color": "#FF6692"
         },
         "mode": "markers",
         "name": "CAMPIN",
         "showlegend": true,
         "subplot": "mapbox",
         "type": "scattermapbox"
        },
        {
         "hovertemplate": "<b>%{hovertext}</b><br><br>BARRIO=BELARCAZAR<br>Latitud=%{lat}<br>Longitud=%{lon}<extra></extra>",
         "hovertext": [
          "Fundación 69",
          "Fundación 70",
          "Fundación 71"
         ],
         "lat": [
          4.63850176428031,
          4.63850176428031,
          4.63850176428031
         ],
         "legendgroup": "BELARCAZAR",
         "lon": [
          -74.0781963470712,
          -74.0781963470712,
          -74.0781963470712
         ],
         "marker": {
          "color": "#B6E880"
         },
         "mode": "markers",
         "name": "BELARCAZAR",
         "showlegend": true,
         "subplot": "mapbox",
         "type": "scattermapbox"
        },
        {
         "hovertemplate": "<b>%{hovertext}</b><br><br>BARRIO=PARDO RUBIO<br>Latitud=%{lat}<br>Longitud=%{lon}<extra></extra>",
         "hovertext": [
          "Fundación 72"
         ],
         "lat": [
          4.63740194004553
         ],
         "legendgroup": "PARDO RUBIO",
         "lon": [
          -74.0610284740546
         ],
         "marker": {
          "color": "#FF97FF"
         },
         "mode": "markers",
         "name": "PARDO RUBIO",
         "showlegend": true,
         "subplot": "mapbox",
         "type": "scattermapbox"
        },
        {
         "hovertemplate": "<b>%{hovertext}</b><br><br>BARRIO=EL PARAISO<br>Latitud=%{lat}<br>Longitud=%{lon}<extra></extra>",
         "hovertext": [
          "Fundación 73"
         ],
         "lat": [
          4.62814737986436
         ],
         "legendgroup": "EL PARAISO",
         "lon": [
          -74.0603177317268
         ],
         "marker": {
          "color": "#FECB52"
         },
         "mode": "markers",
         "name": "EL PARAISO",
         "showlegend": true,
         "subplot": "mapbox",
         "type": "scattermapbox"
        },
        {
         "hovertemplate": "<b>%{hovertext}</b><br><br>BARRIO=DOCE DE OCTUBRE<br>Latitud=%{lat}<br>Longitud=%{lon}<extra></extra>",
         "hovertext": [
          "Fundación 74"
         ],
         "lat": [
          4.67093519466858
         ],
         "legendgroup": "DOCE DE OCTUBRE",
         "lon": [
          -74.0712204298742
         ],
         "marker": {
          "color": "#636efa"
         },
         "mode": "markers",
         "name": "DOCE DE OCTUBRE",
         "showlegend": true,
         "subplot": "mapbox",
         "type": "scattermapbox"
        },
        {
         "hovertemplate": "<b>%{hovertext}</b><br><br>BARRIO=GRAN AMÉRICA<br>Latitud=%{lat}<br>Longitud=%{lon}<extra></extra>",
         "hovertext": [
          "Fundación 75"
         ],
         "lat": [
          4.62838597979568
         ],
         "legendgroup": "GRAN AMÉRICA",
         "lon": [
          -74.0859291875463
         ],
         "marker": {
          "color": "#EF553B"
         },
         "mode": "markers",
         "name": "GRAN AMÉRICA",
         "showlegend": true,
         "subplot": "mapbox",
         "type": "scattermapbox"
        },
        {
         "hovertemplate": "<b>%{hovertext}</b><br><br>BARRIO=PARO RUBIO<br>Latitud=%{lat}<br>Longitud=%{lon}<extra></extra>",
         "hovertext": [
          "Fundación 77"
         ],
         "lat": [
          4.63743402118381
         ],
         "legendgroup": "PARO RUBIO",
         "lon": [
          -74.0609855587103
         ],
         "marker": {
          "color": "#00cc96"
         },
         "mode": "markers",
         "name": "PARO RUBIO",
         "showlegend": true,
         "subplot": "mapbox",
         "type": "scattermapbox"
        },
        {
         "hovertemplate": "<b>%{hovertext}</b><br><br>BARRIO=LAGO GAITAN<br>Latitud=%{lat}<br>Longitud=%{lon}<extra></extra>",
         "hovertext": [
          "Fundación 78"
         ],
         "lat": [
          4.54966160722963
         ],
         "legendgroup": "LAGO GAITAN",
         "lon": [
          -74.152219389399
         ],
         "marker": {
          "color": "#ab63fa"
         },
         "mode": "markers",
         "name": "LAGO GAITAN",
         "showlegend": true,
         "subplot": "mapbox",
         "type": "scattermapbox"
        },
        {
         "hovertemplate": "<b>%{hovertext}</b><br><br>BARRIO= SAN LUIS<br>Latitud=%{lat}<br>Longitud=%{lon}<extra></extra>",
         "hovertext": [
          "Fundación 79"
         ],
         "lat": [
          4.66867264787466
         ],
         "legendgroup": " SAN LUIS",
         "lon": [
          -74.0234258317268
         ],
         "marker": {
          "color": "#FFA15A"
         },
         "mode": "markers",
         "name": " SAN LUIS",
         "showlegend": true,
         "subplot": "mapbox",
         "type": "scattermapbox"
        },
        {
         "hovertemplate": "<b>%{hovertext}</b><br><br>BARRIO=QUINTA CAMACHO<br>Latitud=%{lat}<br>Longitud=%{lon}<extra></extra>",
         "hovertext": [
          "Fundación 80"
         ],
         "lat": [
          4.65304505311715
         ],
         "legendgroup": "QUINTA CAMACHO",
         "lon": [
          -74.0605451163825
         ],
         "marker": {
          "color": "#19d3f3"
         },
         "mode": "markers",
         "name": "QUINTA CAMACHO",
         "showlegend": true,
         "subplot": "mapbox",
         "type": "scattermapbox"
        },
        {
         "hovertemplate": "<b>%{hovertext}</b><br><br>BARRIO=CHAPINERO ALTO<br>Latitud=%{lat}<br>Longitud=%{lon}<extra></extra>",
         "hovertext": [
          "Fundación 81"
         ],
         "lat": [
          4.66226791672301
         ],
         "legendgroup": "CHAPINERO ALTO",
         "lon": [
          -74.0509378759072
         ],
         "marker": {
          "color": "#FF6692"
         },
         "mode": "markers",
         "name": "CHAPINERO ALTO",
         "showlegend": true,
         "subplot": "mapbox",
         "type": "scattermapbox"
        },
        {
         "hovertemplate": "<b>%{hovertext}</b><br><br>BARRIO=JERUSALEN<br>Latitud=%{lat}<br>Longitud=%{lon}<extra></extra>",
         "hovertext": [
          "Fundación 84"
         ],
         "lat": [
          4.57199370122813
         ],
         "legendgroup": "JERUSALEN",
         "lon": [
          -74.1644668740547
         ],
         "marker": {
          "color": "#B6E880"
         },
         "mode": "markers",
         "name": "JERUSALEN",
         "showlegend": true,
         "subplot": "mapbox",
         "type": "scattermapbox"
        },
        {
         "hovertemplate": "<b>%{hovertext}</b><br><br>BARRIO=LA SOLEDAD<br>Latitud=%{lat}<br>Longitud=%{lon}<extra></extra>",
         "hovertext": [
          "Fundación 85",
          "Fundación 149",
          "Fundación 503",
          "Fundación 506",
          "Fundación 507",
          "Fundación 511",
          "Fundación 517"
         ],
         "lat": [
          4.58673396964682,
          4.6308252,
          4.6276207,
          4.627767,
          4.627767,
          4.6251085,
          4.6258211
         ],
         "legendgroup": "LA SOLEDAD",
         "lon": [
          -74.1016017587104,
          -74.0767397,
          -74.0780884,
          -74.0717325,
          -74.0717325,
          -74.0761298,
          -74.0782507
         ],
         "marker": {
          "color": "#FF97FF"
         },
         "mode": "markers",
         "name": "LA SOLEDAD",
         "showlegend": true,
         "subplot": "mapbox",
         "type": "scattermapbox"
        },
        {
         "hovertemplate": "<b>%{hovertext}</b><br><br>BARRIO=CIUDAD JARDIN<br>Latitud=%{lat}<br>Longitud=%{lon}<extra></extra>",
         "hovertext": [
          "Fundación 86"
         ],
         "lat": [
          4.57963773707633
         ],
         "legendgroup": "CIUDAD JARDIN",
         "lon": [
          -74.0938762163825
         ],
         "marker": {
          "color": "#FECB52"
         },
         "mode": "markers",
         "name": "CIUDAD JARDIN",
         "showlegend": true,
         "subplot": "mapbox",
         "type": "scattermapbox"
        },
        {
         "hovertemplate": "<b>%{hovertext}</b><br><br>BARRIO=JUAN PABLO II<br>Latitud=%{lat}<br>Longitud=%{lon}<extra></extra>",
         "hovertext": [
          "Fundación 87",
          "Fundación 110"
         ],
         "lat": [
          4.55512,
          4.55361
         ],
         "legendgroup": "JUAN PABLO II",
         "lon": [
          -74.14809,
          -74.146428
         ],
         "marker": {
          "color": "#636efa"
         },
         "mode": "markers",
         "name": "JUAN PABLO II",
         "showlegend": true,
         "subplot": "mapbox",
         "type": "scattermapbox"
        },
        {
         "hovertemplate": "<b>%{hovertext}</b><br><br>BARRIO=LA ESTRELLA<br>Latitud=%{lat}<br>Longitud=%{lon}<extra></extra>",
         "hovertext": [
          "Fundación 88"
         ],
         "lat": [
          4.53975
         ],
         "legendgroup": "LA ESTRELLA",
         "lon": [
          -74.14616
         ],
         "marker": {
          "color": "#EF553B"
         },
         "mode": "markers",
         "name": "LA ESTRELLA",
         "showlegend": true,
         "subplot": "mapbox",
         "type": "scattermapbox"
        },
        {
         "hovertemplate": "<b>%{hovertext}</b><br><br>BARRIO=ARBORIZADORA ALTA<br>Latitud=%{lat}<br>Longitud=%{lon}<extra></extra>",
         "hovertext": [
          "Fundación 89"
         ],
         "lat": [
          4.59445
         ],
         "legendgroup": "ARBORIZADORA ALTA",
         "lon": [
          -74.12015
         ],
         "marker": {
          "color": "#00cc96"
         },
         "mode": "markers",
         "name": "ARBORIZADORA ALTA",
         "showlegend": true,
         "subplot": "mapbox",
         "type": "scattermapbox"
        },
        {
         "hovertemplate": "<b>%{hovertext}</b><br><br>BARRIO=LUCERO BAJO<br>Latitud=%{lat}<br>Longitud=%{lon}<extra></extra>",
         "hovertext": [
          "Fundación 90",
          "Fundación 98",
          "Fundación 99"
         ],
         "lat": [
          4.6583185909577,
          4.548787,
          4.548787
         ],
         "legendgroup": "LUCERO BAJO",
         "lon": [
          -74.0645797028907,
          -74.140041,
          -74.140041
         ],
         "marker": {
          "color": "#ab63fa"
         },
         "mode": "markers",
         "name": "LUCERO BAJO",
         "showlegend": true,
         "subplot": "mapbox",
         "type": "scattermapbox"
        },
        {
         "hovertemplate": "<b>%{hovertext}</b><br><br>BARRIO=POTOSÍ<br>Latitud=%{lat}<br>Longitud=%{lon}<extra></extra>",
         "hovertext": [
          "Fundación 91"
         ],
         "lat": [
          4.5669663339397
         ],
         "legendgroup": "POTOSÍ",
         "lon": [
          -74.1689852605629
         ],
         "marker": {
          "color": "#FFA15A"
         },
         "mode": "markers",
         "name": "POTOSÍ",
         "showlegend": true,
         "subplot": "mapbox",
         "type": "scattermapbox"
        },
        {
         "hovertemplate": "<b>%{hovertext}</b><br><br>BARRIO=LUCERO<br>Latitud=%{lat}<br>Longitud=%{lon}<extra></extra>",
         "hovertext": [
          "Fundación 92",
          "Fundación 93",
          "Fundación 94",
          "Fundación 95",
          "Fundación 96"
         ],
         "lat": [
          4.54557411323263,
          4.59500099501465,
          4.61363,
          4.58013999360919,
          4.68346886384852
         ],
         "legendgroup": "LUCERO",
         "lon": [
          -74.1401520470712,
          -74.1918512875464,
          -74.16003,
          -74.1792612010381,
          -74.0594560028907
         ],
         "marker": {
          "color": "#19d3f3"
         },
         "mode": "markers",
         "name": "LUCERO",
         "showlegend": true,
         "subplot": "mapbox",
         "type": "scattermapbox"
        },
        {
         "hovertemplate": "<b>%{hovertext}</b><br><br>BARRIO=CENTRAL<br>Latitud=%{lat}<br>Longitud=%{lon}<extra></extra>",
         "hovertext": [
          "Fundación 97"
         ],
         "lat": [
          4.54494892318819
         ],
         "legendgroup": "CENTRAL",
         "lon": [
          -74.1461189605629
         ],
         "marker": {
          "color": "#FF6692"
         },
         "mode": "markers",
         "name": "CENTRAL",
         "showlegend": true,
         "subplot": "mapbox",
         "type": "scattermapbox"
        },
        {
         "hovertemplate": "<b>%{hovertext}</b><br><br>BARRIO=VISTA HERMOSA<br>Latitud=%{lat}<br>Longitud=%{lon}<extra></extra>",
         "hovertext": [
          "Fundación 100"
         ],
         "lat": [
          4.531738
         ],
         "legendgroup": "VISTA HERMOSA",
         "lon": [
          -74.167628
         ],
         "marker": {
          "color": "#B6E880"
         },
         "mode": "markers",
         "name": "VISTA HERMOSA",
         "showlegend": true,
         "subplot": "mapbox",
         "type": "scattermapbox"
        },
        {
         "hovertemplate": "<b>%{hovertext}</b><br><br>BARRIO= LUCERO<br>Latitud=%{lat}<br>Longitud=%{lon}<extra></extra>",
         "hovertext": [
          "Fundación 101"
         ],
         "lat": [
          4.548681
         ],
         "legendgroup": " LUCERO",
         "lon": [
          -74.139787
         ],
         "marker": {
          "color": "#FF97FF"
         },
         "mode": "markers",
         "name": " LUCERO",
         "showlegend": true,
         "subplot": "mapbox",
         "type": "scattermapbox"
        },
        {
         "hovertemplate": "<b>%{hovertext}</b><br><br>BARRIO=ESTANCIA<br>Latitud=%{lat}<br>Longitud=%{lon}<extra></extra>",
         "hovertext": [
          "Fundación 102"
         ],
         "lat": [
          4.592436
         ],
         "legendgroup": "ESTANCIA",
         "lon": [
          -74.175242
         ],
         "marker": {
          "color": "#FECB52"
         },
         "mode": "markers",
         "name": "ESTANCIA",
         "showlegend": true,
         "subplot": "mapbox",
         "type": "scattermapbox"
        },
        {
         "hovertemplate": "<b>%{hovertext}</b><br><br>BARRIO=ARBORIZADORA BAJA<br>Latitud=%{lat}<br>Longitud=%{lon}<extra></extra>",
         "hovertext": [
          "Fundación 103"
         ],
         "lat": [
          4.574348
         ],
         "legendgroup": "ARBORIZADORA BAJA",
         "lon": [
          -74.150003
         ],
         "marker": {
          "color": "#636efa"
         },
         "mode": "markers",
         "name": "ARBORIZADORA BAJA",
         "showlegend": true,
         "subplot": "mapbox",
         "type": "scattermapbox"
        },
        {
         "hovertemplate": "<b>%{hovertext}</b><br><br>BARRIO=SANTA BIBIANA<br>Latitud=%{lat}<br>Longitud=%{lon}<extra></extra>",
         "hovertext": [
          "Fundación 104"
         ],
         "lat": [
          4.576285
         ],
         "legendgroup": "SANTA BIBIANA",
         "lon": [
          -74.171921
         ],
         "marker": {
          "color": "#EF553B"
         },
         "mode": "markers",
         "name": "SANTA BIBIANA",
         "showlegend": true,
         "subplot": "mapbox",
         "type": "scattermapbox"
        },
        {
         "hovertemplate": "<b>%{hovertext}</b><br><br>BARRIO=LUIS CARLOS GALAN<br>Latitud=%{lat}<br>Longitud=%{lon}<extra></extra>",
         "hovertext": [
          "Fundación 105"
         ],
         "lat": [
          4.562836
         ],
         "legendgroup": "LUIS CARLOS GALAN",
         "lon": [
          -74.147738
         ],
         "marker": {
          "color": "#00cc96"
         },
         "mode": "markers",
         "name": "LUIS CARLOS GALAN",
         "showlegend": true,
         "subplot": "mapbox",
         "type": "scattermapbox"
        },
        {
         "hovertemplate": "<b>%{hovertext}</b><br><br>BARRIO=ISMAEL PERDOMO<br>Latitud=%{lat}<br>Longitud=%{lon}<extra></extra>",
         "hovertext": [
          "Fundación 106"
         ],
         "lat": [
          4.581352
         ],
         "legendgroup": "ISMAEL PERDOMO",
         "lon": [
          -74.169573
         ],
         "marker": {
          "color": "#ab63fa"
         },
         "mode": "markers",
         "name": "ISMAEL PERDOMO",
         "showlegend": true,
         "subplot": "mapbox",
         "type": "scattermapbox"
        },
        {
         "hovertemplate": "<b>%{hovertext}</b><br><br>BARRIO=TESORO<br>Latitud=%{lat}<br>Longitud=%{lon}<extra></extra>",
         "hovertext": [
          "Fundación 107"
         ],
         "lat": [
          4.538745
         ],
         "legendgroup": "TESORO",
         "lon": [
          -74.148385
         ],
         "marker": {
          "color": "#FFA15A"
         },
         "mode": "markers",
         "name": "TESORO",
         "showlegend": true,
         "subplot": "mapbox",
         "type": "scattermapbox"
        },
        {
         "hovertemplate": "<b>%{hovertext}</b><br><br>BARRIO=BELLA FLOR <br>Latitud=%{lat}<br>Longitud=%{lon}<extra></extra>",
         "hovertext": [
          "Fundación 108"
         ],
         "lat": [
          4.544639
         ],
         "legendgroup": "BELLA FLOR ",
         "lon": [
          -74.160982
         ],
         "marker": {
          "color": "#19d3f3"
         },
         "mode": "markers",
         "name": "BELLA FLOR ",
         "showlegend": true,
         "subplot": "mapbox",
         "type": "scattermapbox"
        },
        {
         "hovertemplate": "<b>%{hovertext}</b><br><br>BARRIO=EL MIRADOR<br>Latitud=%{lat}<br>Longitud=%{lon}<extra></extra>",
         "hovertext": [
          "Fundación 109"
         ],
         "lat": [
          4.55227
         ],
         "legendgroup": "EL MIRADOR",
         "lon": [
          -74.158491
         ],
         "marker": {
          "color": "#FF6692"
         },
         "mode": "markers",
         "name": "EL MIRADOR",
         "showlegend": true,
         "subplot": "mapbox",
         "type": "scattermapbox"
        },
        {
         "hovertemplate": "<b>%{hovertext}</b><br><br>BARRIO=NACIONES UNIDAS<br>Latitud=%{lat}<br>Longitud=%{lon}<extra></extra>",
         "hovertext": [
          "Fundación 111"
         ],
         "lat": [
          4.666072
         ],
         "legendgroup": "NACIONES UNIDAS",
         "lon": [
          -74.059391
         ],
         "marker": {
          "color": "#B6E880"
         },
         "mode": "markers",
         "name": "NACIONES UNIDAS",
         "showlegend": true,
         "subplot": "mapbox",
         "type": "scattermapbox"
        },
        {
         "hovertemplate": "<b>%{hovertext}</b><br><br>BARRIO=LA PRADERA<br>Latitud=%{lat}<br>Longitud=%{lon}<extra></extra>",
         "hovertext": [
          "Fundación 112"
         ],
         "lat": [
          4.5739
         ],
         "legendgroup": "LA PRADERA",
         "lon": [
          -74.161629
         ],
         "marker": {
          "color": "#FF97FF"
         },
         "mode": "markers",
         "name": "LA PRADERA",
         "showlegend": true,
         "subplot": "mapbox",
         "type": "scattermapbox"
        },
        {
         "hovertemplate": "<b>%{hovertext}</b><br><br>BARRIO=MOCHUELO<br>Latitud=%{lat}<br>Longitud=%{lon}<extra></extra>",
         "hovertext": [
          "Fundación 113"
         ],
         "lat": [
          4.53839
         ],
         "legendgroup": "MOCHUELO",
         "lon": [
          -74.137059
         ],
         "marker": {
          "color": "#FECB52"
         },
         "mode": "markers",
         "name": "MOCHUELO",
         "showlegend": true,
         "subplot": "mapbox",
         "type": "scattermapbox"
        },
        {
         "hovertemplate": "<b>%{hovertext}</b><br><br>BARRIO= LOS ALPES<br>Latitud=%{lat}<br>Longitud=%{lon}<extra></extra>",
         "hovertext": [
          "Fundación 114"
         ],
         "lat": [
          4.54211
         ],
         "legendgroup": " LOS ALPES",
         "lon": [
          -74.139108
         ],
         "marker": {
          "color": "#636efa"
         },
         "mode": "markers",
         "name": " LOS ALPES",
         "showlegend": true,
         "subplot": "mapbox",
         "type": "scattermapbox"
        },
        {
         "hovertemplate": "<b>%{hovertext}</b><br><br>BARRIO=LAS ACACIAS<br>Latitud=%{lat}<br>Longitud=%{lon}<extra></extra>",
         "hovertext": [
          "Fundación 115"
         ],
         "lat": [
          4.561627
         ],
         "legendgroup": "LAS ACACIAS",
         "lon": [
          -74.143721
         ],
         "marker": {
          "color": "#EF553B"
         },
         "mode": "markers",
         "name": "LAS ACACIAS",
         "showlegend": true,
         "subplot": "mapbox",
         "type": "scattermapbox"
        },
        {
         "hovertemplate": "<b>%{hovertext}</b><br><br>BARRIO=SAN FRANCISCO<br>Latitud=%{lat}<br>Longitud=%{lon}<extra></extra>",
         "hovertext": [
          "Fundación 116",
          "Fundación 132"
         ],
         "lat": [
          4.565702,
          4.587493
         ],
         "legendgroup": "SAN FRANCISCO",
         "lon": [
          -74.148635,
          -74.156223
         ],
         "marker": {
          "color": "#00cc96"
         },
         "mode": "markers",
         "name": "SAN FRANCISCO",
         "showlegend": true,
         "subplot": "mapbox",
         "type": "scattermapbox"
        },
        {
         "hovertemplate": "<b>%{hovertext}</b><br><br>BARRIO=CIUDAD TUNAL<br>Latitud=%{lat}<br>Longitud=%{lon}<extra></extra>",
         "hovertext": [
          "Fundación 117"
         ],
         "lat": [
          4.576094
         ],
         "legendgroup": "CIUDAD TUNAL",
         "lon": [
          -74.136221
         ],
         "marker": {
          "color": "#ab63fa"
         },
         "mode": "markers",
         "name": "CIUDAD TUNAL",
         "showlegend": true,
         "subplot": "mapbox",
         "type": "scattermapbox"
        },
        {
         "hovertemplate": "<b>%{hovertext}</b><br><br>BARRIO=MOCHUELO BAJO<br>Latitud=%{lat}<br>Longitud=%{lon}<extra></extra>",
         "hovertext": [
          "Fundación 118"
         ],
         "lat": [
          4.507148
         ],
         "legendgroup": "MOCHUELO BAJO",
         "lon": [
          -74.144534
         ],
         "marker": {
          "color": "#FFA15A"
         },
         "mode": "markers",
         "name": "MOCHUELO BAJO",
         "showlegend": true,
         "subplot": "mapbox",
         "type": "scattermapbox"
        },
        {
         "hovertemplate": "<b>%{hovertext}</b><br><br>BARRIO=PARAISO QUIBA<br>Latitud=%{lat}<br>Longitud=%{lon}<extra></extra>",
         "hovertext": [
          "Fundación 119"
         ],
         "lat": [
          4.549681
         ],
         "legendgroup": "PARAISO QUIBA",
         "lon": [
          -74.164942
         ],
         "marker": {
          "color": "#19d3f3"
         },
         "mode": "markers",
         "name": "PARAISO QUIBA",
         "showlegend": true,
         "subplot": "mapbox",
         "type": "scattermapbox"
        },
        {
         "hovertemplate": "<b>%{hovertext}</b><br><br>BARRIO=CHIRCALES SUR<br>Latitud=%{lat}<br>Longitud=%{lon}<extra></extra>",
         "hovertext": [
          "Fundación 120"
         ],
         "lat": [
          4.556894
         ],
         "legendgroup": "CHIRCALES SUR",
         "lon": [
          -74.111626
         ],
         "marker": {
          "color": "#FF6692"
         },
         "mode": "markers",
         "name": "CHIRCALES SUR",
         "showlegend": true,
         "subplot": "mapbox",
         "type": "scattermapbox"
        },
        {
         "hovertemplate": "<b>%{hovertext}</b><br><br>BARRIO=POTOSI<br>Latitud=%{lat}<br>Longitud=%{lon}<extra></extra>",
         "hovertext": [
          "Fundación 121",
          "Fundación 123"
         ],
         "lat": [
          4.568874,
          4.567363
         ],
         "legendgroup": "POTOSI",
         "lon": [
          -74.163622,
          -74.170797
         ],
         "marker": {
          "color": "#B6E880"
         },
         "mode": "markers",
         "name": "POTOSI",
         "showlegend": true,
         "subplot": "mapbox",
         "type": "scattermapbox"
        },
        {
         "hovertemplate": "<b>%{hovertext}</b><br><br>BARRIO=SANTA MARTA BAJA<br>Latitud=%{lat}<br>Longitud=%{lon}<extra></extra>",
         "hovertext": [
          "Fundación 122"
         ],
         "lat": [
          4.533085
         ],
         "legendgroup": "SANTA MARTA BAJA",
         "lon": [
          -74.144488
         ],
         "marker": {
          "color": "#FF97FF"
         },
         "mode": "markers",
         "name": "SANTA MARTA BAJA",
         "showlegend": true,
         "subplot": "mapbox",
         "type": "scattermapbox"
        },
        {
         "hovertemplate": "<b>%{hovertext}</b><br><br>BARRIO=RBORIZADORA ALTA<br>Latitud=%{lat}<br>Longitud=%{lon}<extra></extra>",
         "hovertext": [
          "Fundación 124"
         ],
         "lat": [
          4.515485
         ],
         "legendgroup": "RBORIZADORA ALTA",
         "lon": [
          -74.119584
         ],
         "marker": {
          "color": "#FECB52"
         },
         "mode": "markers",
         "name": "RBORIZADORA ALTA",
         "showlegend": true,
         "subplot": "mapbox",
         "type": "scattermapbox"
        },
        {
         "hovertemplate": "<b>%{hovertext}</b><br><br>BARRIO=EL MOCHUELO<br>Latitud=%{lat}<br>Longitud=%{lon}<extra></extra>",
         "hovertext": [
          "Fundación 125"
         ],
         "lat": [
          4.538388
         ],
         "legendgroup": "EL MOCHUELO",
         "lon": [
          -74.137059
         ],
         "marker": {
          "color": "#636efa"
         },
         "mode": "markers",
         "name": "EL MOCHUELO",
         "showlegend": true,
         "subplot": "mapbox",
         "type": "scattermapbox"
        },
        {
         "hovertemplate": "<b>%{hovertext}</b><br><br>BARRIO=OSE DOMINGO LAIN II SECTOR<br>Latitud=%{lat}<br>Longitud=%{lon}<extra></extra>",
         "hovertext": [
          "Fundación 126"
         ],
         "lat": [
          4.555876
         ],
         "legendgroup": "OSE DOMINGO LAIN II SECTOR",
         "lon": [
          -74.142592
         ],
         "marker": {
          "color": "#EF553B"
         },
         "mode": "markers",
         "name": "OSE DOMINGO LAIN II SECTOR",
         "showlegend": true,
         "subplot": "mapbox",
         "type": "scattermapbox"
        },
        {
         "hovertemplate": "<b>%{hovertext}</b><br><br>BARRIO=LOS ALMENDROS<br>Latitud=%{lat}<br>Longitud=%{lon}<extra></extra>",
         "hovertext": [
          "Fundación 127",
          "Fundación 204",
          "Fundación 255",
          "Fundación 468",
          "Fundación 483"
         ],
         "lat": [
          4.649315,
          4.63254265104949,
          4.6387081,
          4.645855583,
          4.757044335
         ],
         "legendgroup": "LOS ALMENDROS",
         "lon": [
          -74.1764,
          -74.1473043948932,
          -74.1910018,
          -74.17653292,
          -74.09873951
         ],
         "marker": {
          "color": "#00cc96"
         },
         "mode": "markers",
         "name": "LOS ALMENDROS",
         "showlegend": true,
         "subplot": "mapbox",
         "type": "scattermapbox"
        },
        {
         "hovertemplate": "<b>%{hovertext}</b><br><br>BARRIO=PARQUE ILLIMANI<br>Latitud=%{lat}<br>Longitud=%{lon}<extra></extra>",
         "hovertext": [
          "Fundación 128"
         ],
         "lat": [
          4.576686
         ],
         "legendgroup": "PARQUE ILLIMANI",
         "lon": [
          -74.172146
         ],
         "marker": {
          "color": "#ab63fa"
         },
         "mode": "markers",
         "name": "PARQUE ILLIMANI",
         "showlegend": true,
         "subplot": "mapbox",
         "type": "scattermapbox"
        },
        {
         "hovertemplate": "<b>%{hovertext}</b><br><br>BARRIO= ALAMEDA<br>Latitud=%{lat}<br>Longitud=%{lon}<extra></extra>",
         "hovertext": [
          "Fundación 129"
         ],
         "lat": [
          4.550188
         ],
         "legendgroup": " ALAMEDA",
         "lon": [
          -74.142111
         ],
         "marker": {
          "color": "#FFA15A"
         },
         "mode": "markers",
         "name": " ALAMEDA",
         "showlegend": true,
         "subplot": "mapbox",
         "type": "scattermapbox"
        },
        {
         "hovertemplate": "<b>%{hovertext}</b><br><br>BARRIO=SOTAVENTO<br>Latitud=%{lat}<br>Longitud=%{lon}<extra></extra>",
         "hovertext": [
          "Fundación 130"
         ],
         "lat": [
          4.542432
         ],
         "legendgroup": "SOTAVENTO",
         "lon": [
          -74.138502
         ],
         "marker": {
          "color": "#19d3f3"
         },
         "mode": "markers",
         "name": "SOTAVENTO",
         "showlegend": true,
         "subplot": "mapbox",
         "type": "scattermapbox"
        },
        {
         "hovertemplate": "<b>%{hovertext}</b><br><br>BARRIO=SANTA LIBRADA<br>Latitud=%{lat}<br>Longitud=%{lon}<extra></extra>",
         "hovertext": [
          "Fundación 131",
          "Fundación 243",
          "Fundación 500",
          "Fundación 572",
          "Fundación 587"
         ],
         "lat": [
          4.569831,
          4.5166655,
          4.5128126,
          4.5123074,
          4.5139945
         ],
         "legendgroup": "SANTA LIBRADA",
         "lon": [
          -74.163533,
          -74.1210078,
          -74.1109085,
          -74.116254,
          -74.1143554
         ],
         "marker": {
          "color": "#FF6692"
         },
         "mode": "markers",
         "name": "SANTA LIBRADA",
         "showlegend": true,
         "subplot": "mapbox",
         "type": "scattermapbox"
        },
        {
         "hovertemplate": "<b>%{hovertext}</b><br><br>BARRIO=JOSÉ DOMINGO LAIN <br>Latitud=%{lat}<br>Longitud=%{lon}<extra></extra>",
         "hovertext": [
          "Fundación 133"
         ],
         "lat": [
          4.556052
         ],
         "legendgroup": "JOSÉ DOMINGO LAIN ",
         "lon": [
          -74.143624
         ],
         "marker": {
          "color": "#B6E880"
         },
         "mode": "markers",
         "name": "JOSÉ DOMINGO LAIN ",
         "showlegend": true,
         "subplot": "mapbox",
         "type": "scattermapbox"
        },
        {
         "hovertemplate": "<b>%{hovertext}</b><br><br>BARRIO=LAS MARGARITAS<br>Latitud=%{lat}<br>Longitud=%{lon}<extra></extra>",
         "hovertext": [
          "Fundación 135",
          "Fundación 291",
          "Fundación 554"
         ],
         "lat": [
          4.617364,
          4.7337748,
          4.739945
         ],
         "legendgroup": "LAS MARGARITAS",
         "lon": [
          -74.148158,
          -74.0456092,
          -74.0678612
         ],
         "marker": {
          "color": "#FF97FF"
         },
         "mode": "markers",
         "name": "LAS MARGARITAS",
         "showlegend": true,
         "subplot": "mapbox",
         "type": "scattermapbox"
        },
        {
         "hovertemplate": "<b>%{hovertext}</b><br><br>BARRIO=SAN MARTIN DE LOBA<br>Latitud=%{lat}<br>Longitud=%{lon}<extra></extra>",
         "hovertext": [
          "Fundación 136",
          "Fundación 379"
         ],
         "lat": [
          4.600111,
          4.5496954
         ],
         "legendgroup": "SAN MARTIN DE LOBA",
         "lon": [
          -74.086438,
          -74.1021273
         ],
         "marker": {
          "color": "#FECB52"
         },
         "mode": "markers",
         "name": "SAN MARTIN DE LOBA",
         "showlegend": true,
         "subplot": "mapbox",
         "type": "scattermapbox"
        },
        {
         "hovertemplate": "<b>%{hovertext}</b><br><br>BARRIO=EL RECUERDO MEDIO (ZONA DE INVASIÓN)<br>Latitud=%{lat}<br>Longitud=%{lon}<extra></extra>",
         "hovertext": [
          "Fundación 137"
         ],
         "lat": [
          4.509303
         ],
         "legendgroup": "EL RECUERDO MEDIO (ZONA DE INVASIÓN)",
         "lon": [
          -74.11017
         ],
         "marker": {
          "color": "#636efa"
         },
         "mode": "markers",
         "name": "EL RECUERDO MEDIO (ZONA DE INVASIÓN)",
         "showlegend": true,
         "subplot": "mapbox",
         "type": "scattermapbox"
        },
        {
         "hovertemplate": "<b>%{hovertext}</b><br><br>BARRIO=DOMINGO LAIN<br>Latitud=%{lat}<br>Longitud=%{lon}<extra></extra>",
         "hovertext": [
          "Fundación 138"
         ],
         "lat": [
          4.554554
         ],
         "legendgroup": "DOMINGO LAIN",
         "lon": [
          -74.142998
         ],
         "marker": {
          "color": "#EF553B"
         },
         "mode": "markers",
         "name": "DOMINGO LAIN",
         "showlegend": true,
         "subplot": "mapbox",
         "type": "scattermapbox"
        },
        {
         "hovertemplate": "<b>%{hovertext}</b><br><br>BARRIO=SANTO DOMINGO<br>Latitud=%{lat}<br>Longitud=%{lon}<extra></extra>",
         "hovertext": [
          "Fundación 140",
          "Fundación 424"
         ],
         "lat": [
          4.5844754,
          4.57859
         ],
         "legendgroup": "SANTO DOMINGO",
         "lon": [
          -74.1593461,
          -74.179665
         ],
         "marker": {
          "color": "#ab63fa"
         },
         "mode": "markers",
         "name": "SANTO DOMINGO",
         "showlegend": true,
         "subplot": "mapbox",
         "type": "scattermapbox"
        },
        {
         "hovertemplate": "<b>%{hovertext}</b><br><br>BARRIO=MADELENA<br>Latitud=%{lat}<br>Longitud=%{lon}<extra></extra>",
         "hovertext": [
          "Fundación 141",
          "Fundación 432",
          "Fundación 606"
         ],
         "lat": [
          4.5940229,
          4.573365,
          4.59162699205903
         ],
         "legendgroup": "MADELENA",
         "lon": [
          -74.156431,
          -74.2101692,
          -74.1568063882062
         ],
         "marker": {
          "color": "#FFA15A"
         },
         "mode": "markers",
         "name": "MADELENA",
         "showlegend": true,
         "subplot": "mapbox",
         "type": "scattermapbox"
        },
        {
         "hovertemplate": "<b>%{hovertext}</b><br><br>BARRIO=CARACOLÍ<br>Latitud=%{lat}<br>Longitud=%{lon}<extra></extra>",
         "hovertext": [
          "Fundación 142"
         ],
         "lat": [
          4.5726382
         ],
         "legendgroup": "CARACOLÍ",
         "lon": [
          -74.1709965
         ],
         "marker": {
          "color": "#19d3f3"
         },
         "mode": "markers",
         "name": "CARACOLÍ",
         "showlegend": true,
         "subplot": "mapbox",
         "type": "scattermapbox"
        },
        {
         "hovertemplate": "<b>%{hovertext}</b><br><br>BARRIO=BELLA FLOR<br>Latitud=%{lat}<br>Longitud=%{lon}<extra></extra>",
         "hovertext": [
          "Fundación 143",
          "Fundación 304"
         ],
         "lat": [
          4.5415855,
          4.5450766
         ],
         "legendgroup": "BELLA FLOR",
         "lon": [
          -74.1624523,
          -74.1612213
         ],
         "marker": {
          "color": "#FF6692"
         },
         "mode": "markers",
         "name": "BELLA FLOR",
         "showlegend": true,
         "subplot": "mapbox",
         "type": "scattermapbox"
        },
        {
         "hovertemplate": "<b>%{hovertext}</b><br><br>BARRIO=BELLA VISTA<br>Latitud=%{lat}<br>Longitud=%{lon}<extra></extra>",
         "hovertext": [
          "Fundación 144"
         ],
         "lat": [
          4.5747613
         ],
         "legendgroup": "BELLA VISTA",
         "lon": [
          -74.1586981
         ],
         "marker": {
          "color": "#B6E880"
         },
         "mode": "markers",
         "name": "BELLA VISTA",
         "showlegend": true,
         "subplot": "mapbox",
         "type": "scattermapbox"
        },
        {
         "hovertemplate": "<b>%{hovertext}</b><br><br>BARRIO=LA ACACIA SUR<br>Latitud=%{lat}<br>Longitud=%{lon}<extra></extra>",
         "hovertext": [
          "Fundación 145"
         ],
         "lat": [
          4.5600986
         ],
         "legendgroup": "LA ACACIA SUR",
         "lon": [
          -74.1419427
         ],
         "marker": {
          "color": "#FF97FF"
         },
         "mode": "markers",
         "name": "LA ACACIA SUR",
         "showlegend": true,
         "subplot": "mapbox",
         "type": "scattermapbox"
        },
        {
         "hovertemplate": "<b>%{hovertext}</b><br><br>BARRIO=PARAISO<br>Latitud=%{lat}<br>Longitud=%{lon}<extra></extra>",
         "hovertext": [
          "Fundación 146",
          "Fundación 305"
         ],
         "lat": [
          4.6070297,
          4.54929
         ],
         "legendgroup": "PARAISO",
         "lon": [
          -74.2041025,
          -74.1602
         ],
         "marker": {
          "color": "#FECB52"
         },
         "mode": "markers",
         "name": "PARAISO",
         "showlegend": true,
         "subplot": "mapbox",
         "type": "scattermapbox"
        },
        {
         "hovertemplate": "<b>%{hovertext}</b><br><br>BARRIO=PROVIVIENDA OCCIDENTAL<br>Latitud=%{lat}<br>Longitud=%{lon}<extra></extra>",
         "hovertext": [
          "Fundación 150"
         ],
         "lat": [
          4.639753
         ],
         "legendgroup": "PROVIVIENDA OCCIDENTAL",
         "lon": [
          -74.1682081
         ],
         "marker": {
          "color": "#636efa"
         },
         "mode": "markers",
         "name": "PROVIVIENDA OCCIDENTAL",
         "showlegend": true,
         "subplot": "mapbox",
         "type": "scattermapbox"
        },
        {
         "hovertemplate": "<b>%{hovertext}</b><br><br>BARRIO=BACHUE<br>Latitud=%{lat}<br>Longitud=%{lon}<extra></extra>",
         "hovertext": [
          "Fundación 152"
         ],
         "lat": [
          4.7153765
         ],
         "legendgroup": "BACHUE",
         "lon": [
          -74.1030595
         ],
         "marker": {
          "color": "#EF553B"
         },
         "mode": "markers",
         "name": "BACHUE",
         "showlegend": true,
         "subplot": "mapbox",
         "type": "scattermapbox"
        },
        {
         "hovertemplate": "<b>%{hovertext}</b><br><br>BARRIO=QUIRIGUA<br>Latitud=%{lat}<br>Longitud=%{lon}<extra></extra>",
         "hovertext": [
          "Fundación 153"
         ],
         "lat": [
          4.7118717
         ],
         "legendgroup": "QUIRIGUA",
         "lon": [
          -74.1008184
         ],
         "marker": {
          "color": "#00cc96"
         },
         "mode": "markers",
         "name": "QUIRIGUA",
         "showlegend": true,
         "subplot": "mapbox",
         "type": "scattermapbox"
        },
        {
         "hovertemplate": "<b>%{hovertext}</b><br><br>BARRIO=NORMANDIA OCCIDENTAL <br>Latitud=%{lat}<br>Longitud=%{lon}<extra></extra>",
         "hovertext": [
          "Fundación 154"
         ],
         "lat": [
          4.6672996
         ],
         "legendgroup": "NORMANDIA OCCIDENTAL ",
         "lon": [
          -74.0563696
         ],
         "marker": {
          "color": "#ab63fa"
         },
         "mode": "markers",
         "name": "NORMANDIA OCCIDENTAL ",
         "showlegend": true,
         "subplot": "mapbox",
         "type": "scattermapbox"
        },
        {
         "hovertemplate": "<b>%{hovertext}</b><br><br>BARRIO=BACHUE 2 SECTOR. BOCHICA<br>Latitud=%{lat}<br>Longitud=%{lon}<extra></extra>",
         "hovertext": [
          "Fundación 155"
         ],
         "lat": [
          4.701471
         ],
         "legendgroup": "BACHUE 2 SECTOR. BOCHICA",
         "lon": [
          -74.0968875
         ],
         "marker": {
          "color": "#FFA15A"
         },
         "mode": "markers",
         "name": "BACHUE 2 SECTOR. BOCHICA",
         "showlegend": true,
         "subplot": "mapbox",
         "type": "scattermapbox"
        },
        {
         "hovertemplate": "<b>%{hovertext}</b><br><br>BARRIO=FLORESTA<br>Latitud=%{lat}<br>Longitud=%{lon}<extra></extra>",
         "hovertext": [
          "Fundación 156"
         ],
         "lat": [
          4.7010664
         ],
         "legendgroup": "FLORESTA",
         "lon": [
          -74.0690094
         ],
         "marker": {
          "color": "#19d3f3"
         },
         "mode": "markers",
         "name": "FLORESTA",
         "showlegend": true,
         "subplot": "mapbox",
         "type": "scattermapbox"
        },
        {
         "hovertemplate": "<b>%{hovertext}</b><br><br>BARRIO=VILLAS DEL DORADO<br>Latitud=%{lat}<br>Longitud=%{lon}<extra></extra>",
         "hovertext": [
          "Fundación 157"
         ],
         "lat": [
          4.7068767
         ],
         "legendgroup": "VILLAS DEL DORADO",
         "lon": [
          -74.127835
         ],
         "marker": {
          "color": "#FF6692"
         },
         "mode": "markers",
         "name": "VILLAS DEL DORADO",
         "showlegend": true,
         "subplot": "mapbox",
         "type": "scattermapbox"
        },
        {
         "hovertemplate": "<b>%{hovertext}</b><br><br>BARRIO=MINUTO DE DIOS<br>Latitud=%{lat}<br>Longitud=%{lon}<extra></extra>",
         "hovertext": [
          "Fundación 158",
          "Fundación 280"
         ],
         "lat": [
          4.7018087,
          4.702861
         ],
         "legendgroup": "MINUTO DE DIOS",
         "lon": [
          -74.0897555,
          -74.0898362
         ],
         "marker": {
          "color": "#B6E880"
         },
         "mode": "markers",
         "name": "MINUTO DE DIOS",
         "showlegend": true,
         "subplot": "mapbox",
         "type": "scattermapbox"
        },
        {
         "hovertemplate": "<b>%{hovertext}</b><br><br>BARRIO=SANTA MARÍA DEL LAGO<br>Latitud=%{lat}<br>Longitud=%{lon}<extra></extra>",
         "hovertext": [
          "Fundación 159",
          "Fundación 407"
         ],
         "lat": [
          4.6899311,
          4.69175705433868
         ],
         "legendgroup": "SANTA MARÍA DEL LAGO",
         "lon": [
          -74.0970692,
          -74.0939298609943
         ],
         "marker": {
          "color": "#FF97FF"
         },
         "mode": "markers",
         "name": "SANTA MARÍA DEL LAGO",
         "showlegend": true,
         "subplot": "mapbox",
         "type": "scattermapbox"
        },
        {
         "hovertemplate": "<b>%{hovertext}</b><br><br>BARRIO=JARDIN BOTÁNICO<br>Latitud=%{lat}<br>Longitud=%{lon}<extra></extra>",
         "hovertext": [
          "Fundación 160",
          "Fundación 161"
         ],
         "lat": [
          4.6643934,
          4.6643934
         ],
         "legendgroup": "JARDIN BOTÁNICO",
         "lon": [
          -74.1051502,
          -74.1051502
         ],
         "marker": {
          "color": "#FECB52"
         },
         "mode": "markers",
         "name": "JARDIN BOTÁNICO",
         "showlegend": true,
         "subplot": "mapbox",
         "type": "scattermapbox"
        },
        {
         "hovertemplate": "<b>%{hovertext}</b><br><br>BARRIO= BOSQUE POPULAR<br>Latitud=%{lat}<br>Longitud=%{lon}<extra></extra>",
         "hovertext": [
          "Fundación 162"
         ],
         "lat": [
          4.6693301
         ],
         "legendgroup": " BOSQUE POPULAR",
         "lon": [
          -74.0984687
         ],
         "marker": {
          "color": "#636efa"
         },
         "mode": "markers",
         "name": " BOSQUE POPULAR",
         "showlegend": true,
         "subplot": "mapbox",
         "type": "scattermapbox"
        },
        {
         "hovertemplate": "<b>%{hovertext}</b><br><br>BARRIO= LA FAENA<br>Latitud=%{lat}<br>Longitud=%{lon}<extra></extra>",
         "hovertext": [
          "Fundación 163"
         ],
         "lat": [
          4.7180382
         ],
         "legendgroup": " LA FAENA",
         "lon": [
          -74.1373234
         ],
         "marker": {
          "color": "#EF553B"
         },
         "mode": "markers",
         "name": " LA FAENA",
         "showlegend": true,
         "subplot": "mapbox",
         "type": "scattermapbox"
        },
        {
         "hovertemplate": "<b>%{hovertext}</b><br><br>BARRIO=VIA COTA VEREDA PARCELAS<br>Latitud=%{lat}<br>Longitud=%{lon}<extra></extra>",
         "hovertext": [
          "Fundación 164"
         ],
         "lat": [
          4.7527485
         ],
         "legendgroup": "VIA COTA VEREDA PARCELAS",
         "lon": [
          -74.1342364
         ],
         "marker": {
          "color": "#00cc96"
         },
         "mode": "markers",
         "name": "VIA COTA VEREDA PARCELAS",
         "showlegend": true,
         "subplot": "mapbox",
         "type": "scattermapbox"
        },
        {
         "hovertemplate": "<b>%{hovertext}</b><br><br>BARRIO=LAS FERIAS. BONANZA<br>Latitud=%{lat}<br>Longitud=%{lon}<extra></extra>",
         "hovertext": [
          "Fundación 165"
         ],
         "lat": [
          4.6865426
         ],
         "legendgroup": "LAS FERIAS. BONANZA",
         "lon": [
          -74.0822725
         ],
         "marker": {
          "color": "#ab63fa"
         },
         "mode": "markers",
         "name": "LAS FERIAS. BONANZA",
         "showlegend": true,
         "subplot": "mapbox",
         "type": "scattermapbox"
        },
        {
         "hovertemplate": "<b>%{hovertext}</b><br><br>BARRIO=AVENIDA ROJAS<br>Latitud=%{lat}<br>Longitud=%{lon}<extra></extra>",
         "hovertext": [
          "Fundación 167"
         ],
         "lat": [
          4.6907385
         ],
         "legendgroup": "AVENIDA ROJAS",
         "lon": [
          -74.086677
         ],
         "marker": {
          "color": "#FFA15A"
         },
         "mode": "markers",
         "name": "AVENIDA ROJAS",
         "showlegend": true,
         "subplot": "mapbox",
         "type": "scattermapbox"
        },
        {
         "hovertemplate": "<b>%{hovertext}</b><br><br>BARRIO=NORMANDÍA<br>Latitud=%{lat}<br>Longitud=%{lon}<extra></extra>",
         "hovertext": [
          "Fundación 168",
          "Fundación 599"
         ],
         "lat": [
          4.6697437,
          4.65821076276073
         ],
         "legendgroup": "NORMANDÍA",
         "lon": [
          -74.1036432,
          -74.1307747364376
         ],
         "marker": {
          "color": "#19d3f3"
         },
         "mode": "markers",
         "name": "NORMANDÍA",
         "showlegend": true,
         "subplot": "mapbox",
         "type": "scattermapbox"
        },
        {
         "hovertemplate": "<b>%{hovertext}</b><br><br>BARRIO=LAS FERIAS OCCIDENTE<br>Latitud=%{lat}<br>Longitud=%{lon}<extra></extra>",
         "hovertext": [
          "Fundación 169"
         ],
         "lat": [
          4.6876583
         ],
         "legendgroup": "LAS FERIAS OCCIDENTE",
         "lon": [
          -74.0870746
         ],
         "marker": {
          "color": "#FF6692"
         },
         "mode": "markers",
         "name": "LAS FERIAS OCCIDENTE",
         "showlegend": true,
         "subplot": "mapbox",
         "type": "scattermapbox"
        },
        {
         "hovertemplate": "<b>%{hovertext}</b><br><br>BARRIO=FINCA EL BOSQUE - COTA CUNDINAMARCA<br>Latitud=%{lat}<br>Longitud=%{lon}<extra></extra>",
         "hovertext": [
          "Fundación 170"
         ],
         "lat": [
          4.671808
         ],
         "legendgroup": "FINCA EL BOSQUE - COTA CUNDINAMARCA",
         "lon": [
          -73.99771
         ],
         "marker": {
          "color": "#B6E880"
         },
         "mode": "markers",
         "name": "FINCA EL BOSQUE - COTA CUNDINAMARCA",
         "showlegend": true,
         "subplot": "mapbox",
         "type": "scattermapbox"
        },
        {
         "hovertemplate": "<b>%{hovertext}</b><br><br>BARRIO=QUIRIGUA ORIENTAL<br>Latitud=%{lat}<br>Longitud=%{lon}<extra></extra>",
         "hovertext": [
          "Fundación 171"
         ],
         "lat": [
          4.7076384
         ],
         "legendgroup": "QUIRIGUA ORIENTAL",
         "lon": [
          -74.1046111
         ],
         "marker": {
          "color": "#FF97FF"
         },
         "mode": "markers",
         "name": "QUIRIGUA ORIENTAL",
         "showlegend": true,
         "subplot": "mapbox",
         "type": "scattermapbox"
        },
        {
         "hovertemplate": "<b>%{hovertext}</b><br><br>BARRIO=FLORENCIA<br>Latitud=%{lat}<br>Longitud=%{lon}<extra></extra>",
         "hovertext": [
          "Fundación 173"
         ],
         "lat": [
          4.7011357
         ],
         "legendgroup": "FLORENCIA",
         "lon": [
          -74.1101629
         ],
         "marker": {
          "color": "#FECB52"
         },
         "mode": "markers",
         "name": "FLORENCIA",
         "showlegend": true,
         "subplot": "mapbox",
         "type": "scattermapbox"
        },
        {
         "hovertemplate": "<b>%{hovertext}</b><br><br>BARRIO=SAN ANTONIO<br>Latitud=%{lat}<br>Longitud=%{lon}<extra></extra>",
         "hovertext": [
          "Fundación 174",
          "Fundación 251",
          "Fundación 448"
         ],
         "lat": [
          4.6999926,
          4.6266164,
          4.5782713
         ],
         "legendgroup": "SAN ANTONIO",
         "lon": [
          -74.1255565,
          -74.1974116,
          -74.2426224
         ],
         "marker": {
          "color": "#636efa"
         },
         "mode": "markers",
         "name": "SAN ANTONIO",
         "showlegend": true,
         "subplot": "mapbox",
         "type": "scattermapbox"
        },
        {
         "hovertemplate": "<b>%{hovertext}</b><br><br>BARRIO=BONANZA<br>Latitud=%{lat}<br>Longitud=%{lon}<extra></extra>",
         "hovertext": [
          "Fundación 175",
          "Fundación 614",
          "Fundación 615"
         ],
         "lat": [
          4.6944886,
          4.59218063169085,
          4.59218063169085
         ],
         "legendgroup": "BONANZA",
         "lon": [
          -74.089332,
          -74.0854591739624,
          -74.0854591739624
         ],
         "marker": {
          "color": "#EF553B"
         },
         "mode": "markers",
         "name": "BONANZA",
         "showlegend": true,
         "subplot": "mapbox",
         "type": "scattermapbox"
        },
        {
         "hovertemplate": "<b>%{hovertext}</b><br><br>BARRIO=BOYACÁ REAL<br>Latitud=%{lat}<br>Longitud=%{lon}<extra></extra>",
         "hovertext": [
          "Fundación 176"
         ],
         "lat": [
          4.6872755
         ],
         "legendgroup": "BOYACÁ REAL",
         "lon": [
          -74.0961224
         ],
         "marker": {
          "color": "#00cc96"
         },
         "mode": "markers",
         "name": "BOYACÁ REAL",
         "showlegend": true,
         "subplot": "mapbox",
         "type": "scattermapbox"
        },
        {
         "hovertemplate": "<b>%{hovertext}</b><br><br>BARRIO=CIUDADELA COLSUBSIDIO<br>Latitud=%{lat}<br>Longitud=%{lon}<extra></extra>",
         "hovertext": [
          "Fundación 177"
         ],
         "lat": [
          4.7148549
         ],
         "legendgroup": "CIUDADELA COLSUBSIDIO",
         "lon": [
          -74.1044666
         ],
         "marker": {
          "color": "#ab63fa"
         },
         "mode": "markers",
         "name": "CIUDADELA COLSUBSIDIO",
         "showlegend": true,
         "subplot": "mapbox",
         "type": "scattermapbox"
        },
        {
         "hovertemplate": "<b>%{hovertext}</b><br><br>BARRIO=VILLA LUZ<br>Latitud=%{lat}<br>Longitud=%{lon}<extra></extra>",
         "hovertext": [
          "Fundación 178"
         ],
         "lat": [
          4.6792239
         ],
         "legendgroup": "VILLA LUZ",
         "lon": [
          -74.1100368
         ],
         "marker": {
          "color": "#FFA15A"
         },
         "mode": "markers",
         "name": "VILLA LUZ",
         "showlegend": true,
         "subplot": "mapbox",
         "type": "scattermapbox"
        },
        {
         "hovertemplate": "<b>%{hovertext}</b><br><br>BARRIO=ESTRADA<br>Latitud=%{lat}<br>Longitud=%{lon}<extra></extra>",
         "hovertext": [
          "Fundación 179"
         ],
         "lat": [
          4.6787006
         ],
         "legendgroup": "ESTRADA",
         "lon": [
          -74.0929104
         ],
         "marker": {
          "color": "#19d3f3"
         },
         "mode": "markers",
         "name": "ESTRADA",
         "showlegend": true,
         "subplot": "mapbox",
         "type": "scattermapbox"
        },
        {
         "hovertemplate": "<b>%{hovertext}</b><br><br>BARRIO=LA GIRALDA<br>Latitud=%{lat}<br>Longitud=%{lon}<extra></extra>",
         "hovertext": [
          "Fundación 181"
         ],
         "lat": [
          4.62765478668079
         ],
         "legendgroup": "LA GIRALDA",
         "lon": [
          -74.078080353
         ],
         "marker": {
          "color": "#FF6692"
         },
         "mode": "markers",
         "name": "LA GIRALDA",
         "showlegend": true,
         "subplot": "mapbox",
         "type": "scattermapbox"
        },
        {
         "hovertemplate": "<b>%{hovertext}</b><br><br>BARRIO=SAN JOSE<br>Latitud=%{lat}<br>Longitud=%{lon}<extra></extra>",
         "hovertext": [
          "Fundación 182",
          "Fundación 374"
         ],
         "lat": [
          4.68356168057896,
          4.6121581
         ],
         "legendgroup": "SAN JOSE",
         "lon": [
          -74.132086003,
          -74.0730933
         ],
         "marker": {
          "color": "#B6E880"
         },
         "mode": "markers",
         "name": "SAN JOSE",
         "showlegend": true,
         "subplot": "mapbox",
         "type": "scattermapbox"
        },
        {
         "hovertemplate": "<b>%{hovertext}</b><br><br>BARRIO=FONTIBÓN CENTRO<br>Latitud=%{lat}<br>Longitud=%{lon}<extra></extra>",
         "hovertext": [
          "Fundación 183"
         ],
         "lat": [
          4.67658891771504
         ],
         "legendgroup": "FONTIBÓN CENTRO",
         "lon": [
          -74.1381131745471
         ],
         "marker": {
          "color": "#FF97FF"
         },
         "mode": "markers",
         "name": "FONTIBÓN CENTRO",
         "showlegend": true,
         "subplot": "mapbox",
         "type": "scattermapbox"
        },
        {
         "hovertemplate": "<b>%{hovertext}</b><br><br>BARRIO=PORVENIR RIO VIA MOSQUERA<br>Latitud=%{lat}<br>Longitud=%{lon}<extra></extra>",
         "hovertext": [
          "Fundación 184"
         ],
         "lat": [
          4.69296713014783
         ],
         "legendgroup": "PORVENIR RIO VIA MOSQUERA",
         "lon": [
          -74.1723109425913
         ],
         "marker": {
          "color": "#FECB52"
         },
         "mode": "markers",
         "name": "PORVENIR RIO VIA MOSQUERA",
         "showlegend": true,
         "subplot": "mapbox",
         "type": "scattermapbox"
        },
        {
         "hovertemplate": "<b>%{hovertext}</b><br><br>BARRIO=VILLEMAR<br>Latitud=%{lat}<br>Longitud=%{lon}<extra></extra>",
         "hovertext": [
          "Fundación 185"
         ],
         "lat": [
          4.67310781106113
         ],
         "legendgroup": "VILLEMAR",
         "lon": [
          -74.138161311688
         ],
         "marker": {
          "color": "#636efa"
         },
         "mode": "markers",
         "name": "VILLEMAR",
         "showlegend": true,
         "subplot": "mapbox",
         "type": "scattermapbox"
        },
        {
         "hovertemplate": "<b>%{hovertext}</b><br><br>BARRIO=BELEN<br>Latitud=%{lat}<br>Longitud=%{lon}<extra></extra>",
         "hovertext": [
          "Fundación 186"
         ],
         "lat": [
          4.67835601010682
         ],
         "legendgroup": "BELEN",
         "lon": [
          -74.1480531438566
         ],
         "marker": {
          "color": "#EF553B"
         },
         "mode": "markers",
         "name": "BELEN",
         "showlegend": true,
         "subplot": "mapbox",
         "type": "scattermapbox"
        },
        {
         "hovertemplate": "<b>%{hovertext}</b><br><br>BARRIO=GALAN<br>Latitud=%{lat}<br>Longitud=%{lon}<extra></extra>",
         "hovertext": [
          "Fundación 187",
          "Fundación 307"
         ],
         "lat": [
          4.64760125495714,
          4.6446623
         ],
         "legendgroup": "GALAN",
         "lon": [
          -74.1729809917466,
          -74.1706204
         ],
         "marker": {
          "color": "#00cc96"
         },
         "mode": "markers",
         "name": "GALAN",
         "showlegend": true,
         "subplot": "mapbox",
         "type": "scattermapbox"
        },
        {
         "hovertemplate": "<b>%{hovertext}</b><br><br>BARRIO= MODELIA<br>Latitud=%{lat}<br>Longitud=%{lon}<extra></extra>",
         "hovertext": [
          "Fundación 188",
          "Fundación 487"
         ],
         "lat": [
          4.67159504114539,
          4.700748831
         ],
         "legendgroup": " MODELIA",
         "lon": [
          -74.1188288949631,
          -74.07538628
         ],
         "marker": {
          "color": "#ab63fa"
         },
         "mode": "markers",
         "name": " MODELIA",
         "showlegend": true,
         "subplot": "mapbox",
         "type": "scattermapbox"
        },
        {
         "hovertemplate": "<b>%{hovertext}</b><br><br>BARRIO= PIO XXII<br>Latitud=%{lat}<br>Longitud=%{lon}<extra></extra>",
         "hovertext": [
          "Fundación 189"
         ],
         "lat": [
          4.63524024033512
         ],
         "legendgroup": " PIO XXII",
         "lon": [
          -74.1491183168746
         ],
         "marker": {
          "color": "#FFA15A"
         },
         "mode": "markers",
         "name": " PIO XXII",
         "showlegend": true,
         "subplot": "mapbox",
         "type": "scattermapbox"
        },
        {
         "hovertemplate": "<b>%{hovertext}</b><br><br>BARRIO=SANTA CECILIA<br>Latitud=%{lat}<br>Longitud=%{lon}<extra></extra>",
         "hovertext": [
          "Fundación 190",
          "Fundación 298",
          "Fundación 493"
         ],
         "lat": [
          4.66847202093992,
          4.6250332,
          4.742926548
         ],
         "legendgroup": "SANTA CECILIA",
         "lon": [
          -74.1211966322199,
          -74.1454398,
          -74.12628995
         ],
         "marker": {
          "color": "#19d3f3"
         },
         "mode": "markers",
         "name": "SANTA CECILIA",
         "showlegend": true,
         "subplot": "mapbox",
         "type": "scattermapbox"
        },
        {
         "hovertemplate": "<b>%{hovertext}</b><br><br>BARRIO=AURES I<br>Latitud=%{lat}<br>Longitud=%{lon}<extra></extra>",
         "hovertext": [
          "Fundación 194"
         ],
         "lat": [
          4.72916620044866
         ],
         "legendgroup": "AURES I",
         "lon": [
          -74.0936277389653
         ],
         "marker": {
          "color": "#FF6692"
         },
         "mode": "markers",
         "name": "AURES I",
         "showlegend": true,
         "subplot": "mapbox",
         "type": "scattermapbox"
        },
        {
         "hovertemplate": "<b>%{hovertext}</b><br><br>BARRIO=GUACAMAYAS<br>Latitud=%{lat}<br>Longitud=%{lon}<extra></extra>",
         "hovertext": [
          "Fundación 195",
          "Fundación 350"
         ],
         "lat": [
          4.55759748084429,
          4.557519
         ],
         "legendgroup": "GUACAMAYAS",
         "lon": [
          -74.0991662381471,
          -74.1000266
         ],
         "marker": {
          "color": "#B6E880"
         },
         "mode": "markers",
         "name": "GUACAMAYAS",
         "showlegend": true,
         "subplot": "mapbox",
         "type": "scattermapbox"
        },
        {
         "hovertemplate": "<b>%{hovertext}</b><br><br>BARRIO=GUSTAVO RESTREPO<br>Latitud=%{lat}<br>Longitud=%{lon}<extra></extra>",
         "hovertext": [
          "Fundación 197"
         ],
         "lat": [
          4.57801506189112
         ],
         "legendgroup": "GUSTAVO RESTREPO",
         "lon": [
          -74.109321945711
         ],
         "marker": {
          "color": "#FF97FF"
         },
         "mode": "markers",
         "name": "GUSTAVO RESTREPO",
         "showlegend": true,
         "subplot": "mapbox",
         "type": "scattermapbox"
        },
        {
         "hovertemplate": "<b>%{hovertext}</b><br><br>BARRIO=JAPON<br>Latitud=%{lat}<br>Longitud=%{lon}<extra></extra>",
         "hovertext": [
          "Fundación 199"
         ],
         "lat": [
          4.72139137560692
         ],
         "legendgroup": "JAPON",
         "lon": [
          -74.0954557612879
         ],
         "marker": {
          "color": "#FECB52"
         },
         "mode": "markers",
         "name": "JAPON",
         "showlegend": true,
         "subplot": "mapbox",
         "type": "scattermapbox"
        },
        {
         "hovertemplate": "<b>%{hovertext}</b><br><br>BARRIO=JOSE MARIA CARBONEL<br>Latitud=%{lat}<br>Longitud=%{lon}<extra></extra>",
         "hovertext": [
          "Fundación 200"
         ],
         "lat": [
          4.600799686117
         ],
         "legendgroup": "JOSE MARIA CARBONEL",
         "lon": [
          -74.1969305015831
         ],
         "marker": {
          "color": "#636efa"
         },
         "mode": "markers",
         "name": "JOSE MARIA CARBONEL",
         "showlegend": true,
         "subplot": "mapbox",
         "type": "scattermapbox"
        },
        {
         "hovertemplate": "<b>%{hovertext}</b><br><br>BARRIO=PATIO BONITO LL SECTOR<br>Latitud=%{lat}<br>Longitud=%{lon}<extra></extra>",
         "hovertext": [
          "Fundación 201"
         ],
         "lat": [
          4.63832953916383
         ],
         "legendgroup": "PATIO BONITO LL SECTOR",
         "lon": [
          -74.1651045322199
         ],
         "marker": {
          "color": "#EF553B"
         },
         "mode": "markers",
         "name": "PATIO BONITO LL SECTOR",
         "showlegend": true,
         "subplot": "mapbox",
         "type": "scattermapbox"
        },
        {
         "hovertemplate": "<b>%{hovertext}</b><br><br>BARRIO=HIPOTECHO<br>Latitud=%{lat}<br>Longitud=%{lon}<extra></extra>",
         "hovertext": [
          "Fundación 202"
         ],
         "lat": [
          4.62612903156036
         ],
         "legendgroup": "HIPOTECHO",
         "lon": [
          -74.1278971457109
         ],
         "marker": {
          "color": "#00cc96"
         },
         "mode": "markers",
         "name": "HIPOTECHO",
         "showlegend": true,
         "subplot": "mapbox",
         "type": "scattermapbox"
        },
        {
         "hovertemplate": "<b>%{hovertext}</b><br><br>BARRIO=TIMIZA<br>Latitud=%{lat}<br>Longitud=%{lon}<extra></extra>",
         "hovertext": [
          "Fundación 203"
         ],
         "lat": [
          4.6281201368892
         ],
         "legendgroup": "TIMIZA",
         "lon": [
          -74.1437867745472
         ],
         "marker": {
          "color": "#ab63fa"
         },
         "mode": "markers",
         "name": "TIMIZA",
         "showlegend": true,
         "subplot": "mapbox",
         "type": "scattermapbox"
        },
        {
         "hovertemplate": "<b>%{hovertext}</b><br><br>BARRIO=DINDALITO <br>Latitud=%{lat}<br>Longitud=%{lon}<extra></extra>",
         "hovertext": [
          "Fundación 205"
         ],
         "lat": [
          4.63677519622089
         ],
         "legendgroup": "DINDALITO ",
         "lon": [
          -74.1713420322198
         ],
         "marker": {
          "color": "#FFA15A"
         },
         "mode": "markers",
         "name": "DINDALITO ",
         "showlegend": true,
         "subplot": "mapbox",
         "type": "scattermapbox"
        },
        {
         "hovertemplate": "<b>%{hovertext}</b><br><br>BARRIO=VERGEL OCCIDENTAL<br>Latitud=%{lat}<br>Longitud=%{lon}<extra></extra>",
         "hovertext": [
          "Fundación 206"
         ],
         "lat": [
          4.65489170667962
         ],
         "legendgroup": "VERGEL OCCIDENTAL",
         "lon": [
          -74.1365066187288
         ],
         "marker": {
          "color": "#19d3f3"
         },
         "mode": "markers",
         "name": "VERGEL OCCIDENTAL",
         "showlegend": true,
         "subplot": "mapbox",
         "type": "scattermapbox"
        },
        {
         "hovertemplate": "<b>%{hovertext}</b><br><br>BARRIO=EL JAZMIN OCCIDENTAL<br>Latitud=%{lat}<br>Longitud=%{lon}<extra></extra>",
         "hovertext": [
          "Fundación 207"
         ],
         "lat": [
          4.64519204296023
         ],
         "legendgroup": "EL JAZMIN OCCIDENTAL",
         "lon": [
          -74.1770698898925
         ],
         "marker": {
          "color": "#FF6692"
         },
         "mode": "markers",
         "name": "EL JAZMIN OCCIDENTAL",
         "showlegend": true,
         "subplot": "mapbox",
         "type": "scattermapbox"
        },
        {
         "hovertemplate": "<b>%{hovertext}</b><br><br>BARRIO=MARIA PAZ<br>Latitud=%{lat}<br>Longitud=%{lon}<extra></extra>",
         "hovertext": [
          "Fundación 208",
          "Fundación 209"
         ],
         "lat": [
          4.6173806,
          4.6344861
         ],
         "legendgroup": "MARIA PAZ",
         "lon": [
          -74.1786138,
          -74.1571621
         ],
         "marker": {
          "color": "#B6E880"
         },
         "mode": "markers",
         "name": "MARIA PAZ",
         "showlegend": true,
         "subplot": "mapbox",
         "type": "scattermapbox"
        },
        {
         "hovertemplate": "<b>%{hovertext}</b><br><br>BARRIO=PATIO BONITO<br>Latitud=%{lat}<br>Longitud=%{lon}<extra></extra>",
         "hovertext": [
          "Fundación 210",
          "Fundación 214"
         ],
         "lat": [
          4.6263946,
          4.6397885
         ],
         "legendgroup": "PATIO BONITO",
         "lon": [
          -74.1662802,
          -74.1687867
         ],
         "marker": {
          "color": "#FF97FF"
         },
         "mode": "markers",
         "name": "PATIO BONITO",
         "showlegend": true,
         "subplot": "mapbox",
         "type": "scattermapbox"
        },
        {
         "hovertemplate": "<b>%{hovertext}</b><br><br>BARRIO= TEQUENDAMA<br>Latitud=%{lat}<br>Longitud=%{lon}<extra></extra>",
         "hovertext": [
          "Fundación 211"
         ],
         "lat": [
          4.623515
         ],
         "legendgroup": " TEQUENDAMA",
         "lon": [
          -74.1570374
         ],
         "marker": {
          "color": "#FECB52"
         },
         "mode": "markers",
         "name": " TEQUENDAMA",
         "showlegend": true,
         "subplot": "mapbox",
         "type": "scattermapbox"
        },
        {
         "hovertemplate": "<b>%{hovertext}</b><br><br>BARRIO=PATIO BONITO II<br>Latitud=%{lat}<br>Longitud=%{lon}<extra></extra>",
         "hovertext": [
          "Fundación 212"
         ],
         "lat": [
          4.6356743
         ],
         "legendgroup": "PATIO BONITO II",
         "lon": [
          -74.1643744
         ],
         "marker": {
          "color": "#636efa"
         },
         "mode": "markers",
         "name": "PATIO BONITO II",
         "showlegend": true,
         "subplot": "mapbox",
         "type": "scattermapbox"
        },
        {
         "hovertemplate": "<b>%{hovertext}</b><br><br>BARRIO=CLASS<br>Latitud=%{lat}<br>Longitud=%{lon}<extra></extra>",
         "hovertext": [
          "Fundación 213"
         ],
         "lat": [
          4.6160408
         ],
         "legendgroup": "CLASS",
         "lon": [
          -74.1786873
         ],
         "marker": {
          "color": "#EF553B"
         },
         "mode": "markers",
         "name": "CLASS",
         "showlegend": true,
         "subplot": "mapbox",
         "type": "scattermapbox"
        },
        {
         "hovertemplate": "<b>%{hovertext}</b><br><br>BARRIO=DINDALITO I SECTOR<br>Latitud=%{lat}<br>Longitud=%{lon}<extra></extra>",
         "hovertext": [
          "Fundación 215"
         ],
         "lat": [
          4.6315243
         ],
         "legendgroup": "DINDALITO I SECTOR",
         "lon": [
          -74.1669568
         ],
         "marker": {
          "color": "#00cc96"
         },
         "mode": "markers",
         "name": "DINDALITO I SECTOR",
         "showlegend": true,
         "subplot": "mapbox",
         "type": "scattermapbox"
        },
        {
         "hovertemplate": "<b>%{hovertext}</b><br><br>BARRIO= KENNEDY CENTRAL<br>Latitud=%{lat}<br>Longitud=%{lon}<extra></extra>",
         "hovertext": [
          "Fundación 216"
         ],
         "lat": [
          4.6214578
         ],
         "legendgroup": " KENNEDY CENTRAL",
         "lon": [
          -74.1538852
         ],
         "marker": {
          "color": "#ab63fa"
         },
         "mode": "markers",
         "name": " KENNEDY CENTRAL",
         "showlegend": true,
         "subplot": "mapbox",
         "type": "scattermapbox"
        },
        {
         "hovertemplate": "<b>%{hovertext}</b><br><br>BARRIO=TINTAL<br>Latitud=%{lat}<br>Longitud=%{lon}<extra></extra>",
         "hovertext": [
          "Fundación 217"
         ],
         "lat": [
          4.5905976
         ],
         "legendgroup": "TINTAL",
         "lon": [
          -74.0757916
         ],
         "marker": {
          "color": "#FFA15A"
         },
         "mode": "markers",
         "name": "TINTAL",
         "showlegend": true,
         "subplot": "mapbox",
         "type": "scattermapbox"
        },
        {
         "hovertemplate": "<b>%{hovertext}</b><br><br>BARRIO=CALANDAIMA<br>Latitud=%{lat}<br>Longitud=%{lon}<extra></extra>",
         "hovertext": [
          "Fundación 218"
         ],
         "lat": [
          4.6092309
         ],
         "legendgroup": "CALANDAIMA",
         "lon": [
          -74.1733104
         ],
         "marker": {
          "color": "#19d3f3"
         },
         "mode": "markers",
         "name": "CALANDAIMA",
         "showlegend": true,
         "subplot": "mapbox",
         "type": "scattermapbox"
        },
        {
         "hovertemplate": "<b>%{hovertext}</b><br><br>BARRIO=KENNEDY CENTRAL <br>Latitud=%{lat}<br>Longitud=%{lon}<extra></extra>",
         "hovertext": [
          "Fundación 219"
         ],
         "lat": [
          4.6223871
         ],
         "legendgroup": "KENNEDY CENTRAL ",
         "lon": [
          -74.1527421
         ],
         "marker": {
          "color": "#FF6692"
         },
         "mode": "markers",
         "name": "KENNEDY CENTRAL ",
         "showlegend": true,
         "subplot": "mapbox",
         "type": "scattermapbox"
        },
        {
         "hovertemplate": "<b>%{hovertext}</b><br><br>BARRIO=VILLA DE LA LOMA<br>Latitud=%{lat}<br>Longitud=%{lon}<extra></extra>",
         "hovertext": [
          "Fundación 220"
         ],
         "lat": [
          4.6275599
         ],
         "legendgroup": "VILLA DE LA LOMA",
         "lon": [
          -74.1680059
         ],
         "marker": {
          "color": "#B6E880"
         },
         "mode": "markers",
         "name": "VILLA DE LA LOMA",
         "showlegend": true,
         "subplot": "mapbox",
         "type": "scattermapbox"
        },
        {
         "hovertemplate": "<b>%{hovertext}</b><br><br>BARRIO=TOCAREMA<br>Latitud=%{lat}<br>Longitud=%{lon}<extra></extra>",
         "hovertext": [
          "Fundación 221"
         ],
         "lat": [
          4.5915231
         ],
         "legendgroup": "TOCAREMA",
         "lon": [
          -74.0805066
         ],
         "marker": {
          "color": "#FF97FF"
         },
         "mode": "markers",
         "name": "TOCAREMA",
         "showlegend": true,
         "subplot": "mapbox",
         "type": "scattermapbox"
        },
        {
         "hovertemplate": "<b>%{hovertext}</b><br><br>BARRIO=ALQUERÍA<br>Latitud=%{lat}<br>Longitud=%{lon}<extra></extra>",
         "hovertext": [
          "Fundación 222"
         ],
         "lat": [
          4.6043095
         ],
         "legendgroup": "ALQUERÍA",
         "lon": [
          -74.1365968
         ],
         "marker": {
          "color": "#FECB52"
         },
         "mode": "markers",
         "name": "ALQUERÍA",
         "showlegend": true,
         "subplot": "mapbox",
         "type": "scattermapbox"
        },
        {
         "hovertemplate": "<b>%{hovertext}</b><br><br>BARRIO=PRADERA<br>Latitud=%{lat}<br>Longitud=%{lon}<extra></extra>",
         "hovertext": [
          "Fundación 223"
         ],
         "lat": [
          4.6219206
         ],
         "legendgroup": "PRADERA",
         "lon": [
          -74.1632477
         ],
         "marker": {
          "color": "#636efa"
         },
         "mode": "markers",
         "name": "PRADERA",
         "showlegend": true,
         "subplot": "mapbox",
         "type": "scattermapbox"
        },
        {
         "hovertemplate": "<b>%{hovertext}</b><br><br>BARRIO=KENNEDY CENTRAL<br>Latitud=%{lat}<br>Longitud=%{lon}<extra></extra>",
         "hovertext": [
          "Fundación 224"
         ],
         "lat": [
          4.62436
         ],
         "legendgroup": "KENNEDY CENTRAL",
         "lon": [
          -74.147338
         ],
         "marker": {
          "color": "#EF553B"
         },
         "mode": "markers",
         "name": "KENNEDY CENTRAL",
         "showlegend": true,
         "subplot": "mapbox",
         "type": "scattermapbox"
        },
        {
         "hovertemplate": "<b>%{hovertext}</b><br><br>BARRIO=CASTILLA<br>Latitud=%{lat}<br>Longitud=%{lon}<extra></extra>",
         "hovertext": [
          "Fundación 225"
         ],
         "lat": [
          4.6399494
         ],
         "legendgroup": "CASTILLA",
         "lon": [
          -74.138262
         ],
         "marker": {
          "color": "#00cc96"
         },
         "mode": "markers",
         "name": "CASTILLA",
         "showlegend": true,
         "subplot": "mapbox",
         "type": "scattermapbox"
        },
        {
         "hovertemplate": "<b>%{hovertext}</b><br><br>BARRIO=MANDALAY<br>Latitud=%{lat}<br>Longitud=%{lon}<extra></extra>",
         "hovertext": [
          "Fundación 226",
          "Fundación 262"
         ],
         "lat": [
          4.6281493,
          4.6297241
         ],
         "legendgroup": "MANDALAY",
         "lon": [
          -74.1466222,
          -74.1464699
         ],
         "marker": {
          "color": "#ab63fa"
         },
         "mode": "markers",
         "name": "MANDALAY",
         "showlegend": true,
         "subplot": "mapbox",
         "type": "scattermapbox"
        },
        {
         "hovertemplate": "<b>%{hovertext}</b><br><br>BARRIO=ALQUERIA LA FRAGUA<br>Latitud=%{lat}<br>Longitud=%{lon}<extra></extra>",
         "hovertext": [
          "Fundación 227"
         ],
         "lat": [
          4.6082071
         ],
         "legendgroup": "ALQUERIA LA FRAGUA",
         "lon": [
          -74.1315133
         ],
         "marker": {
          "color": "#FFA15A"
         },
         "mode": "markers",
         "name": "ALQUERIA LA FRAGUA",
         "showlegend": true,
         "subplot": "mapbox",
         "type": "scattermapbox"
        },
        {
         "hovertemplate": "<b>%{hovertext}</b><br><br>BARRIO=PROVIVIENDA<br>Latitud=%{lat}<br>Longitud=%{lon}<extra></extra>",
         "hovertext": [
          "Fundación 228"
         ],
         "lat": [
          4.6399494
         ],
         "legendgroup": "PROVIVIENDA",
         "lon": [
          -74.138262
         ],
         "marker": {
          "color": "#19d3f3"
         },
         "mode": "markers",
         "name": "PROVIVIENDA",
         "showlegend": true,
         "subplot": "mapbox",
         "type": "scattermapbox"
        },
        {
         "hovertemplate": "<b>%{hovertext}</b><br><br>BARRIO=NUEVA MARSELLA<br>Latitud=%{lat}<br>Longitud=%{lon}<extra></extra>",
         "hovertext": [
          "Fundación 229"
         ],
         "lat": [
          4.6190915
         ],
         "legendgroup": "NUEVA MARSELLA",
         "lon": [
          -74.1377363
         ],
         "marker": {
          "color": "#FF6692"
         },
         "mode": "markers",
         "name": "NUEVA MARSELLA",
         "showlegend": true,
         "subplot": "mapbox",
         "type": "scattermapbox"
        },
        {
         "hovertemplate": "<b>%{hovertext}</b><br><br>BARRIO=LA AURORA<br>Latitud=%{lat}<br>Longitud=%{lon}<extra></extra>",
         "hovertext": [
          "Fundación 230"
         ],
         "lat": [
          4.5234607
         ],
         "legendgroup": "LA AURORA",
         "lon": [
          -74.123374
         ],
         "marker": {
          "color": "#B6E880"
         },
         "mode": "markers",
         "name": "LA AURORA",
         "showlegend": true,
         "subplot": "mapbox",
         "type": "scattermapbox"
        },
        {
         "hovertemplate": "<b>%{hovertext}</b><br><br>BARRIO=LA CALERA<br>Latitud=%{lat}<br>Longitud=%{lon}<extra></extra>",
         "hovertext": [
          "Fundación 231",
          "Fundación 621"
         ],
         "lat": [
          4.5954127,
          4.67505672493916
         ],
         "legendgroup": "LA CALERA",
         "lon": [
          -74.0724147,
          -74.0211753739621
         ],
         "marker": {
          "color": "#FF97FF"
         },
         "mode": "markers",
         "name": "LA CALERA",
         "showlegend": true,
         "subplot": "mapbox",
         "type": "scattermapbox"
        },
        {
         "hovertemplate": "<b>%{hovertext}</b><br><br>BARRIO=PASEO REAL CENTRO<br>Latitud=%{lat}<br>Longitud=%{lon}<extra></extra>",
         "hovertext": [
          "Fundación 232"
         ],
         "lat": [
          4.5560899
         ],
         "legendgroup": "PASEO REAL CENTRO",
         "lon": [
          -74.0974508
         ],
         "marker": {
          "color": "#FECB52"
         },
         "mode": "markers",
         "name": "PASEO REAL CENTRO",
         "showlegend": true,
         "subplot": "mapbox",
         "type": "scattermapbox"
        },
        {
         "hovertemplate": "<b>%{hovertext}</b><br><br>BARRIO=SAN BLASS<br>Latitud=%{lat}<br>Longitud=%{lon}<extra></extra>",
         "hovertext": [
          "Fundación 233"
         ],
         "lat": [
          4.5847935
         ],
         "legendgroup": "SAN BLASS",
         "lon": [
          -74.1014924
         ],
         "marker": {
          "color": "#636efa"
         },
         "mode": "markers",
         "name": "SAN BLASS",
         "showlegend": true,
         "subplot": "mapbox",
         "type": "scattermapbox"
        },
        {
         "hovertemplate": "<b>%{hovertext}</b><br><br>BARRIO=LA CITA<br>Latitud=%{lat}<br>Longitud=%{lon}<extra></extra>",
         "hovertext": [
          "Fundación 235",
          "Fundación 533",
          "Fundación 543",
          "Fundación 558"
         ],
         "lat": [
          4.7474938,
          4.7435485,
          4.7474938,
          4.747179
         ],
         "legendgroup": "LA CITA",
         "lon": [
          -74.0267238,
          -74.0179549,
          -74.0267238,
          -74.0241407
         ],
         "marker": {
          "color": "#EF553B"
         },
         "mode": "markers",
         "name": "LA CITA",
         "showlegend": true,
         "subplot": "mapbox",
         "type": "scattermapbox"
        },
        {
         "hovertemplate": "<b>%{hovertext}</b><br><br>BARRIO=LA ESPERANZA<br>Latitud=%{lat}<br>Longitud=%{lon}<extra></extra>",
         "hovertext": [
          "Fundación 236"
         ],
         "lat": [
          4.6545612
         ],
         "legendgroup": "LA ESPERANZA",
         "lon": [
          -74.0639101
         ],
         "marker": {
          "color": "#00cc96"
         },
         "mode": "markers",
         "name": "LA ESPERANZA",
         "showlegend": true,
         "subplot": "mapbox",
         "type": "scattermapbox"
        },
        {
         "hovertemplate": "<b>%{hovertext}</b><br><br>BARRIO=CENTRO<br>Latitud=%{lat}<br>Longitud=%{lon}<extra></extra>",
         "hovertext": [
          "Fundación 237",
          "Fundación 277",
          "Fundación 287",
          "Fundación 408",
          "Fundación 409",
          "Fundación 410",
          "Fundación 445",
          "Fundación 600"
         ],
         "lat": [
          4.5433901,
          4.5929334,
          4.586181,
          4.65540369168613,
          4.65541438512599,
          4.6552379,
          4.5792061,
          4.70992945369682
         ],
         "legendgroup": "CENTRO",
         "lon": [
          -74.1449525,
          -74.0770214,
          -74.0753235,
          -74.114908532159,
          -74.114908532159,
          -74.1170865,
          -74.2184111,
          -74.0324851644179
         ],
         "marker": {
          "color": "#ab63fa"
         },
         "mode": "markers",
         "name": "CENTRO",
         "showlegend": true,
         "subplot": "mapbox",
         "type": "scattermapbox"
        },
        {
         "hovertemplate": "<b>%{hovertext}</b><br><br>BARRIO=ANDES NORTE<br>Latitud=%{lat}<br>Longitud=%{lon}<extra></extra>",
         "hovertext": [
          "Fundación 238"
         ],
         "lat": [
          4.6901945
         ],
         "legendgroup": "ANDES NORTE",
         "lon": [
          -74.0706999
         ],
         "marker": {
          "color": "#FFA15A"
         },
         "mode": "markers",
         "name": "ANDES NORTE",
         "showlegend": true,
         "subplot": "mapbox",
         "type": "scattermapbox"
        },
        {
         "hovertemplate": "<b>%{hovertext}</b><br><br>BARRIO=AUTOPISTA MUZU<br>Latitud=%{lat}<br>Longitud=%{lon}<extra></extra>",
         "hovertext": [
          "Fundación 239"
         ],
         "lat": [
          4.5540285
         ],
         "legendgroup": "AUTOPISTA MUZU",
         "lon": [
          -74.0989822
         ],
         "marker": {
          "color": "#19d3f3"
         },
         "mode": "markers",
         "name": "AUTOPISTA MUZU",
         "showlegend": true,
         "subplot": "mapbox",
         "type": "scattermapbox"
        },
        {
         "hovertemplate": "<b>%{hovertext}</b><br><br>BARRIO=SUBA<br>Latitud=%{lat}<br>Longitud=%{lon}<extra></extra>",
         "hovertext": [
          "Fundación 240"
         ],
         "lat": [
          4.7193792
         ],
         "legendgroup": "SUBA",
         "lon": [
          -74.0890348
         ],
         "marker": {
          "color": "#FF6692"
         },
         "mode": "markers",
         "name": "SUBA",
         "showlegend": true,
         "subplot": "mapbox",
         "type": "scattermapbox"
        },
        {
         "hovertemplate": "<b>%{hovertext}</b><br><br>BARRIO=DIANA TURBAY<br>Latitud=%{lat}<br>Longitud=%{lon}<extra></extra>",
         "hovertext": [
          "Fundación 242"
         ],
         "lat": [
          4.5003465
         ],
         "legendgroup": "DIANA TURBAY",
         "lon": [
          -74.1068579
         ],
         "marker": {
          "color": "#B6E880"
         },
         "mode": "markers",
         "name": "DIANA TURBAY",
         "showlegend": true,
         "subplot": "mapbox",
         "type": "scattermapbox"
        },
        {
         "hovertemplate": "<b>%{hovertext}</b><br><br>BARRIO=LA UNIÓN <br>Latitud=%{lat}<br>Longitud=%{lon}<extra></extra>",
         "hovertext": [
          "Fundación 244"
         ],
         "lat": [
          4.5803193
         ],
         "legendgroup": "LA UNIÓN ",
         "lon": [
          -74.2205883
         ],
         "marker": {
          "color": "#FF97FF"
         },
         "mode": "markers",
         "name": "LA UNIÓN ",
         "showlegend": true,
         "subplot": "mapbox",
         "type": "scattermapbox"
        },
        {
         "hovertemplate": "<b>%{hovertext}</b><br><br>BARRIO=LACHES<br>Latitud=%{lat}<br>Longitud=%{lon}<extra></extra>",
         "hovertext": [
          "Fundación 247"
         ],
         "lat": [
          4.67951
         ],
         "legendgroup": "LACHES",
         "lon": [
          -74.0542331
         ],
         "marker": {
          "color": "#FECB52"
         },
         "mode": "markers",
         "name": "LACHES",
         "showlegend": true,
         "subplot": "mapbox",
         "type": "scattermapbox"
        },
        {
         "hovertemplate": "<b>%{hovertext}</b><br><br>BARRIO=LOS LACHES<br>Latitud=%{lat}<br>Longitud=%{lon}<extra></extra>",
         "hovertext": [
          "Fundación 248"
         ],
         "lat": [
          4.5917811
         ],
         "legendgroup": "LOS LACHES",
         "lon": [
          -74.0959045
         ],
         "marker": {
          "color": "#636efa"
         },
         "mode": "markers",
         "name": "LOS LACHES",
         "showlegend": true,
         "subplot": "mapbox",
         "type": "scattermapbox"
        },
        {
         "hovertemplate": "<b>%{hovertext}</b><br><br>BARRIO=LAS FERIAS<br>Latitud=%{lat}<br>Longitud=%{lon}<extra></extra>",
         "hovertext": [
          "Fundación 250"
         ],
         "lat": [
          4.68508
         ],
         "legendgroup": "LAS FERIAS",
         "lon": [
          -74.0849471
         ],
         "marker": {
          "color": "#EF553B"
         },
         "mode": "markers",
         "name": "LAS FERIAS",
         "showlegend": true,
         "subplot": "mapbox",
         "type": "scattermapbox"
        },
        {
         "hovertemplate": "<b>%{hovertext}</b><br><br>BARRIO=LAS VILLAS<br>Latitud=%{lat}<br>Longitud=%{lon}<extra></extra>",
         "hovertext": [
          "Fundación 252"
         ],
         "lat": [
          4.7170009
         ],
         "legendgroup": "LAS VILLAS",
         "lon": [
          -74.0725631
         ],
         "marker": {
          "color": "#00cc96"
         },
         "mode": "markers",
         "name": "LAS VILLAS",
         "showlegend": true,
         "subplot": "mapbox",
         "type": "scattermapbox"
        },
        {
         "hovertemplate": "<b>%{hovertext}</b><br><br>BARRIO=LOS LIBERTADORES<br>Latitud=%{lat}<br>Longitud=%{lon}<extra></extra>",
         "hovertext": [
          "Fundación 253"
         ],
         "lat": [
          4.5725336
         ],
         "legendgroup": "LOS LIBERTADORES",
         "lon": [
          -74.1088915
         ],
         "marker": {
          "color": "#ab63fa"
         },
         "mode": "markers",
         "name": "LOS LIBERTADORES",
         "showlegend": true,
         "subplot": "mapbox",
         "type": "scattermapbox"
        },
        {
         "hovertemplate": "<b>%{hovertext}</b><br><br>BARRIO=LA PORCINCULA<br>Latitud=%{lat}<br>Longitud=%{lon}<extra></extra>",
         "hovertext": [
          "Fundación 254"
         ],
         "lat": [
          4.5634633
         ],
         "legendgroup": "LA PORCINCULA",
         "lon": [
          -74.1364389
         ],
         "marker": {
          "color": "#FFA15A"
         },
         "mode": "markers",
         "name": "LA PORCINCULA",
         "showlegend": true,
         "subplot": "mapbox",
         "type": "scattermapbox"
        },
        {
         "hovertemplate": "<b>%{hovertext}</b><br><br>BARRIO=LOS ALPES<br>Latitud=%{lat}<br>Longitud=%{lon}<extra></extra>",
         "hovertext": [
          "Fundación 256"
         ],
         "lat": [
          4.5585982
         ],
         "legendgroup": "LOS ALPES",
         "lon": [
          -74.0957019
         ],
         "marker": {
          "color": "#19d3f3"
         },
         "mode": "markers",
         "name": "LOS ALPES",
         "showlegend": true,
         "subplot": "mapbox",
         "type": "scattermapbox"
        },
        {
         "hovertemplate": "<b>%{hovertext}</b><br><br>BARRIO=SANTA ISABEL SUR<br>Latitud=%{lat}<br>Longitud=%{lon}<extra></extra>",
         "hovertext": [
          "Fundación 257"
         ],
         "lat": [
          4.5961621
         ],
         "legendgroup": "SANTA ISABEL SUR",
         "lon": [
          -74.1021645
         ],
         "marker": {
          "color": "#FF6692"
         },
         "mode": "markers",
         "name": "SANTA ISABEL SUR",
         "showlegend": true,
         "subplot": "mapbox",
         "type": "scattermapbox"
        },
        {
         "hovertemplate": "<b>%{hovertext}</b><br><br>BARRIO=SAMPER MENDOZA<br>Latitud=%{lat}<br>Longitud=%{lon}<extra></extra>",
         "hovertext": [
          "Fundación 258",
          "Fundación 259"
         ],
         "lat": [
          4.6165539,
          4.6165539
         ],
         "legendgroup": "SAMPER MENDOZA",
         "lon": [
          -74.0810608,
          -74.0810608
         ],
         "marker": {
          "color": "#B6E880"
         },
         "mode": "markers",
         "name": "SAMPER MENDOZA",
         "showlegend": true,
         "subplot": "mapbox",
         "type": "scattermapbox"
        },
        {
         "hovertemplate": "<b>%{hovertext}</b><br><br>BARRIO=SAN ANTONIO URBANO<br>Latitud=%{lat}<br>Longitud=%{lon}<extra></extra>",
         "hovertext": [
          "Fundación 260"
         ],
         "lat": [
          4.7012209
         ],
         "legendgroup": "SAN ANTONIO URBANO",
         "lon": [
          -74.1312984
         ],
         "marker": {
          "color": "#FF97FF"
         },
         "mode": "markers",
         "name": "SAN ANTONIO URBANO",
         "showlegend": true,
         "subplot": "mapbox",
         "type": "scattermapbox"
        },
        {
         "hovertemplate": "<b>%{hovertext}</b><br><br>BARRIO=MARCO FIDEL SUAREZ<br>Latitud=%{lat}<br>Longitud=%{lon}<extra></extra>",
         "hovertext": [
          "Fundación 263",
          "Fundación 268",
          "Fundación 521"
         ],
         "lat": [
          4.5695523,
          4.5986971,
          4.5690694
         ],
         "legendgroup": "MARCO FIDEL SUAREZ",
         "lon": [
          -74.1194424,
          -74.099369,
          -74.1220894
         ],
         "marker": {
          "color": "#FECB52"
         },
         "mode": "markers",
         "name": "MARCO FIDEL SUAREZ",
         "showlegend": true,
         "subplot": "mapbox",
         "type": "scattermapbox"
        },
        {
         "hovertemplate": "<b>%{hovertext}</b><br><br>BARRIO=EL BALCON<br>Latitud=%{lat}<br>Longitud=%{lon}<extra></extra>",
         "hovertext": [
          "Fundación 264"
         ],
         "lat": [
          4.5815946
         ],
         "legendgroup": "EL BALCON",
         "lon": [
          -74.0780422
         ],
         "marker": {
          "color": "#636efa"
         },
         "mode": "markers",
         "name": "EL BALCON",
         "showlegend": true,
         "subplot": "mapbox",
         "type": "scattermapbox"
        },
        {
         "hovertemplate": "<b>%{hovertext}</b><br><br>BARRIO=SANTA ISABEL<br>Latitud=%{lat}<br>Longitud=%{lon}<extra></extra>",
         "hovertext": [
          "Fundación 265",
          "Fundación 266",
          "Fundación 405",
          "Fundación 460",
          "Fundación 461"
         ],
         "lat": [
          4.595464,
          4.5962837,
          4.60069985910691,
          4.5958147,
          4.594884
         ],
         "legendgroup": "SANTA ISABEL",
         "lon": [
          -74.0997825,
          -74.1023628,
          -74.1016093591469,
          -74.0986851,
          -74.1007411
         ],
         "marker": {
          "color": "#EF553B"
         },
         "mode": "markers",
         "name": "SANTA ISABEL",
         "showlegend": true,
         "subplot": "mapbox",
         "type": "scattermapbox"
        },
        {
         "hovertemplate": "<b>%{hovertext}</b><br><br>BARRIO=SANTAFÉ<br>Latitud=%{lat}<br>Longitud=%{lon}<extra></extra>",
         "hovertext": [
          "Fundación 267"
         ],
         "lat": [
          4.6135039
         ],
         "legendgroup": "SANTAFÉ",
         "lon": [
          -74.0790421
         ],
         "marker": {
          "color": "#00cc96"
         },
         "mode": "markers",
         "name": "SANTAFÉ",
         "showlegend": true,
         "subplot": "mapbox",
         "type": "scattermapbox"
        },
        {
         "hovertemplate": "<b>%{hovertext}</b><br><br>BARRIO=SANTA FE<br>Latitud=%{lat}<br>Longitud=%{lon}<extra></extra>",
         "hovertext": [
          "Fundación 269"
         ],
         "lat": [
          4.6103597
         ],
         "legendgroup": "SANTA FE",
         "lon": [
          -74.0782842
         ],
         "marker": {
          "color": "#ab63fa"
         },
         "mode": "markers",
         "name": "SANTA FE",
         "showlegend": true,
         "subplot": "mapbox",
         "type": "scattermapbox"
        },
        {
         "hovertemplate": "<b>%{hovertext}</b><br><br>BARRIO=SAMPER MENDOZA <br>Latitud=%{lat}<br>Longitud=%{lon}<extra></extra>",
         "hovertext": [
          "Fundación 270",
          "Fundación 340",
          "Fundación 604"
         ],
         "lat": [
          4.6204552,
          4.620472,
          4.61924301857563
         ],
         "legendgroup": "SAMPER MENDOZA ",
         "lon": [
          -74.0826546,
          -74.082654,
          -74.0814117802811
         ],
         "marker": {
          "color": "#FFA15A"
         },
         "mode": "markers",
         "name": "SAMPER MENDOZA ",
         "showlegend": true,
         "subplot": "mapbox",
         "type": "scattermapbox"
        },
        {
         "hovertemplate": "<b>%{hovertext}</b><br><br>BARRIO=EL VERGEL<br>Latitud=%{lat}<br>Longitud=%{lon}<extra></extra>",
         "hovertext": [
          "Fundación 271"
         ],
         "lat": [
          4.5965885
         ],
         "legendgroup": "EL VERGEL",
         "lon": [
          -74.0958922
         ],
         "marker": {
          "color": "#19d3f3"
         },
         "mode": "markers",
         "name": "EL VERGEL",
         "showlegend": true,
         "subplot": "mapbox",
         "type": "scattermapbox"
        },
        {
         "hovertemplate": "<b>%{hovertext}</b><br><br>BARRIO=RICAURTE<br>Latitud=%{lat}<br>Longitud=%{lon}<extra></extra>",
         "hovertext": [
          "Fundación 272",
          "Fundación 273",
          "Fundación 274"
         ],
         "lat": [
          4.6085356,
          4.6084276,
          4.6078844
         ],
         "legendgroup": "RICAURTE",
         "lon": [
          -74.0948147,
          -74.0946825,
          -74.0921343
         ],
         "marker": {
          "color": "#FF6692"
         },
         "mode": "markers",
         "name": "RICAURTE",
         "showlegend": true,
         "subplot": "mapbox",
         "type": "scattermapbox"
        },
        {
         "hovertemplate": "<b>%{hovertext}</b><br><br>BARRIO=MAZUREN<br>Latitud=%{lat}<br>Longitud=%{lon}<extra></extra>",
         "hovertext": [
          "Fundación 275",
          "Fundación 471"
         ],
         "lat": [
          4.7383312,
          4.734551706
         ],
         "legendgroup": "MAZUREN",
         "lon": [
          -74.0595752,
          -74.04581268
         ],
         "marker": {
          "color": "#B6E880"
         },
         "mode": "markers",
         "name": "MAZUREN",
         "showlegend": true,
         "subplot": "mapbox",
         "type": "scattermapbox"
        },
        {
         "hovertemplate": "<b>%{hovertext}</b><br><br>BARRIO=MEISSEN<br>Latitud=%{lat}<br>Longitud=%{lon}<extra></extra>",
         "hovertext": [
          "Fundación 276"
         ],
         "lat": [
          4.5843069
         ],
         "legendgroup": "MEISSEN",
         "lon": [
          -74.1016669
         ],
         "marker": {
          "color": "#FF97FF"
         },
         "mode": "markers",
         "name": "MEISSEN",
         "showlegend": true,
         "subplot": "mapbox",
         "type": "scattermapbox"
        },
        {
         "hovertemplate": "<b>%{hovertext}</b><br><br>BARRIO=MEXICO<br>Latitud=%{lat}<br>Longitud=%{lon}<extra></extra>",
         "hovertext": [
          "Fundación 279"
         ],
         "lat": [
          4.5556347
         ],
         "legendgroup": "MEXICO",
         "lon": [
          -74.1366647
         ],
         "marker": {
          "color": "#FECB52"
         },
         "mode": "markers",
         "name": "MEXICO",
         "showlegend": true,
         "subplot": "mapbox",
         "type": "scattermapbox"
        },
        {
         "hovertemplate": "<b>%{hovertext}</b><br><br>BARRIO=MODELIA<br>Latitud=%{lat}<br>Longitud=%{lon}<extra></extra>",
         "hovertext": [
          "Fundación 282"
         ],
         "lat": [
          4.6647516
         ],
         "legendgroup": "MODELIA",
         "lon": [
          -74.1259784
         ],
         "marker": {
          "color": "#636efa"
         },
         "mode": "markers",
         "name": "MODELIA",
         "showlegend": true,
         "subplot": "mapbox",
         "type": "scattermapbox"
        },
        {
         "hovertemplate": "<b>%{hovertext}</b><br><br>BARRIO=MOLINOS II<br>Latitud=%{lat}<br>Longitud=%{lon}<extra></extra>",
         "hovertext": [
          "Fundación 283"
         ],
         "lat": [
          4.5559496
         ],
         "legendgroup": "MOLINOS II",
         "lon": [
          -74.1191973
         ],
         "marker": {
          "color": "#EF553B"
         },
         "mode": "markers",
         "name": "MOLINOS II",
         "showlegend": true,
         "subplot": "mapbox",
         "type": "scattermapbox"
        },
        {
         "hovertemplate": "<b>%{hovertext}</b><br><br>BARRIO=MORALBA<br>Latitud=%{lat}<br>Longitud=%{lon}<extra></extra>",
         "hovertext": [
          "Fundación 284"
         ],
         "lat": [
          4.546416
         ],
         "legendgroup": "MORALBA",
         "lon": [
          -74.0806271
         ],
         "marker": {
          "color": "#00cc96"
         },
         "mode": "markers",
         "name": "MORALBA",
         "showlegend": true,
         "subplot": "mapbox",
         "type": "scattermapbox"
        },
        {
         "hovertemplate": "<b>%{hovertext}</b><br><br>BARRIO=DIAMANTE ORIENTAL - MOSQUERA<br>Latitud=%{lat}<br>Longitud=%{lon}<extra></extra>",
         "hovertext": [
          "Fundación 285"
         ],
         "lat": [
          4.6919712
         ],
         "legendgroup": "DIAMANTE ORIENTAL - MOSQUERA",
         "lon": [
          -74.1962185
         ],
         "marker": {
          "color": "#ab63fa"
         },
         "mode": "markers",
         "name": "DIAMANTE ORIENTAL - MOSQUERA",
         "showlegend": true,
         "subplot": "mapbox",
         "type": "scattermapbox"
        },
        {
         "hovertemplate": "<b>%{hovertext}</b><br><br>BARRIO=SECTOR LOSANIA<br>Latitud=%{lat}<br>Longitud=%{lon}<extra></extra>",
         "hovertext": [
          "Fundación 286"
         ],
         "lat": [
          4.6974573
         ],
         "legendgroup": "SECTOR LOSANIA",
         "lon": [
          -74.2126703
         ],
         "marker": {
          "color": "#FFA15A"
         },
         "mode": "markers",
         "name": "SECTOR LOSANIA",
         "showlegend": true,
         "subplot": "mapbox",
         "type": "scattermapbox"
        },
        {
         "hovertemplate": "<b>%{hovertext}</b><br><br>BARRIO= MOSQUERA<br>Latitud=%{lat}<br>Longitud=%{lon}<extra></extra>",
         "hovertext": [
          "Fundación 288"
         ],
         "lat": [
          4.5631323
         ],
         "legendgroup": " MOSQUERA",
         "lon": [
          -74.1423238
         ],
         "marker": {
          "color": "#19d3f3"
         },
         "mode": "markers",
         "name": " MOSQUERA",
         "showlegend": true,
         "subplot": "mapbox",
         "type": "scattermapbox"
        },
        {
         "hovertemplate": "<b>%{hovertext}</b><br><br>BARRIO=CHIA<br>Latitud=%{lat}<br>Longitud=%{lon}<extra></extra>",
         "hovertext": [
          "Fundación 289"
         ],
         "lat": [
          4.5544369
         ],
         "legendgroup": "CHIA",
         "lon": [
          -74.0947298
         ],
         "marker": {
          "color": "#FF6692"
         },
         "mode": "markers",
         "name": "CHIA",
         "showlegend": true,
         "subplot": "mapbox",
         "type": "scattermapbox"
        },
        {
         "hovertemplate": "<b>%{hovertext}</b><br><br>BARRIO=NIZA ANTIGUA<br>Latitud=%{lat}<br>Longitud=%{lon}<extra></extra>",
         "hovertext": [
          "Fundación 292"
         ],
         "lat": [
          4.7050285
         ],
         "legendgroup": "NIZA ANTIGUA",
         "lon": [
          -74.0780727
         ],
         "marker": {
          "color": "#B6E880"
         },
         "mode": "markers",
         "name": "NIZA ANTIGUA",
         "showlegend": true,
         "subplot": "mapbox",
         "type": "scattermapbox"
        },
        {
         "hovertemplate": "<b>%{hovertext}</b><br><br>BARRIO=JARIN BOTÁNICO<br>Latitud=%{lat}<br>Longitud=%{lon}<extra></extra>",
         "hovertext": [
          "Fundación 293",
          "Fundación 607"
         ],
         "lat": [
          4.6648576,
          4.66588410156513
         ],
         "legendgroup": "JARIN BOTÁNICO",
         "lon": [
          -74.1062629,
          -74.1062200279331
         ],
         "marker": {
          "color": "#FF97FF"
         },
         "mode": "markers",
         "name": "JARIN BOTÁNICO",
         "showlegend": true,
         "subplot": "mapbox",
         "type": "scattermapbox"
        },
        {
         "hovertemplate": "<b>%{hovertext}</b><br><br>BARRIO=NORMANDIA<br>Latitud=%{lat}<br>Longitud=%{lon}<extra></extra>",
         "hovertext": [
          "Fundación 294",
          "Fundación 295"
         ],
         "lat": [
          4.6717293,
          4.6702073
         ],
         "legendgroup": "NORMANDIA",
         "lon": [
          -74.1024658,
          -74.1043495
         ],
         "marker": {
          "color": "#FECB52"
         },
         "mode": "markers",
         "name": "NORMANDIA",
         "showlegend": true,
         "subplot": "mapbox",
         "type": "scattermapbox"
        },
        {
         "hovertemplate": "<b>%{hovertext}</b><br><br>BARRIO=NORMANDÍA II SECTOR<br>Latitud=%{lat}<br>Longitud=%{lon}<extra></extra>",
         "hovertext": [
          "Fundación 296"
         ],
         "lat": [
          4.6744585
         ],
         "legendgroup": "NORMANDÍA II SECTOR",
         "lon": [
          -74.1067217
         ],
         "marker": {
          "color": "#636efa"
         },
         "mode": "markers",
         "name": "NORMANDÍA II SECTOR",
         "showlegend": true,
         "subplot": "mapbox",
         "type": "scattermapbox"
        },
        {
         "hovertemplate": "<b>%{hovertext}</b><br><br>BARRIO=NORMANDIA PRIMER SECTOR<br>Latitud=%{lat}<br>Longitud=%{lon}<extra></extra>",
         "hovertext": [
          "Fundación 297"
         ],
         "lat": [
          4.67222
         ],
         "legendgroup": "NORMANDIA PRIMER SECTOR",
         "lon": [
          -74.1032479
         ],
         "marker": {
          "color": "#EF553B"
         },
         "mode": "markers",
         "name": "NORMANDIA PRIMER SECTOR",
         "showlegend": true,
         "subplot": "mapbox",
         "type": "scattermapbox"
        },
        {
         "hovertemplate": "<b>%{hovertext}</b><br><br>BARRIO=SANTA ELENITA<br>Latitud=%{lat}<br>Longitud=%{lon}<extra></extra>",
         "hovertext": [
          "Fundación 299"
         ],
         "lat": [
          4.6224046
         ],
         "legendgroup": "SANTA ELENITA",
         "lon": [
          -74.1638721
         ],
         "marker": {
          "color": "#00cc96"
         },
         "mode": "markers",
         "name": "SANTA ELENITA",
         "showlegend": true,
         "subplot": "mapbox",
         "type": "scattermapbox"
        },
        {
         "hovertemplate": "<b>%{hovertext}</b><br><br>BARRIO=NUEVA ZELANDIA<br>Latitud=%{lat}<br>Longitud=%{lon}<extra></extra>",
         "hovertext": [
          "Fundación 300",
          "Fundación 301",
          "Fundación 464",
          "Fundación 469",
          "Fundación 488",
          "Fundación 620"
         ],
         "lat": [
          4.759723,
          4.7580541,
          4.6673758,
          4.75908166,
          4.758716784,
          4.74826534722724
         ],
         "legendgroup": "NUEVA ZELANDIA",
         "lon": [
          -74.0519008,
          -74.0505459,
          -74.0754073,
          -74.04927804,
          -74.04721822,
          -74.0443130819038
         ],
         "marker": {
          "color": "#ab63fa"
         },
         "mode": "markers",
         "name": "NUEVA ZELANDIA",
         "showlegend": true,
         "subplot": "mapbox",
         "type": "scattermapbox"
        },
        {
         "hovertemplate": "<b>%{hovertext}</b><br><br>BARRIO=CENTRO USME<br>Latitud=%{lat}<br>Longitud=%{lon}<extra></extra>",
         "hovertext": [
          "Fundación 302"
         ],
         "lat": [
          4.4783381
         ],
         "legendgroup": "CENTRO USME",
         "lon": [
          -74.1236634
         ],
         "marker": {
          "color": "#FFA15A"
         },
         "mode": "markers",
         "name": "CENTRO USME",
         "showlegend": true,
         "subplot": "mapbox",
         "type": "scattermapbox"
        },
        {
         "hovertemplate": "<b>%{hovertext}</b><br><br>BARRIO=PALERMO<br>Latitud=%{lat}<br>Longitud=%{lon}<extra></extra>",
         "hovertext": [
          "Fundación 303",
          "Fundación 502"
         ],
         "lat": [
          4.6360299,
          4.6370281
         ],
         "legendgroup": "PALERMO",
         "lon": [
          -74.0715374,
          -74.0738664
         ],
         "marker": {
          "color": "#19d3f3"
         },
         "mode": "markers",
         "name": "PALERMO",
         "showlegend": true,
         "subplot": "mapbox",
         "type": "scattermapbox"
        },
        {
         "hovertemplate": "<b>%{hovertext}</b><br><br>BARRIO=PARAÍSO<br>Latitud=%{lat}<br>Longitud=%{lon}<extra></extra>",
         "hovertext": [
          "Fundación 306"
         ],
         "lat": [
          4.55159
         ],
         "legendgroup": "PARAÍSO",
         "lon": [
          -74.15941
         ],
         "marker": {
          "color": "#FF6692"
         },
         "mode": "markers",
         "name": "PARAÍSO",
         "showlegend": true,
         "subplot": "mapbox",
         "type": "scattermapbox"
        },
        {
         "hovertemplate": "<b>%{hovertext}</b><br><br>BARRIO=CONCEPCIÓN NORTE<br>Latitud=%{lat}<br>Longitud=%{lon}<extra></extra>",
         "hovertext": [
          "Fundación 308"
         ],
         "lat": [
          4.6561067
         ],
         "legendgroup": "CONCEPCIÓN NORTE",
         "lon": [
          -74.0640225
         ],
         "marker": {
          "color": "#B6E880"
         },
         "mode": "markers",
         "name": "CONCEPCIÓN NORTE",
         "showlegend": true,
         "subplot": "mapbox",
         "type": "scattermapbox"
        },
        {
         "hovertemplate": "<b>%{hovertext}</b><br><br>BARRIO=PORVENIR<br>Latitud=%{lat}<br>Longitud=%{lon}<extra></extra>",
         "hovertext": [
          "Fundación 309",
          "Fundación 588"
         ],
         "lat": [
          4.5356834,
          4.53173005705825
         ],
         "legendgroup": "PORVENIR",
         "lon": [
          -74.0848582,
          -74.113990235582
         ],
         "marker": {
          "color": "#FF97FF"
         },
         "mode": "markers",
         "name": "PORVENIR",
         "showlegend": true,
         "subplot": "mapbox",
         "type": "scattermapbox"
        },
        {
         "hovertemplate": "<b>%{hovertext}</b><br><br>BARRIO=CUNDINAMARCA<br>Latitud=%{lat}<br>Longitud=%{lon}<extra></extra>",
         "hovertext": [
          "Fundación 310",
          "Fundación 318",
          "Fundación 331",
          "Fundación 622"
         ],
         "lat": [
          4.5865216,
          4.62445712356478,
          4.5816400531017,
          4.60131843356169
         ],
         "legendgroup": "CUNDINAMARCA",
         "lon": [
          -74.0889986,
          -74.0916605032672,
          -74.1178044609391,
          -74.0692777199913
         ],
         "marker": {
          "color": "#FECB52"
         },
         "mode": "markers",
         "name": "CUNDINAMARCA",
         "showlegend": true,
         "subplot": "mapbox",
         "type": "scattermapbox"
        },
        {
         "hovertemplate": "<b>%{hovertext}</b><br><br>BARRIO=POTRERILLOS<br>Latitud=%{lat}<br>Longitud=%{lon}<extra></extra>",
         "hovertext": [
          "Fundación 311"
         ],
         "lat": [
          4.7355056
         ],
         "legendgroup": "POTRERILLOS",
         "lon": [
          -74.0966914
         ],
         "marker": {
          "color": "#636efa"
         },
         "mode": "markers",
         "name": "POTRERILLOS",
         "showlegend": true,
         "subplot": "mapbox",
         "type": "scattermapbox"
        },
        {
         "hovertemplate": "<b>%{hovertext}</b><br><br>BARRIO=POTRERILLOS -<br>Latitud=%{lat}<br>Longitud=%{lon}<extra></extra>",
         "hovertext": [
          "Fundación 312"
         ],
         "lat": [
          4.7349984
         ],
         "legendgroup": "POTRERILLOS -",
         "lon": [
          -74.0959174
         ],
         "marker": {
          "color": "#EF553B"
         },
         "mode": "markers",
         "name": "POTRERILLOS -",
         "showlegend": true,
         "subplot": "mapbox",
         "type": "scattermapbox"
        },
        {
         "hovertemplate": "<b>%{hovertext}</b><br><br>BARRIO=CARABELAS<br>Latitud=%{lat}<br>Longitud=%{lon}<extra></extra>",
         "hovertext": [
          "Fundación 314"
         ],
         "lat": [
          4.60610176759018
         ],
         "legendgroup": "CARABELAS",
         "lon": [
          -74.112294960939
         ],
         "marker": {
          "color": "#00cc96"
         },
         "mode": "markers",
         "name": "CARABELAS",
         "showlegend": true,
         "subplot": "mapbox",
         "type": "scattermapbox"
        },
        {
         "hovertemplate": "<b>%{hovertext}</b><br><br>BARRIO=ACEVEDO TEJADA<br>Latitud=%{lat}<br>Longitud=%{lon}<extra></extra>",
         "hovertext": [
          "Fundación 315"
         ],
         "lat": [
          4.63020935957825
         ],
         "legendgroup": "ACEVEDO TEJADA",
         "lon": [
          -74.0813153609391
         ],
         "marker": {
          "color": "#ab63fa"
         },
         "mode": "markers",
         "name": "ACEVEDO TEJADA",
         "showlegend": true,
         "subplot": "mapbox",
         "type": "scattermapbox"
        },
        {
         "hovertemplate": "<b>%{hovertext}</b><br><br>BARRIO=LOS ELEJIDOS <br>Latitud=%{lat}<br>Longitud=%{lon}<extra></extra>",
         "hovertext": [
          "Fundación 316"
         ],
         "lat": [
          4.61989577546574
         ],
         "legendgroup": "LOS ELEJIDOS ",
         "lon": [
          -74.1016721232703
         ],
         "marker": {
          "color": "#FFA15A"
         },
         "mode": "markers",
         "name": "LOS ELEJIDOS ",
         "showlegend": true,
         "subplot": "mapbox",
         "type": "scattermapbox"
        },
        {
         "hovertemplate": "<b>%{hovertext}</b><br><br>BARRIO=PENSILVANIA<br>Latitud=%{lat}<br>Longitud=%{lon}<extra></extra>",
         "hovertext": [
          "Fundación 317",
          "Fundación 396"
         ],
         "lat": [
          4.6129895611495,
          4.60577215727389
         ],
         "legendgroup": "PENSILVANIA",
         "lon": [
          -74.0989777897749,
          -74.0666842898298
         ],
         "marker": {
          "color": "#19d3f3"
         },
         "mode": "markers",
         "name": "PENSILVANIA",
         "showlegend": true,
         "subplot": "mapbox",
         "type": "scattermapbox"
        },
        {
         "hovertemplate": "<b>%{hovertext}</b><br><br>BARRIO=CIUDAD MONTES<br>Latitud=%{lat}<br>Longitud=%{lon}<extra></extra>",
         "hovertext": [
          "Fundación 319"
         ],
         "lat": [
          4.60069911068086
         ],
         "legendgroup": "CIUDAD MONTES",
         "lon": [
          -74.1121702609391
         ],
         "marker": {
          "color": "#FF6692"
         },
         "mode": "markers",
         "name": "CIUDAD MONTES",
         "showlegend": true,
         "subplot": "mapbox",
         "type": "scattermapbox"
        },
        {
         "hovertemplate": "<b>%{hovertext}</b><br><br>BARRIO=INGLES<br>Latitud=%{lat}<br>Longitud=%{lon}<extra></extra>",
         "hovertext": [
          "Fundación 320"
         ],
         "lat": [
          4.58056689893362
         ],
         "legendgroup": "INGLES",
         "lon": [
          -74.1230425609391
         ],
         "marker": {
          "color": "#B6E880"
         },
         "mode": "markers",
         "name": "INGLES",
         "showlegend": true,
         "subplot": "mapbox",
         "type": "scattermapbox"
        },
        {
         "hovertemplate": "<b>%{hovertext}</b><br><br>BARRIO=QUIROGA<br>Latitud=%{lat}<br>Longitud=%{lon}<extra></extra>",
         "hovertext": [
          "Fundación 321",
          "Fundación 323",
          "Fundación 324",
          "Fundación 325",
          "Fundación 335"
         ],
         "lat": [
          4.57717426439896,
          4.57918978044826,
          4.57944925877923,
          4.5818340312817,
          4.58048024960671
         ],
         "legendgroup": "QUIROGA",
         "lon": [
          -74.1198805321032,
          -74.1226369032672,
          -74.1227586321032,
          -74.1154568321033,
          -74.123612980943
         ],
         "marker": {
          "color": "#FF97FF"
         },
         "mode": "markers",
         "name": "QUIROGA",
         "showlegend": true,
         "subplot": "mapbox",
         "type": "scattermapbox"
        },
        {
         "hovertemplate": "<b>%{hovertext}</b><br><br>BARRIO=VITELMA<br>Latitud=%{lat}<br>Longitud=%{lon}<extra></extra>",
         "hovertext": [
          "Fundación 322"
         ],
         "lat": [
          4.59273178961598
         ],
         "legendgroup": "VITELMA",
         "lon": [
          -74.1430882979198
         ],
         "marker": {
          "color": "#FECB52"
         },
         "mode": "markers",
         "name": "VITELMA",
         "showlegend": true,
         "subplot": "mapbox",
         "type": "scattermapbox"
        },
        {
         "hovertemplate": "<b>%{hovertext}</b><br><br>BARRIO=VILLA MAYOR ORIENTAL<br>Latitud=%{lat}<br>Longitud=%{lon}<extra></extra>",
         "hovertext": [
          "Fundación 326"
         ],
         "lat": [
          4.60322110434176
         ],
         "legendgroup": "VILLA MAYOR ORIENTAL",
         "lon": [
          -74.1004167744314
         ],
         "marker": {
          "color": "#636efa"
         },
         "mode": "markers",
         "name": "VILLA MAYOR ORIENTAL",
         "showlegend": true,
         "subplot": "mapbox",
         "type": "scattermapbox"
        },
        {
         "hovertemplate": "<b>%{hovertext}</b><br><br>BARRIO=CHIRCALES<br>Latitud=%{lat}<br>Longitud=%{lon}<extra></extra>",
         "hovertext": [
          "Fundación 327"
         ],
         "lat": [
          4.56110486070839
         ],
         "legendgroup": "CHIRCALES",
         "lon": [
          -74.1105907321032
         ],
         "marker": {
          "color": "#EF553B"
         },
         "mode": "markers",
         "name": "CHIRCALES",
         "showlegend": true,
         "subplot": "mapbox",
         "type": "scattermapbox"
        },
        {
         "hovertemplate": "<b>%{hovertext}</b><br><br>BARRIO=PALERMO SUR<br>Latitud=%{lat}<br>Longitud=%{lon}<extra></extra>",
         "hovertext": [
          "Fundación 328",
          "Fundación 574"
         ],
         "lat": [
          4.526434445831,
          4.5437219
         ],
         "legendgroup": "PALERMO SUR",
         "lon": [
          -74.1189943609391,
          -74.1141961
         ],
         "marker": {
          "color": "#00cc96"
         },
         "mode": "markers",
         "name": "PALERMO SUR",
         "showlegend": true,
         "subplot": "mapbox",
         "type": "scattermapbox"
        },
        {
         "hovertemplate": "<b>%{hovertext}</b><br><br>BARRIO=MOLINOS I SECTOR<br>Latitud=%{lat}<br>Longitud=%{lon}<extra></extra>",
         "hovertext": [
          "Fundación 329"
         ],
         "lat": [
          4.54583295822614
         ],
         "legendgroup": "MOLINOS I SECTOR",
         "lon": [
          -74.1128018944362
         ],
         "marker": {
          "color": "#ab63fa"
         },
         "mode": "markers",
         "name": "MOLINOS I SECTOR",
         "showlegend": true,
         "subplot": "mapbox",
         "type": "scattermapbox"
        },
        {
         "hovertemplate": "<b>%{hovertext}</b><br><br>BARRIO=OLAYA<br>Latitud=%{lat}<br>Longitud=%{lon}<extra></extra>",
         "hovertext": [
          "Fundación 330",
          "Fundación 336"
         ],
         "lat": [
          4.58301066933862,
          4.58180024218478
         ],
         "legendgroup": "OLAYA",
         "lon": [
          -74.1044319609391,
          -74.1089757609391
         ],
         "marker": {
          "color": "#FFA15A"
         },
         "mode": "markers",
         "name": "OLAYA",
         "showlegend": true,
         "subplot": "mapbox",
         "type": "scattermapbox"
        },
        {
         "hovertemplate": "<b>%{hovertext}</b><br><br>BARRIO=EL PESEBRE<br>Latitud=%{lat}<br>Longitud=%{lon}<extra></extra>",
         "hovertext": [
          "Fundación 332"
         ],
         "lat": [
          4.5744411662727
         ],
         "legendgroup": "EL PESEBRE",
         "lon": [
          -74.1156121944355
         ],
         "marker": {
          "color": "#19d3f3"
         },
         "mode": "markers",
         "name": "EL PESEBRE",
         "showlegend": true,
         "subplot": "mapbox",
         "type": "scattermapbox"
        },
        {
         "hovertemplate": "<b>%{hovertext}</b><br><br>BARRIO=EL PLAYÓN<br>Latitud=%{lat}<br>Longitud=%{lon}<extra></extra>",
         "hovertext": [
          "Fundación 333"
         ],
         "lat": [
          4.56200386061405
         ],
         "legendgroup": "EL PLAYÓN",
         "lon": [
          -74.1208564744314
         ],
         "marker": {
          "color": "#FF6692"
         },
         "mode": "markers",
         "name": "EL PLAYÓN",
         "showlegend": true,
         "subplot": "mapbox",
         "type": "scattermapbox"
        },
        {
         "hovertemplate": "<b>%{hovertext}</b><br><br>BARRIO=CALLEJON SANTA BARBARA<br>Latitud=%{lat}<br>Longitud=%{lon}<extra></extra>",
         "hovertext": [
          "Fundación 334"
         ],
         "lat": [
          4.55964301024638
         ],
         "legendgroup": "CALLEJON SANTA BARBARA",
         "lon": [
          -74.111527617827
         ],
         "marker": {
          "color": "#B6E880"
         },
         "mode": "markers",
         "name": "CALLEJON SANTA BARBARA",
         "showlegend": true,
         "subplot": "mapbox",
         "type": "scattermapbox"
        },
        {
         "hovertemplate": "<b>%{hovertext}</b><br><br>BARRIO=SAN JOSÉ OBRERO<br>Latitud=%{lat}<br>Longitud=%{lon}<extra></extra>",
         "hovertext": [
          "Fundación 337"
         ],
         "lat": [
          4.57676505906202
         ],
         "legendgroup": "SAN JOSÉ OBRERO",
         "lon": [
          -74.1013016744314
         ],
         "marker": {
          "color": "#FF97FF"
         },
         "mode": "markers",
         "name": "SAN JOSÉ OBRERO",
         "showlegend": true,
         "subplot": "mapbox",
         "type": "scattermapbox"
        },
        {
         "hovertemplate": "<b>%{hovertext}</b><br><br>BARRIO=RIVERA DEL OCCIDENTE<br>Latitud=%{lat}<br>Longitud=%{lon}<extra></extra>",
         "hovertext": [
          "Fundación 339"
         ],
         "lat": [
          4.6453246
         ],
         "legendgroup": "RIVERA DEL OCCIDENTE",
         "lon": [
          -74.1682528
         ],
         "marker": {
          "color": "#FECB52"
         },
         "mode": "markers",
         "name": "RIVERA DEL OCCIDENTE",
         "showlegend": true,
         "subplot": "mapbox",
         "type": "scattermapbox"
        },
        {
         "hovertemplate": "<b>%{hovertext}</b><br><br>BARRIO=VEREDA SAN ISIDRO FINCA LA ESPERANZA<br>Latitud=%{lat}<br>Longitud=%{lon}<extra></extra>",
         "hovertext": [
          "Fundación 341"
         ],
         "lat": [
          4.6087214
         ],
         "legendgroup": "VEREDA SAN ISIDRO FINCA LA ESPERANZA",
         "lon": [
          -74.356028
         ],
         "marker": {
          "color": "#636efa"
         },
         "mode": "markers",
         "name": "VEREDA SAN ISIDRO FINCA LA ESPERANZA",
         "showlegend": true,
         "subplot": "mapbox",
         "type": "scattermapbox"
        },
        {
         "hovertemplate": "<b>%{hovertext}</b><br><br>BARRIO=SAN CRISTOBAL SUR<br>Latitud=%{lat}<br>Longitud=%{lon}<extra></extra>",
         "hovertext": [
          "Fundación 342"
         ],
         "lat": [
          4.5631518
         ],
         "legendgroup": "SAN CRISTOBAL SUR",
         "lon": [
          -74.0884502
         ],
         "marker": {
          "color": "#EF553B"
         },
         "mode": "markers",
         "name": "SAN CRISTOBAL SUR",
         "showlegend": true,
         "subplot": "mapbox",
         "type": "scattermapbox"
        },
        {
         "hovertemplate": "<b>%{hovertext}</b><br><br>BARRIO=GUAVIO<br>Latitud=%{lat}<br>Longitud=%{lon}<extra></extra>",
         "hovertext": [
          "Fundación 343"
         ],
         "lat": [
          4.5907734
         ],
         "legendgroup": "GUAVIO",
         "lon": [
          -74.0799226
         ],
         "marker": {
          "color": "#00cc96"
         },
         "mode": "markers",
         "name": "GUAVIO",
         "showlegend": true,
         "subplot": "mapbox",
         "type": "scattermapbox"
        },
        {
         "hovertemplate": "<b>%{hovertext}</b><br><br>BARRIO=NUEVA DELHY<br>Latitud=%{lat}<br>Longitud=%{lon}<extra></extra>",
         "hovertext": [
          "Fundación 344"
         ],
         "lat": [
          4.5294116
         ],
         "legendgroup": "NUEVA DELHY",
         "lon": [
          -74.0879346
         ],
         "marker": {
          "color": "#ab63fa"
         },
         "mode": "markers",
         "name": "NUEVA DELHY",
         "showlegend": true,
         "subplot": "mapbox",
         "type": "scattermapbox"
        },
        {
         "hovertemplate": "<b>%{hovertext}</b><br><br>BARRIO=MODELO SUR <br>Latitud=%{lat}<br>Longitud=%{lon}<extra></extra>",
         "hovertext": [
          "Fundación 345"
         ],
         "lat": [
          4.5843001
         ],
         "legendgroup": "MODELO SUR ",
         "lon": [
          -74.0869715
         ],
         "marker": {
          "color": "#FFA15A"
         },
         "mode": "markers",
         "name": "MODELO SUR ",
         "showlegend": true,
         "subplot": "mapbox",
         "type": "scattermapbox"
        },
        {
         "hovertemplate": "<b>%{hovertext}</b><br><br>BARRIO=SOCIEGO<br>Latitud=%{lat}<br>Longitud=%{lon}<extra></extra>",
         "hovertext": [
          "Fundación 346"
         ],
         "lat": [
          4.6045658
         ],
         "legendgroup": "SOCIEGO",
         "lon": [
          -74.073102
         ],
         "marker": {
          "color": "#19d3f3"
         },
         "mode": "markers",
         "name": "SOCIEGO",
         "showlegend": true,
         "subplot": "mapbox",
         "type": "scattermapbox"
        },
        {
         "hovertemplate": "<b>%{hovertext}</b><br><br>BARRIO=VILLA JAVIER<br>Latitud=%{lat}<br>Longitud=%{lon}<extra></extra>",
         "hovertext": [
          "Fundación 347"
         ],
         "lat": [
          4.579313
         ],
         "legendgroup": "VILLA JAVIER",
         "lon": [
          -74.0848727
         ],
         "marker": {
          "color": "#FF6692"
         },
         "mode": "markers",
         "name": "VILLA JAVIER",
         "showlegend": true,
         "subplot": "mapbox",
         "type": "scattermapbox"
        },
        {
         "hovertemplate": "<b>%{hovertext}</b><br><br>BARRIO=CALVO SUR<br>Latitud=%{lat}<br>Longitud=%{lon}<extra></extra>",
         "hovertext": [
          "Fundación 348"
         ],
         "lat": [
          4.5843467
         ],
         "legendgroup": "CALVO SUR",
         "lon": [
          -74.0836437
         ],
         "marker": {
          "color": "#B6E880"
         },
         "mode": "markers",
         "name": "CALVO SUR",
         "showlegend": true,
         "subplot": "mapbox",
         "type": "scattermapbox"
        },
        {
         "hovertemplate": "<b>%{hovertext}</b><br><br>BARRIO=SAN VICENTE SUR ORIENTAL<br>Latitud=%{lat}<br>Longitud=%{lon}<extra></extra>",
         "hovertext": [
          "Fundación 349",
          "Fundación 617"
         ],
         "lat": [
          4.5558783,
          4.55633040157688
         ],
         "legendgroup": "SAN VICENTE SUR ORIENTAL",
         "lon": [
          -74.0891932,
          -74.0889275358755
         ],
         "marker": {
          "color": "#FF97FF"
         },
         "mode": "markers",
         "name": "SAN VICENTE SUR ORIENTAL",
         "showlegend": true,
         "subplot": "mapbox",
         "type": "scattermapbox"
        },
        {
         "hovertemplate": "<b>%{hovertext}</b><br><br>BARRIO=MONTEBELLO<br>Latitud=%{lat}<br>Longitud=%{lon}<extra></extra>",
         "hovertext": [
          "Fundación 351"
         ],
         "lat": [
          4.6184904
         ],
         "legendgroup": "MONTEBELLO",
         "lon": [
          -74.0637583
         ],
         "marker": {
          "color": "#FECB52"
         },
         "mode": "markers",
         "name": "MONTEBELLO",
         "showlegend": true,
         "subplot": "mapbox",
         "type": "scattermapbox"
        },
        {
         "hovertemplate": "<b>%{hovertext}</b><br><br>BARRIO=LAS LOMAS<br>Latitud=%{lat}<br>Longitud=%{lon}<extra></extra>",
         "hovertext": [
          "Fundación 352"
         ],
         "lat": [
          4.5617109
         ],
         "legendgroup": "LAS LOMAS",
         "lon": [
          -74.0754443
         ],
         "marker": {
          "color": "#636efa"
         },
         "mode": "markers",
         "name": "LAS LOMAS",
         "showlegend": true,
         "subplot": "mapbox",
         "type": "scattermapbox"
        },
        {
         "hovertemplate": "<b>%{hovertext}</b><br><br>BARRIO=LA VICTORIA <br>Latitud=%{lat}<br>Longitud=%{lon}<extra></extra>",
         "hovertext": [
          "Fundación 353",
          "Fundación 354"
         ],
         "lat": [
          4.548172,
          4.548172
         ],
         "legendgroup": "LA VICTORIA ",
         "lon": [
          -74.0957543,
          -74.0957543
         ],
         "marker": {
          "color": "#EF553B"
         },
         "mode": "markers",
         "name": "LA VICTORIA ",
         "showlegend": true,
         "subplot": "mapbox",
         "type": "scattermapbox"
        },
        {
         "hovertemplate": "<b>%{hovertext}</b><br><br>BARRIO=QUINDIO<br>Latitud=%{lat}<br>Longitud=%{lon}<extra></extra>",
         "hovertext": [
          "Fundación 355",
          "Fundación 358"
         ],
         "lat": [
          4.5375788,
          4.5653526
         ],
         "legendgroup": "QUINDIO",
         "lon": [
          -74.0822189,
          -74.0839845
         ],
         "marker": {
          "color": "#00cc96"
         },
         "mode": "markers",
         "name": "QUINDIO",
         "showlegend": true,
         "subplot": "mapbox",
         "type": "scattermapbox"
        },
        {
         "hovertemplate": "<b>%{hovertext}</b><br><br>BARRIO=VALPARAISO<br>Latitud=%{lat}<br>Longitud=%{lon}<extra></extra>",
         "hovertext": [
          "Fundación 356"
         ],
         "lat": [
          4.5269058
         ],
         "legendgroup": "VALPARAISO",
         "lon": [
          -74.090919
         ],
         "marker": {
          "color": "#ab63fa"
         },
         "mode": "markers",
         "name": "VALPARAISO",
         "showlegend": true,
         "subplot": "mapbox",
         "type": "scattermapbox"
        },
        {
         "hovertemplate": "<b>%{hovertext}</b><br><br>BARRIO=ALTOS DEL POBLADO<br>Latitud=%{lat}<br>Longitud=%{lon}<extra></extra>",
         "hovertext": [
          "Fundación 357"
         ],
         "lat": [
          4.5623657
         ],
         "legendgroup": "ALTOS DEL POBLADO",
         "lon": [
          -74.1039338
         ],
         "marker": {
          "color": "#FFA15A"
         },
         "mode": "markers",
         "name": "ALTOS DEL POBLADO",
         "showlegend": true,
         "subplot": "mapbox",
         "type": "scattermapbox"
        },
        {
         "hovertemplate": "<b>%{hovertext}</b><br><br>BARRIO=PUERTO RICO<br>Latitud=%{lat}<br>Longitud=%{lon}<extra></extra>",
         "hovertext": [
          "Fundación 359"
         ],
         "lat": [
          4.5918962
         ],
         "legendgroup": "PUERTO RICO",
         "lon": [
          -74.0817317
         ],
         "marker": {
          "color": "#19d3f3"
         },
         "mode": "markers",
         "name": "PUERTO RICO",
         "showlegend": true,
         "subplot": "mapbox",
         "type": "scattermapbox"
        },
        {
         "hovertemplate": "<b>%{hovertext}</b><br><br>BARRIO=BELLO HORIZONTE<br>Latitud=%{lat}<br>Longitud=%{lon}<extra></extra>",
         "hovertext": [
          "Fundación 360"
         ],
         "lat": [
          4.5612379
         ],
         "legendgroup": "BELLO HORIZONTE",
         "lon": [
          -74.0948541
         ],
         "marker": {
          "color": "#FF6692"
         },
         "mode": "markers",
         "name": "BELLO HORIZONTE",
         "showlegend": true,
         "subplot": "mapbox",
         "type": "scattermapbox"
        },
        {
         "hovertemplate": "<b>%{hovertext}</b><br><br>BARRIO=LA PENÍNSULA<br>Latitud=%{lat}<br>Longitud=%{lon}<extra></extra>",
         "hovertext": [
          "Fundación 362"
         ],
         "lat": [
          4.5484263
         ],
         "legendgroup": "LA PENÍNSULA",
         "lon": [
          -74.1012326
         ],
         "marker": {
          "color": "#B6E880"
         },
         "mode": "markers",
         "name": "LA PENÍNSULA",
         "showlegend": true,
         "subplot": "mapbox",
         "type": "scattermapbox"
        },
        {
         "hovertemplate": "<b>%{hovertext}</b><br><br>BARRIO=LA GLORIA OCCIDENTAL<br>Latitud=%{lat}<br>Longitud=%{lon}<extra></extra>",
         "hovertext": [
          "Fundación 363"
         ],
         "lat": [
          4.5493496
         ],
         "legendgroup": "LA GLORIA OCCIDENTAL",
         "lon": [
          -74.0937372
         ],
         "marker": {
          "color": "#FF97FF"
         },
         "mode": "markers",
         "name": "LA GLORIA OCCIDENTAL",
         "showlegend": true,
         "subplot": "mapbox",
         "type": "scattermapbox"
        },
        {
         "hovertemplate": "<b>%{hovertext}</b><br><br>BARRIO=NUEVA GLORIA<br>Latitud=%{lat}<br>Longitud=%{lon}<extra></extra>",
         "hovertext": [
          "Fundación 364"
         ],
         "lat": [
          4.5393395
         ],
         "legendgroup": "NUEVA GLORIA",
         "lon": [
          -74.089365
         ],
         "marker": {
          "color": "#FECB52"
         },
         "mode": "markers",
         "name": "NUEVA GLORIA",
         "showlegend": true,
         "subplot": "mapbox",
         "type": "scattermapbox"
        },
        {
         "hovertemplate": "<b>%{hovertext}</b><br><br>BARRIO=SANTA INÉS<br>Latitud=%{lat}<br>Longitud=%{lon}<extra></extra>",
         "hovertext": [
          "Fundación 365"
         ],
         "lat": [
          4.56013817369214
         ],
         "legendgroup": "SANTA INÉS",
         "lon": [
          -74.0894413317923
         ],
         "marker": {
          "color": "#636efa"
         },
         "mode": "markers",
         "name": "SANTA INÉS",
         "showlegend": true,
         "subplot": "mapbox",
         "type": "scattermapbox"
        },
        {
         "hovertemplate": "<b>%{hovertext}</b><br><br>BARRIO=SURAMERICANA <br>Latitud=%{lat}<br>Longitud=%{lon}<extra></extra>",
         "hovertext": [
          "Fundación 366"
         ],
         "lat": [
          4.5924531
         ],
         "legendgroup": "SURAMERICANA ",
         "lon": [
          -74.0948743
         ],
         "marker": {
          "color": "#EF553B"
         },
         "mode": "markers",
         "name": "SURAMERICANA ",
         "showlegend": true,
         "subplot": "mapbox",
         "type": "scattermapbox"
        },
        {
         "hovertemplate": "<b>%{hovertext}</b><br><br>BARRIO=CANADÁ<br>Latitud=%{lat}<br>Longitud=%{lon}<extra></extra>",
         "hovertext": [
          "Fundación 367"
         ],
         "lat": [
          4.5459186
         ],
         "legendgroup": "CANADÁ",
         "lon": [
          -74.0987703
         ],
         "marker": {
          "color": "#00cc96"
         },
         "mode": "markers",
         "name": "CANADÁ",
         "showlegend": true,
         "subplot": "mapbox",
         "type": "scattermapbox"
        },
        {
         "hovertemplate": "<b>%{hovertext}</b><br><br>BARRIO=VEINTE DE JULIO<br>Latitud=%{lat}<br>Longitud=%{lon}<extra></extra>",
         "hovertext": [
          "Fundación 368"
         ],
         "lat": [
          4.5459666
         ],
         "legendgroup": "VEINTE DE JULIO",
         "lon": [
          -74.1140912
         ],
         "marker": {
          "color": "#ab63fa"
         },
         "mode": "markers",
         "name": "VEINTE DE JULIO",
         "showlegend": true,
         "subplot": "mapbox",
         "type": "scattermapbox"
        },
        {
         "hovertemplate": "<b>%{hovertext}</b><br><br>BARRIO=LA GLORIA<br>Latitud=%{lat}<br>Longitud=%{lon}<extra></extra>",
         "hovertext": [
          "Fundación 369"
         ],
         "lat": [
          4.6136649
         ],
         "legendgroup": "LA GLORIA",
         "lon": [
          -74.1189267
         ],
         "marker": {
          "color": "#FFA15A"
         },
         "mode": "markers",
         "name": "LA GLORIA",
         "showlegend": true,
         "subplot": "mapbox",
         "type": "scattermapbox"
        },
        {
         "hovertemplate": "<b>%{hovertext}</b><br><br>BARRIO=LA RESURECCIÓN<br>Latitud=%{lat}<br>Longitud=%{lon}<extra></extra>",
         "hovertext": [
          "Fundación 370"
         ],
         "lat": [
          4.5681416
         ],
         "legendgroup": "LA RESURECCIÓN",
         "lon": [
          -74.1117713
         ],
         "marker": {
          "color": "#19d3f3"
         },
         "mode": "markers",
         "name": "LA RESURECCIÓN",
         "showlegend": true,
         "subplot": "mapbox",
         "type": "scattermapbox"
        },
        {
         "hovertemplate": "<b>%{hovertext}</b><br><br>BARRIO=LIBERTADORES<br>Latitud=%{lat}<br>Longitud=%{lon}<extra></extra>",
         "hovertext": [
          "Fundación 371"
         ],
         "lat": [
          4.5682317
         ],
         "legendgroup": "LIBERTADORES",
         "lon": [
          -74.1446023
         ],
         "marker": {
          "color": "#FF6692"
         },
         "mode": "markers",
         "name": "LIBERTADORES",
         "showlegend": true,
         "subplot": "mapbox",
         "type": "scattermapbox"
        },
        {
         "hovertemplate": "<b>%{hovertext}</b><br><br>BARRIO=LA CHUCUA<br>Latitud=%{lat}<br>Longitud=%{lon}<extra></extra>",
         "hovertext": [
          "Fundación 372"
         ],
         "lat": [
          4.7370049
         ],
         "legendgroup": "LA CHUCUA",
         "lon": [
          -74.0941354
         ],
         "marker": {
          "color": "#B6E880"
         },
         "mode": "markers",
         "name": "LA CHUCUA",
         "showlegend": true,
         "subplot": "mapbox",
         "type": "scattermapbox"
        },
        {
         "hovertemplate": "<b>%{hovertext}</b><br><br>BARRIO=SAN JOSE SUR ORIENTAL<br>Latitud=%{lat}<br>Longitud=%{lon}<extra></extra>",
         "hovertext": [
          "Fundación 373"
         ],
         "lat": [
          4.5472173
         ],
         "legendgroup": "SAN JOSE SUR ORIENTAL",
         "lon": [
          -74.0911162
         ],
         "marker": {
          "color": "#FF97FF"
         },
         "mode": "markers",
         "name": "SAN JOSE SUR ORIENTAL",
         "showlegend": true,
         "subplot": "mapbox",
         "type": "scattermapbox"
        },
        {
         "hovertemplate": "<b>%{hovertext}</b><br><br>BARRIO=SAN JOSE DE BAVARIA<br>Latitud=%{lat}<br>Longitud=%{lon}<extra></extra>",
         "hovertext": [
          "Fundación 375"
         ],
         "lat": [
          4.7731175
         ],
         "legendgroup": "SAN JOSE DE BAVARIA",
         "lon": [
          -74.0642148
         ],
         "marker": {
          "color": "#FECB52"
         },
         "mode": "markers",
         "name": "SAN JOSE DE BAVARIA",
         "showlegend": true,
         "subplot": "mapbox",
         "type": "scattermapbox"
        },
        {
         "hovertemplate": "<b>%{hovertext}</b><br><br>BARRIO=SAN FRANCISCO I SECTOR<br>Latitud=%{lat}<br>Longitud=%{lon}<extra></extra>",
         "hovertext": [
          "Fundación 376"
         ],
         "lat": [
          4.5625991
         ],
         "legendgroup": "SAN FRANCISCO I SECTOR",
         "lon": [
          -74.1523942
         ],
         "marker": {
          "color": "#636efa"
         },
         "mode": "markers",
         "name": "SAN FRANCISCO I SECTOR",
         "showlegend": true,
         "subplot": "mapbox",
         "type": "scattermapbox"
        },
        {
         "hovertemplate": "<b>%{hovertext}</b><br><br>BARRIO=LA PATRIA<br>Latitud=%{lat}<br>Longitud=%{lon}<extra></extra>",
         "hovertext": [
          "Fundación 377",
          "Fundación 378"
         ],
         "lat": [
          4.6771789,
          4.6771789
         ],
         "legendgroup": "LA PATRIA",
         "lon": [
          -74.0662342,
          -74.0662342
         ],
         "marker": {
          "color": "#EF553B"
         },
         "mode": "markers",
         "name": "LA PATRIA",
         "showlegend": true,
         "subplot": "mapbox",
         "type": "scattermapbox"
        },
        {
         "hovertemplate": "<b>%{hovertext}</b><br><br>BARRIO=SAN MATEO<br>Latitud=%{lat}<br>Longitud=%{lon}<extra></extra>",
         "hovertext": [
          "Fundación 380",
          "Fundación 449"
         ],
         "lat": [
          4.5725325,
          4.5779644
         ],
         "legendgroup": "SAN MATEO",
         "lon": [
          -74.1723768,
          -74.2001108
         ],
         "marker": {
          "color": "#00cc96"
         },
         "mode": "markers",
         "name": "SAN MATEO",
         "showlegend": true,
         "subplot": "mapbox",
         "type": "scattermapbox"
        },
        {
         "hovertemplate": "<b>%{hovertext}</b><br><br>BARRIO=SAN MATEO II SECTOR-COMUNA 5<br>Latitud=%{lat}<br>Longitud=%{lon}<extra></extra>",
         "hovertext": [
          "Fundación 381"
         ],
         "lat": [
          4.5779964
         ],
         "legendgroup": "SAN MATEO II SECTOR-COMUNA 5",
         "lon": [
          -74.2078561
         ],
         "marker": {
          "color": "#ab63fa"
         },
         "mode": "markers",
         "name": "SAN MATEO II SECTOR-COMUNA 5",
         "showlegend": true,
         "subplot": "mapbox",
         "type": "scattermapbox"
        },
        {
         "hovertemplate": "<b>%{hovertext}</b><br><br>BARRIO=SAN RAFAEL<br>Latitud=%{lat}<br>Longitud=%{lon}<extra></extra>",
         "hovertext": [
          "Fundación 382"
         ],
         "lat": [
          4.5780865
         ],
         "legendgroup": "SAN RAFAEL",
         "lon": [
          -74.2406871
         ],
         "marker": {
          "color": "#FFA15A"
         },
         "mode": "markers",
         "name": "SAN RAFAEL",
         "showlegend": true,
         "subplot": "mapbox",
         "type": "scattermapbox"
        },
        {
         "hovertemplate": "<b>%{hovertext}</b><br><br>BARRIO=LOS MARTIRES<br>Latitud=%{lat}<br>Longitud=%{lon}<extra></extra>",
         "hovertext": [
          "Fundación 386",
          "Fundación 388",
          "Fundación 395",
          "Fundación 399",
          "Fundación 400"
         ],
         "lat": [
          4.61403710766182,
          4.61486779558533,
          4.61205890811012,
          4.61301998422797,
          4.61442618382454
         ],
         "legendgroup": "LOS MARTIRES",
         "lon": [
          -74.076722518665,
          -74.0779125475005,
          -74.0776547186651,
          -74.0779871609945,
          -74.0764971186651
         ],
         "marker": {
          "color": "#19d3f3"
         },
         "mode": "markers",
         "name": "LOS MARTIRES",
         "showlegend": true,
         "subplot": "mapbox",
         "type": "scattermapbox"
        },
        {
         "hovertemplate": "<b>%{hovertext}</b><br><br>BARRIO=LAS NIEVES<br>Latitud=%{lat}<br>Longitud=%{lon}<extra></extra>",
         "hovertext": [
          "Fundación 387",
          "Fundación 392"
         ],
         "lat": [
          4.60911878534657,
          4.61166223140423
         ],
         "legendgroup": "LAS NIEVES",
         "lon": [
          -74.0685877033237,
          -74.0730428211074
         ],
         "marker": {
          "color": "#FF6692"
         },
         "mode": "markers",
         "name": "LAS NIEVES",
         "showlegend": true,
         "subplot": "mapbox",
         "type": "scattermapbox"
        },
        {
         "hovertemplate": "<b>%{hovertext}</b><br><br>BARRIO=SANTA BARBARA<br>Latitud=%{lat}<br>Longitud=%{lon}<extra></extra>",
         "hovertext": [
          "Fundación 389",
          "Fundación 459"
         ],
         "lat": [
          4.59290830121201,
          4.6208677
         ],
         "legendgroup": "SANTA BARBARA",
         "lon": [
          -74.0810962033237,
          -74.0663481
         ],
         "marker": {
          "color": "#B6E880"
         },
         "mode": "markers",
         "name": "SANTA BARBARA",
         "showlegend": true,
         "subplot": "mapbox",
         "type": "scattermapbox"
        },
        {
         "hovertemplate": "<b>%{hovertext}</b><br><br>BARRIO=LA PERSEVERANCIA<br>Latitud=%{lat}<br>Longitud=%{lon}<extra></extra>",
         "hovertext": [
          "Fundación 394"
         ],
         "lat": [
          4.61752869490173
         ],
         "legendgroup": "LA PERSEVERANCIA",
         "lon": [
          -74.0640091033237
         ],
         "marker": {
          "color": "#FF97FF"
         },
         "mode": "markers",
         "name": "LA PERSEVERANCIA",
         "showlegend": true,
         "subplot": "mapbox",
         "type": "scattermapbox"
        },
        {
         "hovertemplate": "<b>%{hovertext}</b><br><br>BARRIO=LOS LACHES, EL DORADO, LA SELVA<br>Latitud=%{lat}<br>Longitud=%{lon}<extra></extra>",
         "hovertext": [
          "Fundación 397"
         ],
         "lat": [
          4.60561152742614
         ],
         "legendgroup": "LOS LACHES, EL DORADO, LA SELVA",
         "lon": [
          -74.0731754369753
         ],
         "marker": {
          "color": "#FECB52"
         },
         "mode": "markers",
         "name": "LOS LACHES, EL DORADO, LA SELVA",
         "showlegend": true,
         "subplot": "mapbox",
         "type": "scattermapbox"
        },
        {
         "hovertemplate": "<b>%{hovertext}</b><br><br>BARRIO=LA FLORIDA<br>Latitud=%{lat}<br>Longitud=%{lon}<extra></extra>",
         "hovertext": [
          "Fundación 402"
         ],
         "lat": [
          4.62203663928113
         ],
         "legendgroup": "LA FLORIDA",
         "lon": [
          -74.0798821744883
         ],
         "marker": {
          "color": "#636efa"
         },
         "mode": "markers",
         "name": "LA FLORIDA",
         "showlegend": true,
         "subplot": "mapbox",
         "type": "scattermapbox"
        },
        {
         "hovertemplate": "<b>%{hovertext}</b><br><br>BARRIO=SANTA ISABEL <br>Latitud=%{lat}<br>Longitud=%{lon}<extra></extra>",
         "hovertext": [
          "Fundación 403"
         ],
         "lat": [
          4.59616767772875
         ],
         "legendgroup": "SANTA ISABEL ",
         "lon": [
          -74.0980840033237
         ],
         "marker": {
          "color": "#EF553B"
         },
         "mode": "markers",
         "name": "SANTA ISABEL ",
         "showlegend": true,
         "subplot": "mapbox",
         "type": "scattermapbox"
        },
        {
         "hovertemplate": "<b>%{hovertext}</b><br><br>BARRIO=VERAGUAS<br>Latitud=%{lat}<br>Longitud=%{lon}<extra></extra>",
         "hovertext": [
          "Fundación 404",
          "Fundación 590"
         ],
         "lat": [
          4.60580379791106,
          4.60356032002689
         ],
         "legendgroup": "VERAGUAS",
         "lon": [
          -74.0978767475004,
          -74.0976200796438
         ],
         "marker": {
          "color": "#00cc96"
         },
         "mode": "markers",
         "name": "VERAGUAS",
         "showlegend": true,
         "subplot": "mapbox",
         "type": "scattermapbox"
        },
        {
         "hovertemplate": "<b>%{hovertext}</b><br><br>BARRIO=SANTA LIBRADA LA SUREÑA<br>Latitud=%{lat}<br>Longitud=%{lon}<extra></extra>",
         "hovertext": [
          "Fundación 406"
         ],
         "lat": [
          4.56759777240795
         ],
         "legendgroup": "SANTA LIBRADA LA SUREÑA",
         "lon": [
          -74.0683615630875
         ],
         "marker": {
          "color": "#ab63fa"
         },
         "mode": "markers",
         "name": "SANTA LIBRADA LA SUREÑA",
         "showlegend": true,
         "subplot": "mapbox",
         "type": "scattermapbox"
        },
        {
         "hovertemplate": "<b>%{hovertext}</b><br><br>BARRIO=LA HORTUA<br>Latitud=%{lat}<br>Longitud=%{lon}<extra></extra>",
         "hovertext": [
          "Fundación 411"
         ],
         "lat": [
          4.5920405
         ],
         "legendgroup": "LA HORTUA",
         "lon": [
          -74.0911297
         ],
         "marker": {
          "color": "#FFA15A"
         },
         "mode": "markers",
         "name": "LA HORTUA",
         "showlegend": true,
         "subplot": "mapbox",
         "type": "scattermapbox"
        },
        {
         "hovertemplate": "<b>%{hovertext}</b><br><br>BARRIO=SIBATE<br>Latitud=%{lat}<br>Longitud=%{lon}<extra></extra>",
         "hovertext": [
          "Fundación 412",
          "Fundación 413"
         ],
         "lat": [
          4.6008318,
          4.6330469
         ],
         "legendgroup": "SIBATE",
         "lon": [
          -74.1140935,
          -74.0709614
         ],
         "marker": {
          "color": "#19d3f3"
         },
         "mode": "markers",
         "name": "SIBATE",
         "showlegend": true,
         "subplot": "mapbox",
         "type": "scattermapbox"
        },
        {
         "hovertemplate": "<b>%{hovertext}</b><br><br>BARRIO= VEREDA PERICO HACIENDA LA AURORA<br>Latitud=%{lat}<br>Longitud=%{lon}<extra></extra>",
         "hovertext": [
          "Fundación 414"
         ],
         "lat": [
          4.6222073
         ],
         "legendgroup": " VEREDA PERICO HACIENDA LA AURORA",
         "lon": [
          -74.0777223
         ],
         "marker": {
          "color": "#FF6692"
         },
         "mode": "markers",
         "name": " VEREDA PERICO HACIENDA LA AURORA",
         "showlegend": true,
         "subplot": "mapbox",
         "type": "scattermapbox"
        },
        {
         "hovertemplate": "<b>%{hovertext}</b><br><br>BARRIO=SIERRA MORENA V SECTOR<br>Latitud=%{lat}<br>Longitud=%{lon}<extra></extra>",
         "hovertext": [
          "Fundación 415"
         ],
         "lat": [
          4.5784741
         ],
         "legendgroup": "SIERRA MORENA V SECTOR",
         "lon": [
          -74.1722186
         ],
         "marker": {
          "color": "#B6E880"
         },
         "mode": "markers",
         "name": "SIERRA MORENA V SECTOR",
         "showlegend": true,
         "subplot": "mapbox",
         "type": "scattermapbox"
        },
        {
         "hovertemplate": "<b>%{hovertext}</b><br><br>BARRIO=SIMON BOLIVAR<br>Latitud=%{lat}<br>Longitud=%{lon}<extra></extra>",
         "hovertext": [
          "Fundación 418",
          "Fundación 419"
         ],
         "lat": [
          4.6776,
          4.6776
         ],
         "legendgroup": "SIMON BOLIVAR",
         "lon": [
          -74.0784,
          -74.0784
         ],
         "marker": {
          "color": "#FF97FF"
         },
         "mode": "markers",
         "name": "SIMON BOLIVAR",
         "showlegend": true,
         "subplot": "mapbox",
         "type": "scattermapbox"
        },
        {
         "hovertemplate": "<b>%{hovertext}</b><br><br>BARRIO=EL ARRROYO<br>Latitud=%{lat}<br>Longitud=%{lon}<extra></extra>",
         "hovertext": [
          "Fundación 420"
         ],
         "lat": [
          4.6036235
         ],
         "legendgroup": "EL ARRROYO",
         "lon": [
          -74.1355648
         ],
         "marker": {
          "color": "#FECB52"
         },
         "mode": "markers",
         "name": "EL ARRROYO",
         "showlegend": true,
         "subplot": "mapbox",
         "type": "scattermapbox"
        },
        {
         "hovertemplate": "<b>%{hovertext}</b><br><br>BARRIO= ESTANCIA NUEVA<br>Latitud=%{lat}<br>Longitud=%{lon}<extra></extra>",
         "hovertext": [
          "Fundación 421"
         ],
         "lat": [
          4.5907238
         ],
         "legendgroup": " ESTANCIA NUEVA",
         "lon": [
          -74.1801129
         ],
         "marker": {
          "color": "#636efa"
         },
         "mode": "markers",
         "name": " ESTANCIA NUEVA",
         "showlegend": true,
         "subplot": "mapbox",
         "type": "scattermapbox"
        },
        {
         "hovertemplate": "<b>%{hovertext}</b><br><br>BARRIO=CAZUCA<br>Latitud=%{lat}<br>Longitud=%{lon}<extra></extra>",
         "hovertext": [
          "Fundación 423",
          "Fundación 454"
         ],
         "lat": [
          4.598369,
          4.5984744
         ],
         "legendgroup": "CAZUCA",
         "lon": [
          -74.1899755,
          -74.2006375
         ],
         "marker": {
          "color": "#EF553B"
         },
         "mode": "markers",
         "name": "CAZUCA",
         "showlegend": true,
         "subplot": "mapbox",
         "type": "scattermapbox"
        },
        {
         "hovertemplate": "<b>%{hovertext}</b><br><br>BARRIO=ALTOS DE LA FLORIDA PRIMER SECTOR <br>Latitud=%{lat}<br>Longitud=%{lon}<extra></extra>",
         "hovertext": [
          "Fundación 427"
         ],
         "lat": [
          4.5656044
         ],
         "legendgroup": "ALTOS DE LA FLORIDA PRIMER SECTOR ",
         "lon": [
          -74.2201701
         ],
         "marker": {
          "color": "#00cc96"
         },
         "mode": "markers",
         "name": "ALTOS DE LA FLORIDA PRIMER SECTOR ",
         "showlegend": true,
         "subplot": "mapbox",
         "type": "scattermapbox"
        },
        {
         "hovertemplate": "<b>%{hovertext}</b><br><br>BARRIO=CIUDADELA SUCRE<br>Latitud=%{lat}<br>Longitud=%{lon}<extra></extra>",
         "hovertext": [
          "Fundación 429"
         ],
         "lat": [
          4.5635258
         ],
         "legendgroup": "CIUDADELA SUCRE",
         "lon": [
          -74.1882079
         ],
         "marker": {
          "color": "#ab63fa"
         },
         "mode": "markers",
         "name": "CIUDADELA SUCRE",
         "showlegend": true,
         "subplot": "mapbox",
         "type": "scattermapbox"
        },
        {
         "hovertemplate": "<b>%{hovertext}</b><br><br>BARRIO=LOMA LINDA, ALTOS DE CAZUCA<br>Latitud=%{lat}<br>Longitud=%{lon}<extra></extra>",
         "hovertext": [
          "Fundación 430"
         ],
         "lat": [
          4.584355
         ],
         "legendgroup": "LOMA LINDA, ALTOS DE CAZUCA",
         "lon": [
          -74.1846961
         ],
         "marker": {
          "color": "#FFA15A"
         },
         "mode": "markers",
         "name": "LOMA LINDA, ALTOS DE CAZUCA",
         "showlegend": true,
         "subplot": "mapbox",
         "type": "scattermapbox"
        },
        {
         "hovertemplate": "<b>%{hovertext}</b><br><br>BARRIO=ALTOS CAZUKA<br>Latitud=%{lat}<br>Longitud=%{lon}<extra></extra>",
         "hovertext": [
          "Fundación 433"
         ],
         "lat": [
          4.587284
         ],
         "legendgroup": "ALTOS CAZUKA",
         "lon": [
          -74.1926991
         ],
         "marker": {
          "color": "#19d3f3"
         },
         "mode": "markers",
         "name": "ALTOS CAZUKA",
         "showlegend": true,
         "subplot": "mapbox",
         "type": "scattermapbox"
        },
        {
         "hovertemplate": "<b>%{hovertext}</b><br><br>BARRIO=EL ARROYO<br>Latitud=%{lat}<br>Longitud=%{lon}<extra></extra>",
         "hovertext": [
          "Fundación 434",
          "Fundación 435"
         ],
         "lat": [
          4.5803811,
          4.5987213
         ],
         "legendgroup": "EL ARROYO",
         "lon": [
          -74.1248968,
          -74.1969388
         ],
         "marker": {
          "color": "#FF6692"
         },
         "mode": "markers",
         "name": "EL ARROYO",
         "showlegend": true,
         "subplot": "mapbox",
         "type": "scattermapbox"
        },
        {
         "hovertemplate": "<b>%{hovertext}</b><br><br>BARRIO=DUCALES<br>Latitud=%{lat}<br>Longitud=%{lon}<extra></extra>",
         "hovertext": [
          "Fundación 436"
         ],
         "lat": [
          4.5739969
         ],
         "legendgroup": "DUCALES",
         "lon": [
          -74.2330755
         ],
         "marker": {
          "color": "#B6E880"
         },
         "mode": "markers",
         "name": "DUCALES",
         "showlegend": true,
         "subplot": "mapbox",
         "type": "scattermapbox"
        },
        {
         "hovertemplate": "<b>%{hovertext}</b><br><br>BARRIO=COMPARTIR<br>Latitud=%{lat}<br>Longitud=%{lon}<extra></extra>",
         "hovertext": [
          "Fundación 437"
         ],
         "lat": [
          4.5758482
         ],
         "legendgroup": "COMPARTIR",
         "lon": [
          -74.2265486
         ],
         "marker": {
          "color": "#FF97FF"
         },
         "mode": "markers",
         "name": "COMPARTIR",
         "showlegend": true,
         "subplot": "mapbox",
         "type": "scattermapbox"
        },
        {
         "hovertemplate": "<b>%{hovertext}</b><br><br>BARRIO=SAN HUMBERTO<br>Latitud=%{lat}<br>Longitud=%{lon}<extra></extra>",
         "hovertext": [
          "Fundación 438"
         ],
         "lat": [
          4.5790718
         ],
         "legendgroup": "SAN HUMBERTO",
         "lon": [
          -74.2161946
         ],
         "marker": {
          "color": "#FECB52"
         },
         "mode": "markers",
         "name": "SAN HUMBERTO",
         "showlegend": true,
         "subplot": "mapbox",
         "type": "scattermapbox"
        },
        {
         "hovertemplate": "<b>%{hovertext}</b><br><br>BARRIO=LA ESPERANZA SUR <br>Latitud=%{lat}<br>Longitud=%{lon}<extra></extra>",
         "hovertext": [
          "Fundación 439"
         ],
         "lat": [
          4.5693489
         ],
         "legendgroup": "LA ESPERANZA SUR ",
         "lon": [
          -74.2301527
         ],
         "marker": {
          "color": "#636efa"
         },
         "mode": "markers",
         "name": "LA ESPERANZA SUR ",
         "showlegend": true,
         "subplot": "mapbox",
         "type": "scattermapbox"
        },
        {
         "hovertemplate": "<b>%{hovertext}</b><br><br>BARRIO=SANTA ANA<br>Latitud=%{lat}<br>Longitud=%{lon}<extra></extra>",
         "hovertext": [
          "Fundación 440"
         ],
         "lat": [
          4.5676723
         ],
         "legendgroup": "SANTA ANA",
         "lon": [
          -74.2368641
         ],
         "marker": {
          "color": "#EF553B"
         },
         "mode": "markers",
         "name": "SANTA ANA",
         "showlegend": true,
         "subplot": "mapbox",
         "type": "scattermapbox"
        },
        {
         "hovertemplate": "<b>%{hovertext}</b><br><br>BARRIO=SOACHA<br>Latitud=%{lat}<br>Longitud=%{lon}<extra></extra>",
         "hovertext": [
          "Fundación 441",
          "Fundación 442"
         ],
         "lat": [
          4.5726739,
          4.5726739
         ],
         "legendgroup": "SOACHA",
         "lon": [
          -74.218509,
          -74.218509
         ],
         "marker": {
          "color": "#00cc96"
         },
         "mode": "markers",
         "name": "SOACHA",
         "showlegend": true,
         "subplot": "mapbox",
         "type": "scattermapbox"
        },
        {
         "hovertemplate": "<b>%{hovertext}</b><br><br>BARRIO=SOACHA CENTRO\n<br>Latitud=%{lat}<br>Longitud=%{lon}<extra></extra>",
         "hovertext": [
          "Fundación 444"
         ],
         "lat": [
          4.5694005
         ],
         "legendgroup": "SOACHA CENTRO\n",
         "lon": [
          -74.2325845
         ],
         "marker": {
          "color": "#ab63fa"
         },
         "mode": "markers",
         "name": "SOACHA CENTRO\n",
         "showlegend": true,
         "subplot": "mapbox",
         "type": "scattermapbox"
        },
        {
         "hovertemplate": "<b>%{hovertext}</b><br><br>BARRIO=EL PROGRESO - CAZUCA<br>Latitud=%{lat}<br>Longitud=%{lon}<extra></extra>",
         "hovertext": [
          "Fundación 446"
         ],
         "lat": [
          4.5738533
         ],
         "legendgroup": "EL PROGRESO - CAZUCA",
         "lon": [
          -74.1848246
         ],
         "marker": {
          "color": "#FFA15A"
         },
         "mode": "markers",
         "name": "EL PROGRESO - CAZUCA",
         "showlegend": true,
         "subplot": "mapbox",
         "type": "scattermapbox"
        },
        {
         "hovertemplate": "<b>%{hovertext}</b><br><br>BARRIO=BRISAS DE LAS ARENAS - CAZUCÁ (EL ARROYO)<br>Latitud=%{lat}<br>Longitud=%{lon}<extra></extra>",
         "hovertext": [
          "Fundación 447"
         ],
         "lat": [
          4.5778163
         ],
         "legendgroup": "BRISAS DE LAS ARENAS - CAZUCÁ (EL ARROYO)",
         "lon": [
          -74.1804885
         ],
         "marker": {
          "color": "#19d3f3"
         },
         "mode": "markers",
         "name": "BRISAS DE LAS ARENAS - CAZUCÁ (EL ARROYO)",
         "showlegend": true,
         "subplot": "mapbox",
         "type": "scattermapbox"
        },
        {
         "hovertemplate": "<b>%{hovertext}</b><br><br>BARRIO=SANTO DOMINGO - CAZUCA<br>Latitud=%{lat}<br>Longitud=%{lon}<extra></extra>",
         "hovertext": [
          "Fundación 450"
         ],
         "lat": [
          4.5811384
         ],
         "legendgroup": "SANTO DOMINGO - CAZUCA",
         "lon": [
          -74.2138627
         ],
         "marker": {
          "color": "#FF6692"
         },
         "mode": "markers",
         "name": "SANTO DOMINGO - CAZUCA",
         "showlegend": true,
         "subplot": "mapbox",
         "type": "scattermapbox"
        },
        {
         "hovertemplate": "<b>%{hovertext}</b><br><br>BARRIO=CIUDAD QUITO<br>Latitud=%{lat}<br>Longitud=%{lon}<extra></extra>",
         "hovertext": [
          "Fundación 451",
          "Fundación 452"
         ],
         "lat": [
          4.5777266,
          4.5777266
         ],
         "legendgroup": "CIUDAD QUITO",
         "lon": [
          -74.2436631,
          -74.2436631
         ],
         "marker": {
          "color": "#B6E880"
         },
         "mode": "markers",
         "name": "CIUDAD QUITO",
         "showlegend": true,
         "subplot": "mapbox",
         "type": "scattermapbox"
        },
        {
         "hovertemplate": "<b>%{hovertext}</b><br><br>BARRIO=LINCON<br>Latitud=%{lat}<br>Longitud=%{lon}<extra></extra>",
         "hovertext": [
          "Fundación 453"
         ],
         "lat": [
          4.5834626
         ],
         "legendgroup": "LINCON",
         "lon": [
          -74.2149634
         ],
         "marker": {
          "color": "#FF97FF"
         },
         "mode": "markers",
         "name": "LINCON",
         "showlegend": true,
         "subplot": "mapbox",
         "type": "scattermapbox"
        },
        {
         "hovertemplate": "<b>%{hovertext}</b><br><br>BARRIO=BOMBEROS<br>Latitud=%{lat}<br>Longitud=%{lon}<extra></extra>",
         "hovertext": [
          "Fundación 455"
         ],
         "lat": [
          4.5897543
         ],
         "legendgroup": "BOMBEROS",
         "lon": [
          -74.2017031
         ],
         "marker": {
          "color": "#FECB52"
         },
         "mode": "markers",
         "name": "BOMBEROS",
         "showlegend": true,
         "subplot": "mapbox",
         "type": "scattermapbox"
        },
        {
         "hovertemplate": "<b>%{hovertext}</b><br><br>BARRIO=CIUDAD DE QUITO<br>Latitud=%{lat}<br>Longitud=%{lon}<extra></extra>",
         "hovertext": [
          "Fundación 456",
          "Fundación 457"
         ],
         "lat": [
          4.5777266,
          4.5777266
         ],
         "legendgroup": "CIUDAD DE QUITO",
         "lon": [
          -74.2436631,
          -74.2436631
         ],
         "marker": {
          "color": "#636efa"
         },
         "mode": "markers",
         "name": "CIUDAD DE QUITO",
         "showlegend": true,
         "subplot": "mapbox",
         "type": "scattermapbox"
        },
        {
         "hovertemplate": "<b>%{hovertext}</b><br><br>BARRIO=SORATAMA<br>Latitud=%{lat}<br>Longitud=%{lon}<extra></extra>",
         "hovertext": [
          "Fundación 458"
         ],
         "lat": [
          4.7428129
         ],
         "legendgroup": "SORATAMA",
         "lon": [
          -74.016055
         ],
         "marker": {
          "color": "#EF553B"
         },
         "mode": "markers",
         "name": "SORATAMA",
         "showlegend": true,
         "subplot": "mapbox",
         "type": "scattermapbox"
        },
        {
         "hovertemplate": "<b>%{hovertext}</b><br><br>BARRIO=TIERRA LINDA<br>Latitud=%{lat}<br>Longitud=%{lon}<extra></extra>",
         "hovertext": [
          "Fundación 463"
         ],
         "lat": [
          4.711544
         ],
         "legendgroup": "TIERRA LINDA",
         "lon": [
          -74.0563352
         ],
         "marker": {
          "color": "#00cc96"
         },
         "mode": "markers",
         "name": "TIERRA LINDA",
         "showlegend": true,
         "subplot": "mapbox",
         "type": "scattermapbox"
        },
        {
         "hovertemplate": "<b>%{hovertext}</b><br><br>BARRIO=RINCON DE SUBA<br>Latitud=%{lat}<br>Longitud=%{lon}<extra></extra>",
         "hovertext": [
          "Fundación 465"
         ],
         "lat": [
          4.7223157
         ],
         "legendgroup": "RINCON DE SUBA",
         "lon": [
          -74.0965354
         ],
         "marker": {
          "color": "#ab63fa"
         },
         "mode": "markers",
         "name": "RINCON DE SUBA",
         "showlegend": true,
         "subplot": "mapbox",
         "type": "scattermapbox"
        },
        {
         "hovertemplate": "<b>%{hovertext}</b><br><br>BARRIO=TIBABUYES<br>Latitud=%{lat}<br>Longitud=%{lon}<extra></extra>",
         "hovertext": [
          "Fundación 466",
          "Fundación 496"
         ],
         "lat": [
          4.734662,
          4.7529312
         ],
         "legendgroup": "TIBABUYES",
         "lon": [
          -74.1014816,
          -74.1136959
         ],
         "marker": {
          "color": "#FFA15A"
         },
         "mode": "markers",
         "name": "TIBABUYES",
         "showlegend": true,
         "subplot": "mapbox",
         "type": "scattermapbox"
        },
        {
         "hovertemplate": "<b>%{hovertext}</b><br><br>BARRIO=MAZURÉN<br>Latitud=%{lat}<br>Longitud=%{lon}<extra></extra>",
         "hovertext": [
          "Fundación 467"
         ],
         "lat": [
          4.7351567
         ],
         "legendgroup": "MAZURÉN",
         "lon": [
          -74.0533519
         ],
         "marker": {
          "color": "#19d3f3"
         },
         "mode": "markers",
         "name": "MAZURÉN",
         "showlegend": true,
         "subplot": "mapbox",
         "type": "scattermapbox"
        },
        {
         "hovertemplate": "<b>%{hovertext}</b><br><br>BARRIO=CIUDAD JARDIN NORTE<br>Latitud=%{lat}<br>Longitud=%{lon}<extra></extra>",
         "hovertext": [
          "Fundación 470"
         ],
         "lat": [
          4.721880107
         ],
         "legendgroup": "CIUDAD JARDIN NORTE",
         "lon": [
          -74.06792116
         ],
         "marker": {
          "color": "#FF6692"
         },
         "mode": "markers",
         "name": "CIUDAD JARDIN NORTE",
         "showlegend": true,
         "subplot": "mapbox",
         "type": "scattermapbox"
        },
        {
         "hovertemplate": "<b>%{hovertext}</b><br><br>BARRIO=RINCÓN<br>Latitud=%{lat}<br>Longitud=%{lon}<extra></extra>",
         "hovertext": [
          "Fundación 472"
         ],
         "lat": [
          4.724461833
         ],
         "legendgroup": "RINCÓN",
         "lon": [
          -74.08459144
         ],
         "marker": {
          "color": "#B6E880"
         },
         "mode": "markers",
         "name": "RINCÓN",
         "showlegend": true,
         "subplot": "mapbox",
         "type": "scattermapbox"
        },
        {
         "hovertemplate": "<b>%{hovertext}</b><br><br>BARRIO=SALITRE<br>Latitud=%{lat}<br>Longitud=%{lon}<extra></extra>",
         "hovertext": [
          "Fundación 473"
         ],
         "lat": [
          4.755597809
         ],
         "legendgroup": "SALITRE",
         "lon": [
          -74.08493474
         ],
         "marker": {
          "color": "#FF97FF"
         },
         "mode": "markers",
         "name": "SALITRE",
         "showlegend": true,
         "subplot": "mapbox",
         "type": "scattermapbox"
        },
        {
         "hovertemplate": "<b>%{hovertext}</b><br><br>BARRIO=CASA BLANCA<br>Latitud=%{lat}<br>Longitud=%{lon}<extra></extra>",
         "hovertext": [
          "Fundación 474"
         ],
         "lat": [
          4.746959043
         ],
         "legendgroup": "CASA BLANCA",
         "lon": [
          -74.07687195
         ],
         "marker": {
          "color": "#FECB52"
         },
         "mode": "markers",
         "name": "CASA BLANCA",
         "showlegend": true,
         "subplot": "mapbox",
         "type": "scattermapbox"
        },
        {
         "hovertemplate": "<b>%{hovertext}</b><br><br>BARRIO= PRADO VERANIEGO<br>Latitud=%{lat}<br>Longitud=%{lon}<extra></extra>",
         "hovertext": [
          "Fundación 475"
         ],
         "lat": [
          4.760598136
         ],
         "legendgroup": " PRADO VERANIEGO",
         "lon": [
          -74.03105905
         ],
         "marker": {
          "color": "#636efa"
         },
         "mode": "markers",
         "name": " PRADO VERANIEGO",
         "showlegend": true,
         "subplot": "mapbox",
         "type": "scattermapbox"
        },
        {
         "hovertemplate": "<b>%{hovertext}</b><br><br>BARRIO=CERRRO DE LA CONEJERA<br>Latitud=%{lat}<br>Longitud=%{lon}<extra></extra>",
         "hovertext": [
          "Fundación 476",
          "Fundación 477"
         ],
         "lat": [
          4.765450222,
          4.765450222
         ],
         "legendgroup": "CERRRO DE LA CONEJERA",
         "lon": [
          -74.06873854,
          -74.06873854
         ],
         "marker": {
          "color": "#EF553B"
         },
         "mode": "markers",
         "name": "CERRRO DE LA CONEJERA",
         "showlegend": true,
         "subplot": "mapbox",
         "type": "scattermapbox"
        },
        {
         "hovertemplate": "<b>%{hovertext}</b><br><br>BARRIO=ILARCO<br>Latitud=%{lat}<br>Longitud=%{lon}<extra></extra>",
         "hovertext": [
          "Fundación 478"
         ],
         "lat": [
          4.698109249
         ],
         "legendgroup": "ILARCO",
         "lon": [
          -74.06656706
         ],
         "marker": {
          "color": "#00cc96"
         },
         "mode": "markers",
         "name": "ILARCO",
         "showlegend": true,
         "subplot": "mapbox",
         "type": "scattermapbox"
        },
        {
         "hovertemplate": "<b>%{hovertext}</b><br><br>BARRIO= AURES I<br>Latitud=%{lat}<br>Longitud=%{lon}<extra></extra>",
         "hovertext": [
          "Fundación 479"
         ],
         "lat": [
          4.733937466
         ],
         "legendgroup": " AURES I",
         "lon": [
          -74.09761833
         ],
         "marker": {
          "color": "#ab63fa"
         },
         "mode": "markers",
         "name": " AURES I",
         "showlegend": true,
         "subplot": "mapbox",
         "type": "scattermapbox"
        },
        {
         "hovertemplate": "<b>%{hovertext}</b><br><br>BARRIO= LISBOA<br>Latitud=%{lat}<br>Longitud=%{lon}<extra></extra>",
         "hovertext": [
          "Fundación 480"
         ],
         "lat": [
          4.744114703
         ],
         "legendgroup": " LISBOA",
         "lon": [
          -74.12276143
         ],
         "marker": {
          "color": "#FFA15A"
         },
         "mode": "markers",
         "name": " LISBOA",
         "showlegend": true,
         "subplot": "mapbox",
         "type": "scattermapbox"
        },
        {
         "hovertemplate": "<b>%{hovertext}</b><br><br>BARRIO=ESCUELA DE CARABINEROS<br>Latitud=%{lat}<br>Longitud=%{lon}<extra></extra>",
         "hovertext": [
          "Fundación 481"
         ],
         "lat": [
          4.73794167
         ],
         "legendgroup": "ESCUELA DE CARABINEROS",
         "lon": [
          -74.07333531
         ],
         "marker": {
          "color": "#19d3f3"
         },
         "mode": "markers",
         "name": "ESCUELA DE CARABINEROS",
         "showlegend": true,
         "subplot": "mapbox",
         "type": "scattermapbox"
        },
        {
         "hovertemplate": "<b>%{hovertext}</b><br><br>BARRIO=BATAN<br>Latitud=%{lat}<br>Longitud=%{lon}<extra></extra>",
         "hovertext": [
          "Fundación 482"
         ],
         "lat": [
          4.703612573
         ],
         "legendgroup": "BATAN",
         "lon": [
          -74.06181901
         ],
         "marker": {
          "color": "#FF6692"
         },
         "mode": "markers",
         "name": "BATAN",
         "showlegend": true,
         "subplot": "mapbox",
         "type": "scattermapbox"
        },
        {
         "hovertemplate": "<b>%{hovertext}</b><br><br>BARRIO=GRAN BRITALIA<br>Latitud=%{lat}<br>Longitud=%{lon}<extra></extra>",
         "hovertext": [
          "Fundación 484"
         ],
         "lat": [
          4.619532657
         ],
         "legendgroup": "GRAN BRITALIA",
         "lon": [
          -74.17325138
         ],
         "marker": {
          "color": "#B6E880"
         },
         "mode": "markers",
         "name": "GRAN BRITALIA",
         "showlegend": true,
         "subplot": "mapbox",
         "type": "scattermapbox"
        },
        {
         "hovertemplate": "<b>%{hovertext}</b><br><br>BARRIO=CORDOBA<br>Latitud=%{lat}<br>Longitud=%{lon}<extra></extra>",
         "hovertext": [
          "Fundación 485"
         ],
         "lat": [
          4.564290188
         ],
         "legendgroup": "CORDOBA",
         "lon": [
          -74.09040364
         ],
         "marker": {
          "color": "#FF97FF"
         },
         "mode": "markers",
         "name": "CORDOBA",
         "showlegend": true,
         "subplot": "mapbox",
         "type": "scattermapbox"
        },
        {
         "hovertemplate": "<b>%{hovertext}</b><br><br>BARRIO=PUERTA DEL SOL<br>Latitud=%{lat}<br>Longitud=%{lon}<extra></extra>",
         "hovertext": [
          "Fundación 486"
         ],
         "lat": [
          4.718838836
         ],
         "legendgroup": "PUERTA DEL SOL",
         "lon": [
          -74.03529816
         ],
         "marker": {
          "color": "#FECB52"
         },
         "mode": "markers",
         "name": "PUERTA DEL SOL",
         "showlegend": true,
         "subplot": "mapbox",
         "type": "scattermapbox"
        },
        {
         "hovertemplate": "<b>%{hovertext}</b><br><br>BARRIO=ALMENDROS<br>Latitud=%{lat}<br>Longitud=%{lon}<extra></extra>",
         "hovertext": [
          "Fundación 489"
         ],
         "lat": [
          4.751023211
         ],
         "legendgroup": "ALMENDROS",
         "lon": [
          -74.10226641
         ],
         "marker": {
          "color": "#636efa"
         },
         "mode": "markers",
         "name": "ALMENDROS",
         "showlegend": true,
         "subplot": "mapbox",
         "type": "scattermapbox"
        },
        {
         "hovertemplate": "<b>%{hovertext}</b><br><br>BARRIO=TTES DE COLOMBIA<br>Latitud=%{lat}<br>Longitud=%{lon}<extra></extra>",
         "hovertext": [
          "Fundación 490"
         ],
         "lat": [
          4.730278166
         ],
         "legendgroup": "TTES DE COLOMBIA",
         "lon": [
          -74.09298717
         ],
         "marker": {
          "color": "#EF553B"
         },
         "mode": "markers",
         "name": "TTES DE COLOMBIA",
         "showlegend": true,
         "subplot": "mapbox",
         "type": "scattermapbox"
        },
        {
         "hovertemplate": "<b>%{hovertext}</b><br><br>BARRIO=LA GAITANA<br>Latitud=%{lat}<br>Longitud=%{lon}<extra></extra>",
         "hovertext": [
          "Fundación 491"
         ],
         "lat": [
          4.740050222
         ],
         "legendgroup": "LA GAITANA",
         "lon": [
          -74.10877353
         ],
         "marker": {
          "color": "#00cc96"
         },
         "mode": "markers",
         "name": "LA GAITANA",
         "showlegend": true,
         "subplot": "mapbox",
         "type": "scattermapbox"
        },
        {
         "hovertemplate": "<b>%{hovertext}</b><br><br>BARRIO=SAN JOSÉ DE BAVARIA<br>Latitud=%{lat}<br>Longitud=%{lon}<extra></extra>",
         "hovertext": [
          "Fundación 492"
         ],
         "lat": [
          4.765858349
         ],
         "legendgroup": "SAN JOSÉ DE BAVARIA",
         "lon": [
          -74.05557978
         ],
         "marker": {
          "color": "#ab63fa"
         },
         "mode": "markers",
         "name": "SAN JOSÉ DE BAVARIA",
         "showlegend": true,
         "subplot": "mapbox",
         "type": "scattermapbox"
        },
        {
         "hovertemplate": "<b>%{hovertext}</b><br><br>BARRIO=NIZA<br>Latitud=%{lat}<br>Longitud=%{lon}<extra></extra>",
         "hovertext": [
          "Fundación 494"
         ],
         "lat": [
          4.708633
         ],
         "legendgroup": "NIZA",
         "lon": [
          -74.05557041
         ],
         "marker": {
          "color": "#FFA15A"
         },
         "mode": "markers",
         "name": "NIZA",
         "showlegend": true,
         "subplot": "mapbox",
         "type": "scattermapbox"
        },
        {
         "hovertemplate": "<b>%{hovertext}</b><br><br>BARRIO=VEREDA CHORRILLO<br>Latitud=%{lat}<br>Longitud=%{lon}<extra></extra>",
         "hovertext": [
          "Fundación 495"
         ],
         "lat": [
          4.7830065
         ],
         "legendgroup": "VEREDA CHORRILLO",
         "lon": [
          -74.0964598
         ],
         "marker": {
          "color": "#19d3f3"
         },
         "mode": "markers",
         "name": "VEREDA CHORRILLO",
         "showlegend": true,
         "subplot": "mapbox",
         "type": "scattermapbox"
        },
        {
         "hovertemplate": "<b>%{hovertext}</b><br><br>BARRIO=LOS NARANJOS <br>Latitud=%{lat}<br>Longitud=%{lon}<extra></extra>",
         "hovertext": [
          "Fundación 498"
         ],
         "lat": [
          4.726497
         ],
         "legendgroup": "LOS NARANJOS ",
         "lon": [
          -74.0850529
         ],
         "marker": {
          "color": "#FF6692"
         },
         "mode": "markers",
         "name": "LOS NARANJOS ",
         "showlegend": true,
         "subplot": "mapbox",
         "type": "scattermapbox"
        },
        {
         "hovertemplate": "<b>%{hovertext}</b><br><br>BARRIO=TEUSAQUILLO<br>Latitud=%{lat}<br>Longitud=%{lon}<extra></extra>",
         "hovertext": [
          "Fundación 504",
          "Fundación 516"
         ],
         "lat": [
          4.6240317,
          4.622102
         ],
         "legendgroup": "TEUSAQUILLO",
         "lon": [
          -74.0731048,
          -74.0701033
         ],
         "marker": {
          "color": "#B6E880"
         },
         "mode": "markers",
         "name": "TEUSAQUILLO",
         "showlegend": true,
         "subplot": "mapbox",
         "type": "scattermapbox"
        },
        {
         "hovertemplate": "<b>%{hovertext}</b><br><br>BARRIO=JARDIN BOTANICO<br>Latitud=%{lat}<br>Longitud=%{lon}<extra></extra>",
         "hovertext": [
          "Fundación 505"
         ],
         "lat": [
          4.6613693
         ],
         "legendgroup": "JARDIN BOTANICO",
         "lon": [
          -74.0979009
         ],
         "marker": {
          "color": "#FF97FF"
         },
         "mode": "markers",
         "name": "JARDIN BOTANICO",
         "showlegend": true,
         "subplot": "mapbox",
         "type": "scattermapbox"
        },
        {
         "hovertemplate": "<b>%{hovertext}</b><br><br>BARRIO=BANCO CENTRAL<br>Latitud=%{lat}<br>Longitud=%{lon}<extra></extra>",
         "hovertext": [
          "Fundación 508"
         ],
         "lat": [
          4.644105
         ],
         "legendgroup": "BANCO CENTRAL",
         "lon": [
          -74.0697368
         ],
         "marker": {
          "color": "#FECB52"
         },
         "mode": "markers",
         "name": "BANCO CENTRAL",
         "showlegend": true,
         "subplot": "mapbox",
         "type": "scattermapbox"
        },
        {
         "hovertemplate": "<b>%{hovertext}</b><br><br>BARRIO=CENTRO NARIÑO<br>Latitud=%{lat}<br>Longitud=%{lon}<extra></extra>",
         "hovertext": [
          "Fundación 509"
         ],
         "lat": [
          4.6271
         ],
         "legendgroup": "CENTRO NARIÑO",
         "lon": [
          -74.0869659
         ],
         "marker": {
          "color": "#636efa"
         },
         "mode": "markers",
         "name": "CENTRO NARIÑO",
         "showlegend": true,
         "subplot": "mapbox",
         "type": "scattermapbox"
        },
        {
         "hovertemplate": "<b>%{hovertext}</b><br><br>BARRIO=NICOLAS DE FEDERMAN <br>Latitud=%{lat}<br>Longitud=%{lon}<extra></extra>",
         "hovertext": [
          "Fundación 510"
         ],
         "lat": [
          4.648423
         ],
         "legendgroup": "NICOLAS DE FEDERMAN ",
         "lon": [
          -74.0822873
         ],
         "marker": {
          "color": "#EF553B"
         },
         "mode": "markers",
         "name": "NICOLAS DE FEDERMAN ",
         "showlegend": true,
         "subplot": "mapbox",
         "type": "scattermapbox"
        },
        {
         "hovertemplate": "<b>%{hovertext}</b><br><br>BARRIO=SANTA TERESITA<br>Latitud=%{lat}<br>Longitud=%{lon}<extra></extra>",
         "hovertext": [
          "Fundación 512"
         ],
         "lat": [
          4.6321347
         ],
         "legendgroup": "SANTA TERESITA",
         "lon": [
          -74.0711252
         ],
         "marker": {
          "color": "#00cc96"
         },
         "mode": "markers",
         "name": "SANTA TERESITA",
         "showlegend": true,
         "subplot": "mapbox",
         "type": "scattermapbox"
        },
        {
         "hovertemplate": "<b>%{hovertext}</b><br><br>BARRIO=SAN LUIS<br>Latitud=%{lat}<br>Longitud=%{lon}<extra></extra>",
         "hovertext": [
          "Fundación 513"
         ],
         "lat": [
          4.6501018
         ],
         "legendgroup": "SAN LUIS",
         "lon": [
          -74.0702018
         ],
         "marker": {
          "color": "#ab63fa"
         },
         "mode": "markers",
         "name": "SAN LUIS",
         "showlegend": true,
         "subplot": "mapbox",
         "type": "scattermapbox"
        },
        {
         "hovertemplate": "<b>%{hovertext}</b><br><br>BARRIO=CIUDAD SALIRTE ORIENTAL SUR <br>Latitud=%{lat}<br>Longitud=%{lon}<extra></extra>",
         "hovertext": [
          "Fundación 514"
         ],
         "lat": [
          4.6470895
         ],
         "legendgroup": "CIUDAD SALIRTE ORIENTAL SUR ",
         "lon": [
          -74.1036516
         ],
         "marker": {
          "color": "#FFA15A"
         },
         "mode": "markers",
         "name": "CIUDAD SALIRTE ORIENTAL SUR ",
         "showlegend": true,
         "subplot": "mapbox",
         "type": "scattermapbox"
        },
        {
         "hovertemplate": "<b>%{hovertext}</b><br><br>BARRIO=CERROS<br>Latitud=%{lat}<br>Longitud=%{lon}<extra></extra>",
         "hovertext": [
          "Fundación 520"
         ],
         "lat": [
          4.7514226
         ],
         "legendgroup": "CERROS",
         "lon": [
          -74.0766494
         ],
         "marker": {
          "color": "#19d3f3"
         },
         "mode": "markers",
         "name": "CERROS",
         "showlegend": true,
         "subplot": "mapbox",
         "type": "scattermapbox"
        },
        {
         "hovertemplate": "<b>%{hovertext}</b><br><br>BARRIO=SAN CARLOS<br>Latitud=%{lat}<br>Longitud=%{lon}<extra></extra>",
         "hovertext": [
          "Fundación 522"
         ],
         "lat": [
          4.5665635
         ],
         "legendgroup": "SAN CARLOS",
         "lon": [
          -74.1302175
         ],
         "marker": {
          "color": "#FF6692"
         },
         "mode": "markers",
         "name": "SAN CARLOS",
         "showlegend": true,
         "subplot": "mapbox",
         "type": "scattermapbox"
        },
        {
         "hovertemplate": "<b>%{hovertext}</b><br><br>BARRIO=CLARET<br>Latitud=%{lat}<br>Longitud=%{lon}<extra></extra>",
         "hovertext": [
          "Fundación 523"
         ],
         "lat": [
          4.5858399
         ],
         "legendgroup": "CLARET",
         "lon": [
          -74.1297422
         ],
         "marker": {
          "color": "#B6E880"
         },
         "mode": "markers",
         "name": "CLARET",
         "showlegend": true,
         "subplot": "mapbox",
         "type": "scattermapbox"
        },
        {
         "hovertemplate": "<b>%{hovertext}</b><br><br>BARRIO=CHIRCAL<br>Latitud=%{lat}<br>Longitud=%{lon}<extra></extra>",
         "hovertext": [
          "Fundación 524"
         ],
         "lat": [
          4.571282
         ],
         "legendgroup": "CHIRCAL",
         "lon": [
          -74.1442481
         ],
         "marker": {
          "color": "#FF97FF"
         },
         "mode": "markers",
         "name": "CHIRCAL",
         "showlegend": true,
         "subplot": "mapbox",
         "type": "scattermapbox"
        },
        {
         "hovertemplate": "<b>%{hovertext}</b><br><br>BARRIO=SAN BENITO<br>Latitud=%{lat}<br>Longitud=%{lon}<extra></extra>",
         "hovertext": [
          "Fundación 525",
          "Fundación 526"
         ],
         "lat": [
          4.5643573,
          4.5641902
         ],
         "legendgroup": "SAN BENITO",
         "lon": [
          -74.1352939,
          -74.1341747
         ],
         "marker": {
          "color": "#FECB52"
         },
         "mode": "markers",
         "name": "SAN BENITO",
         "showlegend": true,
         "subplot": "mapbox",
         "type": "scattermapbox"
        },
        {
         "hovertemplate": "<b>%{hovertext}</b><br><br>BARRIO=SAN VICENTE FERRER<br>Latitud=%{lat}<br>Longitud=%{lon}<extra></extra>",
         "hovertext": [
          "Fundación 527"
         ],
         "lat": [
          4.5786351
         ],
         "legendgroup": "SAN VICENTE FERRER",
         "lon": [
          -74.1412944
         ],
         "marker": {
          "color": "#636efa"
         },
         "mode": "markers",
         "name": "SAN VICENTE FERRER",
         "showlegend": true,
         "subplot": "mapbox",
         "type": "scattermapbox"
        },
        {
         "hovertemplate": "<b>%{hovertext}</b><br><br>BARRIO=SAN CRISTOBAL NORTE<br>Latitud=%{lat}<br>Longitud=%{lon}<extra></extra>",
         "hovertext": [
          "Fundación 530",
          "Fundación 548"
         ],
         "lat": [
          4.7408605,
          4.7414531
         ],
         "legendgroup": "SAN CRISTOBAL NORTE",
         "lon": [
          -74.0279843,
          -74.0299276
         ],
         "marker": {
          "color": "#EF553B"
         },
         "mode": "markers",
         "name": "SAN CRISTOBAL NORTE",
         "showlegend": true,
         "subplot": "mapbox",
         "type": "scattermapbox"
        },
        {
         "hovertemplate": "<b>%{hovertext}</b><br><br>BARRIO=CERRO NORTE<br>Latitud=%{lat}<br>Longitud=%{lon}<extra></extra>",
         "hovertext": [
          "Fundación 531",
          "Fundación 532"
         ],
         "lat": [
          4.7336449,
          4.7350062
         ],
         "legendgroup": "CERRO NORTE",
         "lon": [
          -74.0197372,
          -74.0221222
         ],
         "marker": {
          "color": "#00cc96"
         },
         "mode": "markers",
         "name": "CERRO NORTE",
         "showlegend": true,
         "subplot": "mapbox",
         "type": "scattermapbox"
        },
        {
         "hovertemplate": "<b>%{hovertext}</b><br><br>BARRIO=CEDRITOS<br>Latitud=%{lat}<br>Longitud=%{lon}<extra></extra>",
         "hovertext": [
          "Fundación 534",
          "Fundación 555"
         ],
         "lat": [
          4.7234392,
          4.7197645
         ],
         "legendgroup": "CEDRITOS",
         "lon": [
          -74.0449642,
          -74.038947
         ],
         "marker": {
          "color": "#ab63fa"
         },
         "mode": "markers",
         "name": "CEDRITOS",
         "showlegend": true,
         "subplot": "mapbox",
         "type": "scattermapbox"
        },
        {
         "hovertemplate": "<b>%{hovertext}</b><br><br>BARRIO=SANTA TERESA<br>Latitud=%{lat}<br>Longitud=%{lon}<extra></extra>",
         "hovertext": [
          "Fundación 535"
         ],
         "lat": [
          4.6991692
         ],
         "legendgroup": "SANTA TERESA",
         "lon": [
          -74.0308155
         ],
         "marker": {
          "color": "#FFA15A"
         },
         "mode": "markers",
         "name": "SANTA TERESA",
         "showlegend": true,
         "subplot": "mapbox",
         "type": "scattermapbox"
        },
        {
         "hovertemplate": "<b>%{hovertext}</b><br><br>BARRIO=ALTOS DE SERREZUELA<br>Latitud=%{lat}<br>Longitud=%{lon}<extra></extra>",
         "hovertext": [
          "Fundación 536"
         ],
         "lat": [
          4.6891185
         ],
         "legendgroup": "ALTOS DE SERREZUELA",
         "lon": [
          -74.0465003
         ],
         "marker": {
          "color": "#19d3f3"
         },
         "mode": "markers",
         "name": "ALTOS DE SERREZUELA",
         "showlegend": true,
         "subplot": "mapbox",
         "type": "scattermapbox"
        },
        {
         "hovertemplate": "<b>%{hovertext}</b><br><br>BARRIO=EL RETIRO<br>Latitud=%{lat}<br>Longitud=%{lon}<extra></extra>",
         "hovertext": [
          "Fundación 537"
         ],
         "lat": [
          4.664508
         ],
         "legendgroup": "EL RETIRO",
         "lon": [
          -74.0494885
         ],
         "marker": {
          "color": "#FF6692"
         },
         "mode": "markers",
         "name": "EL RETIRO",
         "showlegend": true,
         "subplot": "mapbox",
         "type": "scattermapbox"
        },
        {
         "hovertemplate": "<b>%{hovertext}</b><br><br>BARRIO=USAQUÉN<br>Latitud=%{lat}<br>Longitud=%{lon}<extra></extra>",
         "hovertext": [
          "Fundación 538",
          "Fundación 542"
         ],
         "lat": [
          4.6929071,
          4.69336
         ],
         "legendgroup": "USAQUÉN",
         "lon": [
          -74.027304,
          -74.0266614
         ],
         "marker": {
          "color": "#B6E880"
         },
         "mode": "markers",
         "name": "USAQUÉN",
         "showlegend": true,
         "subplot": "mapbox",
         "type": "scattermapbox"
        },
        {
         "hovertemplate": "<b>%{hovertext}</b><br><br>BARRIO=CANAIMA<br>Latitud=%{lat}<br>Longitud=%{lon}<extra></extra>",
         "hovertext": [
          "Fundación 539"
         ],
         "lat": [
          4.774166
         ],
         "legendgroup": "CANAIMA",
         "lon": [
          -74.0409603
         ],
         "marker": {
          "color": "#FF97FF"
         },
         "mode": "markers",
         "name": "CANAIMA",
         "showlegend": true,
         "subplot": "mapbox",
         "type": "scattermapbox"
        },
        {
         "hovertemplate": "<b>%{hovertext}</b><br><br>BARRIO=PAÑUELITO<br>Latitud=%{lat}<br>Longitud=%{lon}<extra></extra>",
         "hovertext": [
          "Fundación 540"
         ],
         "lat": [
          4.7363964
         ],
         "legendgroup": "PAÑUELITO",
         "lon": [
          -74.1100261
         ],
         "marker": {
          "color": "#FECB52"
         },
         "mode": "markers",
         "name": "PAÑUELITO",
         "showlegend": true,
         "subplot": "mapbox",
         "type": "scattermapbox"
        },
        {
         "hovertemplate": "<b>%{hovertext}</b><br><br>BARRIO=MORATO<br>Latitud=%{lat}<br>Longitud=%{lon}<extra></extra>",
         "hovertext": [
          "Fundación 545"
         ],
         "lat": [
          4.7149715
         ],
         "legendgroup": "MORATO",
         "lon": [
          -74.0665352
         ],
         "marker": {
          "color": "#636efa"
         },
         "mode": "markers",
         "name": "MORATO",
         "showlegend": true,
         "subplot": "mapbox",
         "type": "scattermapbox"
        },
        {
         "hovertemplate": "<b>%{hovertext}</b><br><br>BARRIO=TIBABITA<br>Latitud=%{lat}<br>Longitud=%{lon}<extra></extra>",
         "hovertext": [
          "Fundación 546",
          "Fundación 547",
          "Fundación 552"
         ],
         "lat": [
          4.7633322,
          4.7363592,
          4.7646089
         ],
         "legendgroup": "TIBABITA",
         "lon": [
          -74.0288553,
          -74.0213544,
          -74.0294385
         ],
         "marker": {
          "color": "#EF553B"
         },
         "mode": "markers",
         "name": "TIBABITA",
         "showlegend": true,
         "subplot": "mapbox",
         "type": "scattermapbox"
        },
        {
         "hovertemplate": "<b>%{hovertext}</b><br><br>BARRIO=EL CODITO<br>Latitud=%{lat}<br>Longitud=%{lon}<extra></extra>",
         "hovertext": [
          "Fundación 550"
         ],
         "lat": [
          4.7586286
         ],
         "legendgroup": "EL CODITO",
         "lon": [
          -74.022896
         ],
         "marker": {
          "color": "#00cc96"
         },
         "mode": "markers",
         "name": "EL CODITO",
         "showlegend": true,
         "subplot": "mapbox",
         "type": "scattermapbox"
        },
        {
         "hovertemplate": "<b>%{hovertext}</b><br><br>BARRIO=VIA EL GUABIO<br>Latitud=%{lat}<br>Longitud=%{lon}<extra></extra>",
         "hovertext": [
          "Fundación 551"
         ],
         "lat": [
          4.75909
         ],
         "legendgroup": "VIA EL GUABIO",
         "lon": [
          -74.01319
         ],
         "marker": {
          "color": "#ab63fa"
         },
         "mode": "markers",
         "name": "VIA EL GUABIO",
         "showlegend": true,
         "subplot": "mapbox",
         "type": "scattermapbox"
        },
        {
         "hovertemplate": "<b>%{hovertext}</b><br><br>BARRIO=ORQUIDEAS<br>Latitud=%{lat}<br>Longitud=%{lon}<extra></extra>",
         "hovertext": [
          "Fundación 553"
         ],
         "lat": [
          4.7405484
         ],
         "legendgroup": "ORQUIDEAS",
         "lon": [
          -74.0429901
         ],
         "marker": {
          "color": "#FFA15A"
         },
         "mode": "markers",
         "name": "ORQUIDEAS",
         "showlegend": true,
         "subplot": "mapbox",
         "type": "scattermapbox"
        },
        {
         "hovertemplate": "<b>%{hovertext}</b><br><br>BARRIO=PERLA VILLA NIDIA<br>Latitud=%{lat}<br>Longitud=%{lon}<extra></extra>",
         "hovertext": [
          "Fundación 556"
         ],
         "lat": [
          4.7356422
         ],
         "legendgroup": "PERLA VILLA NIDIA",
         "lon": [
          -74.0213591
         ],
         "marker": {
          "color": "#19d3f3"
         },
         "mode": "markers",
         "name": "PERLA VILLA NIDIA",
         "showlegend": true,
         "subplot": "mapbox",
         "type": "scattermapbox"
        },
        {
         "hovertemplate": "<b>%{hovertext}</b><br><br>BARRIO=SANTA PAULA<br>Latitud=%{lat}<br>Longitud=%{lon}<extra></extra>",
         "hovertext": [
          "Fundación 557"
         ],
         "lat": [
          4.691024
         ],
         "legendgroup": "SANTA PAULA",
         "lon": [
          -74.0415087
         ],
         "marker": {
          "color": "#FF6692"
         },
         "mode": "markers",
         "name": "SANTA PAULA",
         "showlegend": true,
         "subplot": "mapbox",
         "type": "scattermapbox"
        },
        {
         "hovertemplate": "<b>%{hovertext}</b><br><br>BARRIO=JUAN REY LA FLORA<br>Latitud=%{lat}<br>Longitud=%{lon}<extra></extra>",
         "hovertext": [
          "Fundación 559"
         ],
         "lat": [
          4.5164309
         ],
         "legendgroup": "JUAN REY LA FLORA",
         "lon": [
          -74.0892533
         ],
         "marker": {
          "color": "#B6E880"
         },
         "mode": "markers",
         "name": "JUAN REY LA FLORA",
         "showlegend": true,
         "subplot": "mapbox",
         "type": "scattermapbox"
        },
        {
         "hovertemplate": "<b>%{hovertext}</b><br><br>BARRIO=TIHUAQUE - JUAN JOSÉ RONDON<br>Latitud=%{lat}<br>Longitud=%{lon}<extra></extra>",
         "hovertext": [
          "Fundación 560"
         ],
         "lat": [
          4.5015387
         ],
         "legendgroup": "TIHUAQUE - JUAN JOSÉ RONDON",
         "lon": [
          -74.1059224
         ],
         "marker": {
          "color": "#FF97FF"
         },
         "mode": "markers",
         "name": "TIHUAQUE - JUAN JOSÉ RONDON",
         "showlegend": true,
         "subplot": "mapbox",
         "type": "scattermapbox"
        },
        {
         "hovertemplate": "<b>%{hovertext}</b><br><br>BARRIO= NUEVO SAN ANDRES<br>Latitud=%{lat}<br>Longitud=%{lon}<extra></extra>",
         "hovertext": [
          "Fundación 561"
         ],
         "lat": [
          4.5035644
         ],
         "legendgroup": " NUEVO SAN ANDRES",
         "lon": [
          -74.1179204
         ],
         "marker": {
          "color": "#FECB52"
         },
         "mode": "markers",
         "name": " NUEVO SAN ANDRES",
         "showlegend": true,
         "subplot": "mapbox",
         "type": "scattermapbox"
        },
        {
         "hovertemplate": "<b>%{hovertext}</b><br><br>BARRIO=NUEVO PORTAL<br>Latitud=%{lat}<br>Longitud=%{lon}<extra></extra>",
         "hovertext": [
          "Fundación 562"
         ],
         "lat": [
          4.4937499
         ],
         "legendgroup": "NUEVO PORTAL",
         "lon": [
          -74.1092098
         ],
         "marker": {
          "color": "#636efa"
         },
         "mode": "markers",
         "name": "NUEVO PORTAL",
         "showlegend": true,
         "subplot": "mapbox",
         "type": "scattermapbox"
        },
        {
         "hovertemplate": "<b>%{hovertext}</b><br><br>BARRIO=MARICHUELA<br>Latitud=%{lat}<br>Longitud=%{lon}<extra></extra>",
         "hovertext": [
          "Fundación 563",
          "Fundación 611"
         ],
         "lat": [
          4.5114108,
          4.5132746404884
         ],
         "legendgroup": "MARICHUELA",
         "lon": [
          -74.1168656,
          -74.1163722432766
         ],
         "marker": {
          "color": "#EF553B"
         },
         "mode": "markers",
         "name": "MARICHUELA",
         "showlegend": true,
         "subplot": "mapbox",
         "type": "scattermapbox"
        },
        {
         "hovertemplate": "<b>%{hovertext}</b><br><br>BARRIO=ALFONSO LÓPEZ<br>Latitud=%{lat}<br>Longitud=%{lon}<extra></extra>",
         "hovertext": [
          "Fundación 564",
          "Fundación 576"
         ],
         "lat": [
          4.5018624,
          4.500329
         ],
         "legendgroup": "ALFONSO LÓPEZ",
         "lon": [
          -74.1096598,
          -74.100645
         ],
         "marker": {
          "color": "#00cc96"
         },
         "mode": "markers",
         "name": "ALFONSO LÓPEZ",
         "showlegend": true,
         "subplot": "mapbox",
         "type": "scattermapbox"
        },
        {
         "hovertemplate": "<b>%{hovertext}</b><br><br>BARRIO=BUENOS AIRES - ALFONSO LÓPEZ<br>Latitud=%{lat}<br>Longitud=%{lon}<extra></extra>",
         "hovertext": [
          "Fundación 565"
         ],
         "lat": [
          4.5003787
         ],
         "legendgroup": "BUENOS AIRES - ALFONSO LÓPEZ",
         "lon": [
          -74.1033343
         ],
         "marker": {
          "color": "#ab63fa"
         },
         "mode": "markers",
         "name": "BUENOS AIRES - ALFONSO LÓPEZ",
         "showlegend": true,
         "subplot": "mapbox",
         "type": "scattermapbox"
        },
        {
         "hovertemplate": "<b>%{hovertext}</b><br><br>BARRIO=VIRREY<br>Latitud=%{lat}<br>Longitud=%{lon}<extra></extra>",
         "hovertext": [
          "Fundación 566",
          "Fundación 596"
         ],
         "lat": [
          4.5018602,
          4.5035634065195
         ],
         "legendgroup": "VIRREY",
         "lon": [
          -74.1137442,
          -74.1162663906955
         ],
         "marker": {
          "color": "#FFA15A"
         },
         "mode": "markers",
         "name": "VIRREY",
         "showlegend": true,
         "subplot": "mapbox",
         "type": "scattermapbox"
        },
        {
         "hovertemplate": "<b>%{hovertext}</b><br><br>BARRIO=ANOTNIO JOSE DE SUCRE <br>Latitud=%{lat}<br>Longitud=%{lon}<extra></extra>",
         "hovertext": [
          "Fundación 567"
         ],
         "lat": [
          4.4949488
         ],
         "legendgroup": "ANOTNIO JOSE DE SUCRE ",
         "lon": [
          -74.116504
         ],
         "marker": {
          "color": "#19d3f3"
         },
         "mode": "markers",
         "name": "ANOTNIO JOSE DE SUCRE ",
         "showlegend": true,
         "subplot": "mapbox",
         "type": "scattermapbox"
        },
        {
         "hovertemplate": "<b>%{hovertext}</b><br><br>BARRIO=LA FISCALA - CENTRO<br>Latitud=%{lat}<br>Longitud=%{lon}<extra></extra>",
         "hovertext": [
          "Fundación 568"
         ],
         "lat": [
          4.5327529
         ],
         "legendgroup": "LA FISCALA - CENTRO",
         "lon": [
          -74.1109134
         ],
         "marker": {
          "color": "#FF6692"
         },
         "mode": "markers",
         "name": "LA FISCALA - CENTRO",
         "showlegend": true,
         "subplot": "mapbox",
         "type": "scattermapbox"
        },
        {
         "hovertemplate": "<b>%{hovertext}</b><br><br>BARRIO=ALTAMIRA<br>Latitud=%{lat}<br>Longitud=%{lon}<extra></extra>",
         "hovertext": [
          "Fundación 569"
         ],
         "lat": [
          4.5424699
         ],
         "legendgroup": "ALTAMIRA",
         "lon": [
          -74.1068332
         ],
         "marker": {
          "color": "#B6E880"
         },
         "mode": "markers",
         "name": "ALTAMIRA",
         "showlegend": true,
         "subplot": "mapbox",
         "type": "scattermapbox"
        },
        {
         "hovertemplate": "<b>%{hovertext}</b><br><br>BARRIO=VIRREY SUR<br>Latitud=%{lat}<br>Longitud=%{lon}<extra></extra>",
         "hovertext": [
          "Fundación 570"
         ],
         "lat": [
          4.502576
         ],
         "legendgroup": "VIRREY SUR",
         "lon": [
          -74.1118716
         ],
         "marker": {
          "color": "#FF97FF"
         },
         "mode": "markers",
         "name": "VIRREY SUR",
         "showlegend": true,
         "subplot": "mapbox",
         "type": "scattermapbox"
        },
        {
         "hovertemplate": "<b>%{hovertext}</b><br><br>BARRIO=EL DIVINO SALVADOR<br>Latitud=%{lat}<br>Longitud=%{lon}<extra></extra>",
         "hovertext": [
          "Fundación 571"
         ],
         "lat": [
          4.5631305
         ],
         "legendgroup": "EL DIVINO SALVADOR",
         "lon": [
          -74.1070509
         ],
         "marker": {
          "color": "#FECB52"
         },
         "mode": "markers",
         "name": "EL DIVINO SALVADOR",
         "showlegend": true,
         "subplot": "mapbox",
         "type": "scattermapbox"
        },
        {
         "hovertemplate": "<b>%{hovertext}</b><br><br>BARRIO=BELLA VISTA ALTA<br>Latitud=%{lat}<br>Longitud=%{lon}<extra></extra>",
         "hovertext": [
          "Fundación 573"
         ],
         "lat": [
          4.4998025
         ],
         "legendgroup": "BELLA VISTA ALTA",
         "lon": [
          -74.1093297
         ],
         "marker": {
          "color": "#636efa"
         },
         "mode": "markers",
         "name": "BELLA VISTA ALTA",
         "showlegend": true,
         "subplot": "mapbox",
         "type": "scattermapbox"
        },
        {
         "hovertemplate": "<b>%{hovertext}</b><br><br>BARRIO=CASA LOMA<br>Latitud=%{lat}<br>Longitud=%{lon}<extra></extra>",
         "hovertext": [
          "Fundación 575"
         ],
         "lat": [
          4.7589526
         ],
         "legendgroup": "CASA LOMA",
         "lon": [
          -74.0237989
         ],
         "marker": {
          "color": "#EF553B"
         },
         "mode": "markers",
         "name": "CASA LOMA",
         "showlegend": true,
         "subplot": "mapbox",
         "type": "scattermapbox"
        },
        {
         "hovertemplate": "<b>%{hovertext}</b><br><br>BARRIO=EL PORVENIR<br>Latitud=%{lat}<br>Longitud=%{lon}<extra></extra>",
         "hovertext": [
          "Fundación 577"
         ],
         "lat": [
          4.532763
         ],
         "legendgroup": "EL PORVENIR",
         "lon": [
          -74.1142664
         ],
         "marker": {
          "color": "#00cc96"
         },
         "mode": "markers",
         "name": "EL PORVENIR",
         "showlegend": true,
         "subplot": "mapbox",
         "type": "scattermapbox"
        },
        {
         "hovertemplate": "<b>%{hovertext}</b><br><br>BARRIO=BETANIA<br>Latitud=%{lat}<br>Longitud=%{lon}<extra></extra>",
         "hovertext": [
          "Fundación 578"
         ],
         "lat": [
          4.5106585
         ],
         "legendgroup": "BETANIA",
         "lon": [
          -74.1090484
         ],
         "marker": {
          "color": "#ab63fa"
         },
         "mode": "markers",
         "name": "BETANIA",
         "showlegend": true,
         "subplot": "mapbox",
         "type": "scattermapbox"
        },
        {
         "hovertemplate": "<b>%{hovertext}</b><br><br>BARRIO=VILLA ALEMANIA II<br>Latitud=%{lat}<br>Longitud=%{lon}<extra></extra>",
         "hovertext": [
          "Fundación 579"
         ],
         "lat": [
          4.4900868
         ],
         "legendgroup": "VILLA ALEMANIA II",
         "lon": [
          -74.1147916
         ],
         "marker": {
          "color": "#FFA15A"
         },
         "mode": "markers",
         "name": "VILLA ALEMANIA II",
         "showlegend": true,
         "subplot": "mapbox",
         "type": "scattermapbox"
        },
        {
         "hovertemplate": "<b>%{hovertext}</b><br><br>BARRIO=CHUNIZA<br>Latitud=%{lat}<br>Longitud=%{lon}<extra></extra>",
         "hovertext": [
          "Fundación 580",
          "Fundación 585"
         ],
         "lat": [
          4.505188,
          4.5029571
         ],
         "legendgroup": "CHUNIZA",
         "lon": [
          -74.1109575,
          -74.1122914
         ],
         "marker": {
          "color": "#19d3f3"
         },
         "mode": "markers",
         "name": "CHUNIZA",
         "showlegend": true,
         "subplot": "mapbox",
         "type": "scattermapbox"
        },
        {
         "hovertemplate": "<b>%{hovertext}</b><br><br>BARRIO=EL BOSQUE<br>Latitud=%{lat}<br>Longitud=%{lon}<extra></extra>",
         "hovertext": [
          "Fundación 581"
         ],
         "lat": [
          4.5055218
         ],
         "legendgroup": "EL BOSQUE",
         "lon": [
          -74.1007654
         ],
         "marker": {
          "color": "#FF6692"
         },
         "mode": "markers",
         "name": "EL BOSQUE",
         "showlegend": true,
         "subplot": "mapbox",
         "type": "scattermapbox"
        },
        {
         "hovertemplate": "<b>%{hovertext}</b><br><br>BARRIO=ARRAYANES<br>Latitud=%{lat}<br>Longitud=%{lon}<extra></extra>",
         "hovertext": [
          "Fundación 582"
         ],
         "lat": [
          4.4976288
         ],
         "legendgroup": "ARRAYANES",
         "lon": [
          -74.0861099
         ],
         "marker": {
          "color": "#B6E880"
         },
         "mode": "markers",
         "name": "ARRAYANES",
         "showlegend": true,
         "subplot": "mapbox",
         "type": "scattermapbox"
        },
        {
         "hovertemplate": "<b>%{hovertext}</b><br><br>BARRIO=USME<br>Latitud=%{lat}<br>Longitud=%{lon}<extra></extra>",
         "hovertext": [
          "Fundación 583"
         ],
         "lat": [
          4.5631604
         ],
         "legendgroup": "USME",
         "lon": [
          -74.1175423
         ],
         "marker": {
          "color": "#FF97FF"
         },
         "mode": "markers",
         "name": "USME",
         "showlegend": true,
         "subplot": "mapbox",
         "type": "scattermapbox"
        },
        {
         "hovertemplate": "<b>%{hovertext}</b><br><br>BARRIO=ATENAS<br>Latitud=%{lat}<br>Longitud=%{lon}<extra></extra>",
         "hovertext": [
          "Fundación 584"
         ],
         "lat": [
          4.5566046
         ],
         "legendgroup": "ATENAS",
         "lon": [
          -74.0938121
         ],
         "marker": {
          "color": "#FECB52"
         },
         "mode": "markers",
         "name": "ATENAS",
         "showlegend": true,
         "subplot": "mapbox",
         "type": "scattermapbox"
        },
        {
         "hovertemplate": "<b>%{hovertext}</b><br><br>BARRIO=JUAN REY<br>Latitud=%{lat}<br>Longitud=%{lon}<extra></extra>",
         "hovertext": [
          "Fundación 586"
         ],
         "lat": [
          4.5012589
         ],
         "legendgroup": "JUAN REY",
         "lon": [
          -74.0892932
         ],
         "marker": {
          "color": "#636efa"
         },
         "mode": "markers",
         "name": "JUAN REY",
         "showlegend": true,
         "subplot": "mapbox",
         "type": "scattermapbox"
        },
        {
         "hovertemplate": "<b>%{hovertext}</b><br><br>BARRIO=USME CENTRO<br>Latitud=%{lat}<br>Longitud=%{lon}<extra></extra>",
         "hovertext": [
          "Fundación 589"
         ],
         "lat": [
          4.56521365780407
         ],
         "legendgroup": "USME CENTRO",
         "lon": [
          -74.146176935582
         ],
         "marker": {
          "color": "#EF553B"
         },
         "mode": "markers",
         "name": "USME CENTRO",
         "showlegend": true,
         "subplot": "mapbox",
         "type": "scattermapbox"
        },
        {
         "hovertemplate": "<b>%{hovertext}</b><br><br>BARRIO=VICTORIA<br>Latitud=%{lat}<br>Longitud=%{lon}<extra></extra>",
         "hovertext": [
          "Fundación 591"
         ],
         "lat": [
          4.54836544752403
         ],
         "legendgroup": "VICTORIA",
         "lon": [
          -74.0882877932538
         ],
         "marker": {
          "color": "#00cc96"
         },
         "mode": "markers",
         "name": "VICTORIA",
         "showlegend": true,
         "subplot": "mapbox",
         "type": "scattermapbox"
        },
        {
         "hovertemplate": "<b>%{hovertext}</b><br><br>BARRIO=LA VICTORIA<br>Latitud=%{lat}<br>Longitud=%{lon}<extra></extra>",
         "hovertext": [
          "Fundación 592"
         ],
         "lat": [
          4.60376732679297
         ],
         "legendgroup": "LA VICTORIA",
         "lon": [
          -74.1449261487408
         ],
         "marker": {
          "color": "#ab63fa"
         },
         "mode": "markers",
         "name": "LA VICTORIA",
         "showlegend": true,
         "subplot": "mapbox",
         "type": "scattermapbox"
        },
        {
         "hovertemplate": "<b>%{hovertext}</b><br><br>BARRIO=VILLA DEL RIO<br>Latitud=%{lat}<br>Longitud=%{lon}<extra></extra>",
         "hovertext": [
          "Fundación 593"
         ],
         "lat": [
          4.59965617681893
         ],
         "legendgroup": "VILLA DEL RIO",
         "lon": [
          -74.1547721644179
         ],
         "marker": {
          "color": "#FFA15A"
         },
         "mode": "markers",
         "name": "VILLA DEL RIO",
         "showlegend": true,
         "subplot": "mapbox",
         "type": "scattermapbox"
        },
        {
         "hovertemplate": "<b>%{hovertext}</b><br><br>BARRIO=QUINTA RAMOS<br>Latitud=%{lat}<br>Longitud=%{lon}<extra></extra>",
         "hovertext": [
          "Fundación 594"
         ],
         "lat": [
          4.57939815270718
         ],
         "legendgroup": "QUINTA RAMOS",
         "lon": [
          -74.0892095932538
         ],
         "marker": {
          "color": "#19d3f3"
         },
         "mode": "markers",
         "name": "QUINTA RAMOS",
         "showlegend": true,
         "subplot": "mapbox",
         "type": "scattermapbox"
        },
        {
         "hovertemplate": "<b>%{hovertext}</b><br><br>BARRIO=VILLAS DE VISCAYA<br>Latitud=%{lat}<br>Longitud=%{lon}<extra></extra>",
         "hovertext": [
          "Fundación 595"
         ],
         "lat": [
          4.63513505937921
         ],
         "legendgroup": "VILLAS DE VISCAYA",
         "lon": [
          -74.2073313932538
         ],
         "marker": {
          "color": "#FF6692"
         },
         "mode": "markers",
         "name": "VILLAS DE VISCAYA",
         "showlegend": true,
         "subplot": "mapbox",
         "type": "scattermapbox"
        },
        {
         "hovertemplate": "<b>%{hovertext}</b><br><br>BARRIO=LA MERCED<br>Latitud=%{lat}<br>Longitud=%{lon}<extra></extra>",
         "hovertext": [
          "Fundación 608"
         ],
         "lat": [
          4.62011136487285
         ],
         "legendgroup": "LA MERCED",
         "lon": [
          -74.0657999739623
         ],
         "marker": {
          "color": "#B6E880"
         },
         "mode": "markers",
         "name": "LA MERCED",
         "showlegend": true,
         "subplot": "mapbox",
         "type": "scattermapbox"
        },
        {
         "hovertemplate": "<b>%{hovertext}</b><br><br>BARRIO=JOSÉ JOAQUIN VARGAS<br>Latitud=%{lat}<br>Longitud=%{lon}<extra></extra>",
         "hovertext": [
          "Fundación 610"
         ],
         "lat": [
          4.62960725638412
         ],
         "legendgroup": "JOSÉ JOAQUIN VARGAS",
         "lon": [
          -74.1227071046482
         ],
         "marker": {
          "color": "#FF97FF"
         },
         "mode": "markers",
         "name": "JOSÉ JOAQUIN VARGAS",
         "showlegend": true,
         "subplot": "mapbox",
         "type": "scattermapbox"
        },
        {
         "hovertemplate": "<b>%{hovertext}</b><br><br>BARRIO=EL PROVENIR<br>Latitud=%{lat}<br>Longitud=%{lon}<extra></extra>",
         "hovertext": [
          "Fundación 612"
         ],
         "lat": [
          4.63332394938156
         ],
         "legendgroup": "EL PROVENIR",
         "lon": [
          -74.0944794819042
         ],
         "marker": {
          "color": "#FECB52"
         },
         "mode": "markers",
         "name": "EL PROVENIR",
         "showlegend": true,
         "subplot": "mapbox",
         "type": "scattermapbox"
        },
        {
         "hovertemplate": "<b>%{hovertext}</b><br><br>BARRIO=SAN JOAQUIN<br>Latitud=%{lat}<br>Longitud=%{lon}<extra></extra>",
         "hovertext": [
          "Fundación 613"
         ],
         "lat": [
          4.66112050250219
         ],
         "legendgroup": "SAN JOAQUIN",
         "lon": [
          -74.0769529739621
         ],
         "marker": {
          "color": "#636efa"
         },
         "mode": "markers",
         "name": "SAN JOAQUIN",
         "showlegend": true,
         "subplot": "mapbox",
         "type": "scattermapbox"
        },
        {
         "hovertemplate": "<b>%{hovertext}</b><br><br>BARRIO=LA CAPUCHINA<br>Latitud=%{lat}<br>Longitud=%{lon}<extra></extra>",
         "hovertext": [
          "Fundación 616"
         ],
         "lat": [
          4.50757182698048
         ],
         "legendgroup": "LA CAPUCHINA",
         "lon": [
          -74.1074319739626
         ],
         "marker": {
          "color": "#EF553B"
         },
         "mode": "markers",
         "name": "LA CAPUCHINA",
         "showlegend": true,
         "subplot": "mapbox",
         "type": "scattermapbox"
        },
        {
         "hovertemplate": "<b>%{hovertext}</b><br><br>BARRIO=TINJACA<br>Latitud=%{lat}<br>Longitud=%{lon}<extra></extra>",
         "hovertext": [
          "Fundación 618"
         ],
         "lat": [
          4.75294384343555
         ],
         "legendgroup": "TINJACA",
         "lon": [
          -74.1160600972467
         ],
         "marker": {
          "color": "#00cc96"
         },
         "mode": "markers",
         "name": "TINJACA",
         "showlegend": true,
         "subplot": "mapbox",
         "type": "scattermapbox"
        },
        {
         "hovertemplate": "<b>%{hovertext}</b><br><br>BARRIO=VEREDA EL TRUJILLO<br>Latitud=%{lat}<br>Longitud=%{lon}<extra></extra>",
         "hovertext": [
          "Fundación 619"
         ],
         "lat": [
          4.62003639288046
         ],
         "legendgroup": "VEREDA EL TRUJILLO",
         "lon": [
          -74.1635280126039
         ],
         "marker": {
          "color": "#ab63fa"
         },
         "mode": "markers",
         "name": "VEREDA EL TRUJILLO",
         "showlegend": true,
         "subplot": "mapbox",
         "type": "scattermapbox"
        },
        {
         "hovertemplate": "<b>%{hovertext}</b><br><br>BARRIO=KENEDY CENTRAL<br>Latitud=%{lat}<br>Longitud=%{lon}<extra></extra>",
         "hovertext": [
          "Fundación 623"
         ],
         "lat": [
          4.62241408950982
         ],
         "legendgroup": "KENEDY CENTRAL",
         "lon": [
          -74.1625817893053
         ],
         "marker": {
          "color": "#FFA15A"
         },
         "mode": "markers",
         "name": "KENEDY CENTRAL",
         "showlegend": true,
         "subplot": "mapbox",
         "type": "scattermapbox"
        }
       ],
       "layout": {
        "legend": {
         "title": {
          "text": "BARRIO"
         },
         "tracegroupgap": 0
        },
        "mapbox": {
         "center": {
          "lat": 4.570868,
          "lon": -74.297333
         },
         "domain": {
          "x": [
           0,
           1
          ],
          "y": [
           0,
           1
          ]
         },
         "style": "open-street-map",
         "zoom": 5
        },
        "template": {
         "data": {
          "bar": [
           {
            "error_x": {
             "color": "#2a3f5f"
            },
            "error_y": {
             "color": "#2a3f5f"
            },
            "marker": {
             "line": {
              "color": "#E5ECF6",
              "width": 0.5
             },
             "pattern": {
              "fillmode": "overlay",
              "size": 10,
              "solidity": 0.2
             }
            },
            "type": "bar"
           }
          ],
          "barpolar": [
           {
            "marker": {
             "line": {
              "color": "#E5ECF6",
              "width": 0.5
             },
             "pattern": {
              "fillmode": "overlay",
              "size": 10,
              "solidity": 0.2
             }
            },
            "type": "barpolar"
           }
          ],
          "carpet": [
           {
            "aaxis": {
             "endlinecolor": "#2a3f5f",
             "gridcolor": "white",
             "linecolor": "white",
             "minorgridcolor": "white",
             "startlinecolor": "#2a3f5f"
            },
            "baxis": {
             "endlinecolor": "#2a3f5f",
             "gridcolor": "white",
             "linecolor": "white",
             "minorgridcolor": "white",
             "startlinecolor": "#2a3f5f"
            },
            "type": "carpet"
           }
          ],
          "choropleth": [
           {
            "colorbar": {
             "outlinewidth": 0,
             "ticks": ""
            },
            "type": "choropleth"
           }
          ],
          "contour": [
           {
            "colorbar": {
             "outlinewidth": 0,
             "ticks": ""
            },
            "colorscale": [
             [
              0,
              "#0d0887"
             ],
             [
              0.1111111111111111,
              "#46039f"
             ],
             [
              0.2222222222222222,
              "#7201a8"
             ],
             [
              0.3333333333333333,
              "#9c179e"
             ],
             [
              0.4444444444444444,
              "#bd3786"
             ],
             [
              0.5555555555555556,
              "#d8576b"
             ],
             [
              0.6666666666666666,
              "#ed7953"
             ],
             [
              0.7777777777777778,
              "#fb9f3a"
             ],
             [
              0.8888888888888888,
              "#fdca26"
             ],
             [
              1,
              "#f0f921"
             ]
            ],
            "type": "contour"
           }
          ],
          "contourcarpet": [
           {
            "colorbar": {
             "outlinewidth": 0,
             "ticks": ""
            },
            "type": "contourcarpet"
           }
          ],
          "heatmap": [
           {
            "colorbar": {
             "outlinewidth": 0,
             "ticks": ""
            },
            "colorscale": [
             [
              0,
              "#0d0887"
             ],
             [
              0.1111111111111111,
              "#46039f"
             ],
             [
              0.2222222222222222,
              "#7201a8"
             ],
             [
              0.3333333333333333,
              "#9c179e"
             ],
             [
              0.4444444444444444,
              "#bd3786"
             ],
             [
              0.5555555555555556,
              "#d8576b"
             ],
             [
              0.6666666666666666,
              "#ed7953"
             ],
             [
              0.7777777777777778,
              "#fb9f3a"
             ],
             [
              0.8888888888888888,
              "#fdca26"
             ],
             [
              1,
              "#f0f921"
             ]
            ],
            "type": "heatmap"
           }
          ],
          "heatmapgl": [
           {
            "colorbar": {
             "outlinewidth": 0,
             "ticks": ""
            },
            "colorscale": [
             [
              0,
              "#0d0887"
             ],
             [
              0.1111111111111111,
              "#46039f"
             ],
             [
              0.2222222222222222,
              "#7201a8"
             ],
             [
              0.3333333333333333,
              "#9c179e"
             ],
             [
              0.4444444444444444,
              "#bd3786"
             ],
             [
              0.5555555555555556,
              "#d8576b"
             ],
             [
              0.6666666666666666,
              "#ed7953"
             ],
             [
              0.7777777777777778,
              "#fb9f3a"
             ],
             [
              0.8888888888888888,
              "#fdca26"
             ],
             [
              1,
              "#f0f921"
             ]
            ],
            "type": "heatmapgl"
           }
          ],
          "histogram": [
           {
            "marker": {
             "pattern": {
              "fillmode": "overlay",
              "size": 10,
              "solidity": 0.2
             }
            },
            "type": "histogram"
           }
          ],
          "histogram2d": [
           {
            "colorbar": {
             "outlinewidth": 0,
             "ticks": ""
            },
            "colorscale": [
             [
              0,
              "#0d0887"
             ],
             [
              0.1111111111111111,
              "#46039f"
             ],
             [
              0.2222222222222222,
              "#7201a8"
             ],
             [
              0.3333333333333333,
              "#9c179e"
             ],
             [
              0.4444444444444444,
              "#bd3786"
             ],
             [
              0.5555555555555556,
              "#d8576b"
             ],
             [
              0.6666666666666666,
              "#ed7953"
             ],
             [
              0.7777777777777778,
              "#fb9f3a"
             ],
             [
              0.8888888888888888,
              "#fdca26"
             ],
             [
              1,
              "#f0f921"
             ]
            ],
            "type": "histogram2d"
           }
          ],
          "histogram2dcontour": [
           {
            "colorbar": {
             "outlinewidth": 0,
             "ticks": ""
            },
            "colorscale": [
             [
              0,
              "#0d0887"
             ],
             [
              0.1111111111111111,
              "#46039f"
             ],
             [
              0.2222222222222222,
              "#7201a8"
             ],
             [
              0.3333333333333333,
              "#9c179e"
             ],
             [
              0.4444444444444444,
              "#bd3786"
             ],
             [
              0.5555555555555556,
              "#d8576b"
             ],
             [
              0.6666666666666666,
              "#ed7953"
             ],
             [
              0.7777777777777778,
              "#fb9f3a"
             ],
             [
              0.8888888888888888,
              "#fdca26"
             ],
             [
              1,
              "#f0f921"
             ]
            ],
            "type": "histogram2dcontour"
           }
          ],
          "mesh3d": [
           {
            "colorbar": {
             "outlinewidth": 0,
             "ticks": ""
            },
            "type": "mesh3d"
           }
          ],
          "parcoords": [
           {
            "line": {
             "colorbar": {
              "outlinewidth": 0,
              "ticks": ""
             }
            },
            "type": "parcoords"
           }
          ],
          "pie": [
           {
            "automargin": true,
            "type": "pie"
           }
          ],
          "scatter": [
           {
            "fillpattern": {
             "fillmode": "overlay",
             "size": 10,
             "solidity": 0.2
            },
            "type": "scatter"
           }
          ],
          "scatter3d": [
           {
            "line": {
             "colorbar": {
              "outlinewidth": 0,
              "ticks": ""
             }
            },
            "marker": {
             "colorbar": {
              "outlinewidth": 0,
              "ticks": ""
             }
            },
            "type": "scatter3d"
           }
          ],
          "scattercarpet": [
           {
            "marker": {
             "colorbar": {
              "outlinewidth": 0,
              "ticks": ""
             }
            },
            "type": "scattercarpet"
           }
          ],
          "scattergeo": [
           {
            "marker": {
             "colorbar": {
              "outlinewidth": 0,
              "ticks": ""
             }
            },
            "type": "scattergeo"
           }
          ],
          "scattergl": [
           {
            "marker": {
             "colorbar": {
              "outlinewidth": 0,
              "ticks": ""
             }
            },
            "type": "scattergl"
           }
          ],
          "scattermapbox": [
           {
            "marker": {
             "colorbar": {
              "outlinewidth": 0,
              "ticks": ""
             }
            },
            "type": "scattermapbox"
           }
          ],
          "scatterpolar": [
           {
            "marker": {
             "colorbar": {
              "outlinewidth": 0,
              "ticks": ""
             }
            },
            "type": "scatterpolar"
           }
          ],
          "scatterpolargl": [
           {
            "marker": {
             "colorbar": {
              "outlinewidth": 0,
              "ticks": ""
             }
            },
            "type": "scatterpolargl"
           }
          ],
          "scatterternary": [
           {
            "marker": {
             "colorbar": {
              "outlinewidth": 0,
              "ticks": ""
             }
            },
            "type": "scatterternary"
           }
          ],
          "surface": [
           {
            "colorbar": {
             "outlinewidth": 0,
             "ticks": ""
            },
            "colorscale": [
             [
              0,
              "#0d0887"
             ],
             [
              0.1111111111111111,
              "#46039f"
             ],
             [
              0.2222222222222222,
              "#7201a8"
             ],
             [
              0.3333333333333333,
              "#9c179e"
             ],
             [
              0.4444444444444444,
              "#bd3786"
             ],
             [
              0.5555555555555556,
              "#d8576b"
             ],
             [
              0.6666666666666666,
              "#ed7953"
             ],
             [
              0.7777777777777778,
              "#fb9f3a"
             ],
             [
              0.8888888888888888,
              "#fdca26"
             ],
             [
              1,
              "#f0f921"
             ]
            ],
            "type": "surface"
           }
          ],
          "table": [
           {
            "cells": {
             "fill": {
              "color": "#EBF0F8"
             },
             "line": {
              "color": "white"
             }
            },
            "header": {
             "fill": {
              "color": "#C8D4E3"
             },
             "line": {
              "color": "white"
             }
            },
            "type": "table"
           }
          ]
         },
         "layout": {
          "annotationdefaults": {
           "arrowcolor": "#2a3f5f",
           "arrowhead": 0,
           "arrowwidth": 1
          },
          "autotypenumbers": "strict",
          "coloraxis": {
           "colorbar": {
            "outlinewidth": 0,
            "ticks": ""
           }
          },
          "colorscale": {
           "diverging": [
            [
             0,
             "#8e0152"
            ],
            [
             0.1,
             "#c51b7d"
            ],
            [
             0.2,
             "#de77ae"
            ],
            [
             0.3,
             "#f1b6da"
            ],
            [
             0.4,
             "#fde0ef"
            ],
            [
             0.5,
             "#f7f7f7"
            ],
            [
             0.6,
             "#e6f5d0"
            ],
            [
             0.7,
             "#b8e186"
            ],
            [
             0.8,
             "#7fbc41"
            ],
            [
             0.9,
             "#4d9221"
            ],
            [
             1,
             "#276419"
            ]
           ],
           "sequential": [
            [
             0,
             "#0d0887"
            ],
            [
             0.1111111111111111,
             "#46039f"
            ],
            [
             0.2222222222222222,
             "#7201a8"
            ],
            [
             0.3333333333333333,
             "#9c179e"
            ],
            [
             0.4444444444444444,
             "#bd3786"
            ],
            [
             0.5555555555555556,
             "#d8576b"
            ],
            [
             0.6666666666666666,
             "#ed7953"
            ],
            [
             0.7777777777777778,
             "#fb9f3a"
            ],
            [
             0.8888888888888888,
             "#fdca26"
            ],
            [
             1,
             "#f0f921"
            ]
           ],
           "sequentialminus": [
            [
             0,
             "#0d0887"
            ],
            [
             0.1111111111111111,
             "#46039f"
            ],
            [
             0.2222222222222222,
             "#7201a8"
            ],
            [
             0.3333333333333333,
             "#9c179e"
            ],
            [
             0.4444444444444444,
             "#bd3786"
            ],
            [
             0.5555555555555556,
             "#d8576b"
            ],
            [
             0.6666666666666666,
             "#ed7953"
            ],
            [
             0.7777777777777778,
             "#fb9f3a"
            ],
            [
             0.8888888888888888,
             "#fdca26"
            ],
            [
             1,
             "#f0f921"
            ]
           ]
          },
          "colorway": [
           "#636efa",
           "#EF553B",
           "#00cc96",
           "#ab63fa",
           "#FFA15A",
           "#19d3f3",
           "#FF6692",
           "#B6E880",
           "#FF97FF",
           "#FECB52"
          ],
          "font": {
           "color": "#2a3f5f"
          },
          "geo": {
           "bgcolor": "white",
           "lakecolor": "white",
           "landcolor": "#E5ECF6",
           "showlakes": true,
           "showland": true,
           "subunitcolor": "white"
          },
          "hoverlabel": {
           "align": "left"
          },
          "hovermode": "closest",
          "mapbox": {
           "style": "light"
          },
          "paper_bgcolor": "white",
          "plot_bgcolor": "#E5ECF6",
          "polar": {
           "angularaxis": {
            "gridcolor": "white",
            "linecolor": "white",
            "ticks": ""
           },
           "bgcolor": "#E5ECF6",
           "radialaxis": {
            "gridcolor": "white",
            "linecolor": "white",
            "ticks": ""
           }
          },
          "scene": {
           "xaxis": {
            "backgroundcolor": "#E5ECF6",
            "gridcolor": "white",
            "gridwidth": 2,
            "linecolor": "white",
            "showbackground": true,
            "ticks": "",
            "zerolinecolor": "white"
           },
           "yaxis": {
            "backgroundcolor": "#E5ECF6",
            "gridcolor": "white",
            "gridwidth": 2,
            "linecolor": "white",
            "showbackground": true,
            "ticks": "",
            "zerolinecolor": "white"
           },
           "zaxis": {
            "backgroundcolor": "#E5ECF6",
            "gridcolor": "white",
            "gridwidth": 2,
            "linecolor": "white",
            "showbackground": true,
            "ticks": "",
            "zerolinecolor": "white"
           }
          },
          "shapedefaults": {
           "line": {
            "color": "#2a3f5f"
           }
          },
          "ternary": {
           "aaxis": {
            "gridcolor": "white",
            "linecolor": "white",
            "ticks": ""
           },
           "baxis": {
            "gridcolor": "white",
            "linecolor": "white",
            "ticks": ""
           },
           "bgcolor": "#E5ECF6",
           "caxis": {
            "gridcolor": "white",
            "linecolor": "white",
            "ticks": ""
           }
          },
          "title": {
           "x": 0.05
          },
          "xaxis": {
           "automargin": true,
           "gridcolor": "white",
           "linecolor": "white",
           "ticks": "",
           "title": {
            "standoff": 15
           },
           "zerolinecolor": "white",
           "zerolinewidth": 2
          },
          "yaxis": {
           "automargin": true,
           "gridcolor": "white",
           "linecolor": "white",
           "ticks": "",
           "title": {
            "standoff": 15
           },
           "zerolinecolor": "white",
           "zerolinewidth": 2
          }
         }
        },
        "title": {
         "text": "Fundaciones en Colombia"
        }
       }
      }
     },
     "metadata": {},
     "output_type": "display_data"
    },
    {
     "name": "stdout",
     "output_type": "stream",
     "text": [
      "plot complete\n"
     ]
    }
   ],
   "source": [
    "# Using the plotly library plot a scatter plot of the data in the country of Colombia\n",
    "\n",
    "# print the size of the dataframe\n",
    "\n",
    "print(df.shape)\n",
    "\n",
    "fig = px.scatter_mapbox(df,\n",
    "                        lat=\"Latitud\",\n",
    "                        lon=\"Longitud\",\n",
    "                        color=\"BARRIO\",\n",
    "                        hover_name=\"ORGANIZACIÓN\",\n",
    "                        title=\"Fundaciones en Colombia\",\n",
    "                        zoom=5,\n",
    "\n",
    "                        )\n",
    "fig.update_layout(\n",
    "                    mapbox_center_lat = 4.570868,\n",
    "                    mapbox_center_lon = -74.297333,\n",
    "                    mapbox_style=\"open-street-map\",\n",
    "                )\n",
    "fig.show()\n",
    "print('plot complete')"
   ]
  },
  {
   "cell_type": "code",
   "execution_count": 7,
   "metadata": {},
   "outputs": [
    {
     "name": "stdout",
     "output_type": "stream",
     "text": [
      "Index(['ORGANIZACIÓN', 'GRUPO POBLACIONAL', 'RED', 'LOCALIDAD', 'BARRIO',\n",
      "       'DIRECCIÓN', 'FAMILIAS ATENDIDAS', 'FRECUENCIA', 'SEMANA', 'Latitud',\n",
      "       'Longitud'],\n",
      "      dtype='object')\n",
      "(576, 478)\n"
     ]
    }
   ],
   "source": [
    "# K-means clustering\n",
    "# Create a copy of the dataframe\n",
    "df.dropna(inplace=True)\n",
    "df_copy = df.copy()\n",
    "\n",
    "\n",
    "print(df_copy.columns)\n",
    "# Use one hot encoding to convert categorical data to numerical data\n",
    "\n",
    "# Create a list of the categorical columns\n",
    "\n",
    "categorical_columns = ['GRUPO POBLACIONAL', 'BARRIO', 'RED', 'FRECUENCIA', 'SEMANA']\n",
    "\n",
    "# Create a dataframe with the one hot encoded data\n",
    "df_one_hot = pd.get_dummies(df_copy, columns=categorical_columns)\n",
    "\n",
    "# Print the shape of the dataframe\n",
    "\n",
    "print(df_one_hot.shape)\n"
   ]
  },
  {
   "cell_type": "code",
   "execution_count": 8,
   "metadata": {},
   "outputs": [],
   "source": [
    "scaler = StandardScaler()\n",
    "\n",
    "df_one_hot_scaled = scaler.fit_transform(df_one_hot[[c for c in df_one_hot.columns if c != 'ORGANIZACIÓN' and c != 'DIRECCIÓN' and c != 'LOCALIDAD']])\n",
    "\n",
    "\n",
    "kmeans= KMeans(n_clusters=6, random_state=0)\n",
    "df['kmeans'] = kmeans.fit_predict(df_one_hot_scaled)\n"
   ]
  },
  {
   "cell_type": "code",
   "execution_count": 9,
   "metadata": {},
   "outputs": [
    {
     "data": {
      "text/plain": [
       "ORGANIZACIÓN          0\n",
       "GRUPO POBLACIONAL     0\n",
       "RED                   0\n",
       "LOCALIDAD             0\n",
       "BARRIO                0\n",
       "DIRECCIÓN             0\n",
       "FAMILIAS ATENDIDAS    0\n",
       "FRECUENCIA            0\n",
       "SEMANA                0\n",
       "Latitud               0\n",
       "Longitud              0\n",
       "kmeans                0\n",
       "dtype: int64"
      ]
     },
     "execution_count": 9,
     "metadata": {},
     "output_type": "execute_result"
    }
   ],
   "source": [
    "# Get the null values\n",
    "df.isnull().sum()\n"
   ]
  },
  {
   "cell_type": "code",
   "execution_count": 10,
   "metadata": {},
   "outputs": [
    {
     "data": {
      "text/html": [
       "<div>\n",
       "<style scoped>\n",
       "    .dataframe tbody tr th:only-of-type {\n",
       "        vertical-align: middle;\n",
       "    }\n",
       "\n",
       "    .dataframe tbody tr th {\n",
       "        vertical-align: top;\n",
       "    }\n",
       "\n",
       "    .dataframe thead th {\n",
       "        text-align: right;\n",
       "    }\n",
       "</style>\n",
       "<table border=\"1\" class=\"dataframe\">\n",
       "  <thead>\n",
       "    <tr style=\"text-align: right;\">\n",
       "      <th></th>\n",
       "      <th>ORGANIZACIÓN</th>\n",
       "      <th>GRUPO POBLACIONAL</th>\n",
       "      <th>RED</th>\n",
       "      <th>LOCALIDAD</th>\n",
       "      <th>BARRIO</th>\n",
       "      <th>DIRECCIÓN</th>\n",
       "      <th>FAMILIAS ATENDIDAS</th>\n",
       "      <th>FRECUENCIA</th>\n",
       "      <th>SEMANA</th>\n",
       "      <th>Latitud</th>\n",
       "      <th>Longitud</th>\n",
       "      <th>kmeans</th>\n",
       "    </tr>\n",
       "  </thead>\n",
       "  <tbody>\n",
       "    <tr>\n",
       "      <th>4</th>\n",
       "      <td>Fundación 5</td>\n",
       "      <td>INTERNADO</td>\n",
       "      <td>SAN JOSÉ</td>\n",
       "      <td>ANTONIO NARIÑO</td>\n",
       "      <td>CIUDAD JARDÍN SUR</td>\n",
       "      <td>CRA. 12 B NO. 18 - 27 SUR CIUDAD JARDÍN SUR</td>\n",
       "      <td>120</td>\n",
       "      <td>MENSUAL</td>\n",
       "      <td>4 SEMANA</td>\n",
       "      <td>4.581430</td>\n",
       "      <td>-74.096940</td>\n",
       "      <td>4</td>\n",
       "    </tr>\n",
       "    <tr>\n",
       "      <th>5</th>\n",
       "      <td>Fundación 6</td>\n",
       "      <td>TERAPÉUTICO POR ADICCIÓN</td>\n",
       "      <td>INMACULADA CONCEPCIÓN</td>\n",
       "      <td>ANTONIO NARIÑO</td>\n",
       "      <td>LA ESTANZUELA</td>\n",
       "      <td>DIAG. 44 NO. 17 - 40</td>\n",
       "      <td>554</td>\n",
       "      <td>QUINCENAL</td>\n",
       "      <td>2 Y 4 SEMANA DEL MES</td>\n",
       "      <td>4.601168</td>\n",
       "      <td>-74.087721</td>\n",
       "      <td>1</td>\n",
       "    </tr>\n",
       "    <tr>\n",
       "      <th>6</th>\n",
       "      <td>Fundación 7</td>\n",
       "      <td>TEJIENDO COMUNIDAD</td>\n",
       "      <td>INMACULADA CONCEPCIÓN</td>\n",
       "      <td>ANTONIO NARIÑO</td>\n",
       "      <td>EDUARDO SANTOS</td>\n",
       "      <td>CLL 1C BIS N.19-18</td>\n",
       "      <td>40</td>\n",
       "      <td>QUINCENAL</td>\n",
       "      <td>1 Y 3 SEMANA DEL MES</td>\n",
       "      <td>4.594741</td>\n",
       "      <td>-74.091919</td>\n",
       "      <td>1</td>\n",
       "    </tr>\n",
       "    <tr>\n",
       "      <th>7</th>\n",
       "      <td>Fundación 8</td>\n",
       "      <td>TERAPÉUTICO POR DISCAPACIDAD</td>\n",
       "      <td>SAN JOSÉ</td>\n",
       "      <td>ANTONIO NARIÑO</td>\n",
       "      <td>CIUDAD BERNA</td>\n",
       "      <td>AV CARACAS NO. 6-11 SUR\\nCALLE 13 A SUR No. 12...</td>\n",
       "      <td>107</td>\n",
       "      <td>QUINCENAL</td>\n",
       "      <td>1 Y 3 SEMANA DEL MES</td>\n",
       "      <td>4.583549</td>\n",
       "      <td>-74.095351</td>\n",
       "      <td>4</td>\n",
       "    </tr>\n",
       "    <tr>\n",
       "      <th>8</th>\n",
       "      <td>Fundación 9</td>\n",
       "      <td>TEJIENDO COMUNIDAD</td>\n",
       "      <td>ESPÍRITU SANTO</td>\n",
       "      <td>ANTONIO NARIÑO</td>\n",
       "      <td>LA F RAGUA</td>\n",
       "      <td>CALLE 14 A SUR # 28 - 46</td>\n",
       "      <td>50</td>\n",
       "      <td>QUINCENAL</td>\n",
       "      <td>2 Y 4 SEMANA DEL MES</td>\n",
       "      <td>4.595307</td>\n",
       "      <td>-74.105222</td>\n",
       "      <td>1</td>\n",
       "    </tr>\n",
       "  </tbody>\n",
       "</table>\n",
       "</div>"
      ],
      "text/plain": [
       "  ORGANIZACIÓN             GRUPO POBLACIONAL                    RED  \\\n",
       "4  Fundación 5                     INTERNADO               SAN JOSÉ   \n",
       "5  Fundación 6      TERAPÉUTICO POR ADICCIÓN  INMACULADA CONCEPCIÓN   \n",
       "6  Fundación 7            TEJIENDO COMUNIDAD  INMACULADA CONCEPCIÓN   \n",
       "7  Fundación 8  TERAPÉUTICO POR DISCAPACIDAD               SAN JOSÉ   \n",
       "8  Fundación 9            TEJIENDO COMUNIDAD         ESPÍRITU SANTO   \n",
       "\n",
       "        LOCALIDAD              BARRIO  \\\n",
       "4  ANTONIO NARIÑO   CIUDAD JARDÍN SUR   \n",
       "5  ANTONIO NARIÑO       LA ESTANZUELA   \n",
       "6  ANTONIO NARIÑO     EDUARDO SANTOS    \n",
       "7  ANTONIO NARIÑO        CIUDAD BERNA   \n",
       "8  ANTONIO NARIÑO          LA F RAGUA   \n",
       "\n",
       "                                           DIRECCIÓN  FAMILIAS ATENDIDAS  \\\n",
       "4        CRA. 12 B NO. 18 - 27 SUR CIUDAD JARDÍN SUR                 120   \n",
       "5                               DIAG. 44 NO. 17 - 40                 554   \n",
       "6                                 CLL 1C BIS N.19-18                  40   \n",
       "7  AV CARACAS NO. 6-11 SUR\\nCALLE 13 A SUR No. 12...                 107   \n",
       "8                           CALLE 14 A SUR # 28 - 46                  50   \n",
       "\n",
       "  FRECUENCIA                SEMANA   Latitud   Longitud  kmeans  \n",
       "4    MENSUAL              4 SEMANA  4.581430 -74.096940       4  \n",
       "5  QUINCENAL  2 Y 4 SEMANA DEL MES  4.601168 -74.087721       1  \n",
       "6  QUINCENAL  1 Y 3 SEMANA DEL MES  4.594741 -74.091919       1  \n",
       "7  QUINCENAL  1 Y 3 SEMANA DEL MES  4.583549 -74.095351       4  \n",
       "8  QUINCENAL  2 Y 4 SEMANA DEL MES  4.595307 -74.105222       1  "
      ]
     },
     "execution_count": 10,
     "metadata": {},
     "output_type": "execute_result"
    }
   ],
   "source": [
    "df.head()"
   ]
  },
  {
   "cell_type": "code",
   "execution_count": 11,
   "metadata": {},
   "outputs": [
    {
     "data": {
      "application/vnd.plotly.v1+json": {
       "config": {
        "plotlyServerURL": "https://plot.ly"
       },
       "data": [
        {
         "hovertemplate": "<b>%{hovertext}</b><br><br>Latitud=%{lat}<br>Longitud=%{lon}<br>kmeans=%{marker.color}<extra></extra>",
         "hovertext": [
          "Fundación 5",
          "Fundación 6",
          "Fundación 7",
          "Fundación 8",
          "Fundación 9",
          "Fundación 10",
          "Fundación 11",
          "Fundación 12",
          "Fundación 13",
          "Fundación 14",
          "Fundación 15",
          "Fundación 16",
          "Fundación 17",
          "Fundación 18",
          "Fundación 19",
          "Fundación 20",
          "Fundación 21",
          "Fundación 22",
          "Fundación 23",
          "Fundación 24",
          "Fundación 25",
          "Fundación 26",
          "Fundación 27",
          "Fundación 28",
          "Fundación 29",
          "Fundación 30",
          "Fundación 31",
          "Fundación 32",
          "Fundación 33",
          "Fundación 34",
          "Fundación 35",
          "Fundación 36",
          "Fundación 37",
          "Fundación 38",
          "Fundación 39",
          "Fundación 40",
          "Fundación 41",
          "Fundación 42",
          "Fundación 44",
          "Fundación 45",
          "Fundación 46",
          "Fundación 47",
          "Fundación 48",
          "Fundación 49",
          "Fundación 50",
          "Fundación 51",
          "Fundación 52",
          "Fundación 53",
          "Fundación 54",
          "Fundación 55",
          "Fundación 56",
          "Fundación 57",
          "Fundación 58",
          "Fundación 59",
          "Fundación 60",
          "Fundación 61",
          "Fundación 62",
          "Fundación 63",
          "Fundación 64",
          "Fundación 65",
          "Fundación 66",
          "Fundación 67",
          "Fundación 68",
          "Fundación 69",
          "Fundación 70",
          "Fundación 71",
          "Fundación 72",
          "Fundación 73",
          "Fundación 74",
          "Fundación 75",
          "Fundación 76",
          "Fundación 77",
          "Fundación 78",
          "Fundación 79",
          "Fundación 80",
          "Fundación 81",
          "Fundación 84",
          "Fundación 85",
          "Fundación 86",
          "Fundación 87",
          "Fundación 88",
          "Fundación 89",
          "Fundación 90",
          "Fundación 91",
          "Fundación 92",
          "Fundación 93",
          "Fundación 94",
          "Fundación 95",
          "Fundación 96",
          "Fundación 97",
          "Fundación 98",
          "Fundación 99",
          "Fundación 100",
          "Fundación 101",
          "Fundación 102",
          "Fundación 103",
          "Fundación 104",
          "Fundación 105",
          "Fundación 106",
          "Fundación 107",
          "Fundación 108",
          "Fundación 109",
          "Fundación 110",
          "Fundación 111",
          "Fundación 112",
          "Fundación 113",
          "Fundación 114",
          "Fundación 115",
          "Fundación 116",
          "Fundación 117",
          "Fundación 118",
          "Fundación 119",
          "Fundación 120",
          "Fundación 121",
          "Fundación 122",
          "Fundación 123",
          "Fundación 124",
          "Fundación 125",
          "Fundación 126",
          "Fundación 127",
          "Fundación 128",
          "Fundación 129",
          "Fundación 130",
          "Fundación 131",
          "Fundación 132",
          "Fundación 133",
          "Fundación 134",
          "Fundación 135",
          "Fundación 136",
          "Fundación 137",
          "Fundación 138",
          "Fundación 140",
          "Fundación 141",
          "Fundación 142",
          "Fundación 143",
          "Fundación 144",
          "Fundación 145",
          "Fundación 146",
          "Fundación 149",
          "Fundación 150",
          "Fundación 152",
          "Fundación 153",
          "Fundación 154",
          "Fundación 155",
          "Fundación 156",
          "Fundación 157",
          "Fundación 158",
          "Fundación 159",
          "Fundación 160",
          "Fundación 161",
          "Fundación 162",
          "Fundación 163",
          "Fundación 164",
          "Fundación 165",
          "Fundación 167",
          "Fundación 168",
          "Fundación 169",
          "Fundación 170",
          "Fundación 171",
          "Fundación 173",
          "Fundación 174",
          "Fundación 175",
          "Fundación 176",
          "Fundación 177",
          "Fundación 178",
          "Fundación 179",
          "Fundación 181",
          "Fundación 182",
          "Fundación 183",
          "Fundación 184",
          "Fundación 185",
          "Fundación 186",
          "Fundación 187",
          "Fundación 188",
          "Fundación 189",
          "Fundación 190",
          "Fundación 194",
          "Fundación 195",
          "Fundación 197",
          "Fundación 198",
          "Fundación 199",
          "Fundación 200",
          "Fundación 201",
          "Fundación 202",
          "Fundación 203",
          "Fundación 204",
          "Fundación 205",
          "Fundación 206",
          "Fundación 207",
          "Fundación 208",
          "Fundación 209",
          "Fundación 210",
          "Fundación 211",
          "Fundación 212",
          "Fundación 213",
          "Fundación 214",
          "Fundación 215",
          "Fundación 216",
          "Fundación 217",
          "Fundación 218",
          "Fundación 219",
          "Fundación 220",
          "Fundación 221",
          "Fundación 222",
          "Fundación 223",
          "Fundación 224",
          "Fundación 225",
          "Fundación 226",
          "Fundación 227",
          "Fundación 228",
          "Fundación 229",
          "Fundación 230",
          "Fundación 231",
          "Fundación 232",
          "Fundación 233",
          "Fundación 234",
          "Fundación 235",
          "Fundación 236",
          "Fundación 237",
          "Fundación 238",
          "Fundación 239",
          "Fundación 240",
          "Fundación 242",
          "Fundación 243",
          "Fundación 244",
          "Fundación 245",
          "Fundación 246",
          "Fundación 247",
          "Fundación 248",
          "Fundación 249",
          "Fundación 250",
          "Fundación 251",
          "Fundación 252",
          "Fundación 253",
          "Fundación 254",
          "Fundación 255",
          "Fundación 256",
          "Fundación 257",
          "Fundación 258",
          "Fundación 259",
          "Fundación 260",
          "Fundación 262",
          "Fundación 263",
          "Fundación 264",
          "Fundación 265",
          "Fundación 266",
          "Fundación 267",
          "Fundación 268",
          "Fundación 269",
          "Fundación 270",
          "Fundación 271",
          "Fundación 272",
          "Fundación 273",
          "Fundación 274",
          "Fundación 275",
          "Fundación 276",
          "Fundación 277",
          "Fundación 279",
          "Fundación 280",
          "Fundación 281",
          "Fundación 282",
          "Fundación 283",
          "Fundación 284",
          "Fundación 285",
          "Fundación 286",
          "Fundación 287",
          "Fundación 288",
          "Fundación 290",
          "Fundación 291",
          "Fundación 292",
          "Fundación 293",
          "Fundación 294",
          "Fundación 295",
          "Fundación 296",
          "Fundación 297",
          "Fundación 298",
          "Fundación 299",
          "Fundación 300",
          "Fundación 301",
          "Fundación 302",
          "Fundación 303",
          "Fundación 304",
          "Fundación 305",
          "Fundación 306",
          "Fundación 307",
          "Fundación 308",
          "Fundación 309",
          "Fundación 310",
          "Fundación 311",
          "Fundación 312",
          "Fundación 313",
          "Fundación 314",
          "Fundación 315",
          "Fundación 316",
          "Fundación 317",
          "Fundación 318",
          "Fundación 319",
          "Fundación 320",
          "Fundación 321",
          "Fundación 322",
          "Fundación 323",
          "Fundación 324",
          "Fundación 325",
          "Fundación 326",
          "Fundación 327",
          "Fundación 328",
          "Fundación 329",
          "Fundación 330",
          "Fundación 331",
          "Fundación 332",
          "Fundación 333",
          "Fundación 334",
          "Fundación 335",
          "Fundación 336",
          "Fundación 337",
          "Fundación 338",
          "Fundación 339",
          "Fundación 340",
          "Fundación 341",
          "Fundación 342",
          "Fundación 343",
          "Fundación 344",
          "Fundación 345",
          "Fundación 346",
          "Fundación 347",
          "Fundación 348",
          "Fundación 349",
          "Fundación 350",
          "Fundación 351",
          "Fundación 352",
          "Fundación 353",
          "Fundación 354",
          "Fundación 355",
          "Fundación 356",
          "Fundación 357",
          "Fundación 358",
          "Fundación 359",
          "Fundación 360",
          "Fundación 361",
          "Fundación 362",
          "Fundación 363",
          "Fundación 364",
          "Fundación 365",
          "Fundación 366",
          "Fundación 367",
          "Fundación 368",
          "Fundación 369",
          "Fundación 370",
          "Fundación 371",
          "Fundación 372",
          "Fundación 373",
          "Fundación 374",
          "Fundación 375",
          "Fundación 376",
          "Fundación 377",
          "Fundación 378",
          "Fundación 379",
          "Fundación 380",
          "Fundación 381",
          "Fundación 382",
          "Fundación 385",
          "Fundación 386",
          "Fundación 387",
          "Fundación 388",
          "Fundación 389",
          "Fundación 390",
          "Fundación 391",
          "Fundación 392",
          "Fundación 393",
          "Fundación 394",
          "Fundación 395",
          "Fundación 396",
          "Fundación 397",
          "Fundación 398",
          "Fundación 399",
          "Fundación 400",
          "Fundación 401",
          "Fundación 402",
          "Fundación 403",
          "Fundación 404",
          "Fundación 405",
          "Fundación 406",
          "Fundación 407",
          "Fundación 408",
          "Fundación 409",
          "Fundación 410",
          "Fundación 411",
          "Fundación 412",
          "Fundación 413",
          "Fundación 414",
          "Fundación 415",
          "Fundación 418",
          "Fundación 419",
          "Fundación 420",
          "Fundación 421",
          "Fundación 422",
          "Fundación 423",
          "Fundación 424",
          "Fundación 425",
          "Fundación 426",
          "Fundación 427",
          "Fundación 429",
          "Fundación 430",
          "Fundación 432",
          "Fundación 433",
          "Fundación 434",
          "Fundación 435",
          "Fundación 436",
          "Fundación 437",
          "Fundación 438",
          "Fundación 439",
          "Fundación 440",
          "Fundación 441",
          "Fundación 442",
          "Fundación 444",
          "Fundación 445",
          "Fundación 446",
          "Fundación 447",
          "Fundación 448",
          "Fundación 449",
          "Fundación 450",
          "Fundación 451",
          "Fundación 452",
          "Fundación 453",
          "Fundación 454",
          "Fundación 455",
          "Fundación 456",
          "Fundación 457",
          "Fundación 458",
          "Fundación 459",
          "Fundación 460",
          "Fundación 461",
          "Fundación 463",
          "Fundación 464",
          "Fundación 465",
          "Fundación 466",
          "Fundación 467",
          "Fundación 468",
          "Fundación 469",
          "Fundación 470",
          "Fundación 471",
          "Fundación 472",
          "Fundación 473",
          "Fundación 474",
          "Fundación 475",
          "Fundación 476",
          "Fundación 477",
          "Fundación 478",
          "Fundación 479",
          "Fundación 480",
          "Fundación 481",
          "Fundación 482",
          "Fundación 483",
          "Fundación 484",
          "Fundación 485",
          "Fundación 486",
          "Fundación 487",
          "Fundación 488",
          "Fundación 489",
          "Fundación 490",
          "Fundación 491",
          "Fundación 492",
          "Fundación 493",
          "Fundación 494",
          "Fundación 495",
          "Fundación 496",
          "Fundación 498",
          "Fundación 500",
          "Fundación 502",
          "Fundación 503",
          "Fundación 504",
          "Fundación 505",
          "Fundación 506",
          "Fundación 507",
          "Fundación 508",
          "Fundación 509",
          "Fundación 510",
          "Fundación 511",
          "Fundación 512",
          "Fundación 513",
          "Fundación 514",
          "Fundación 515",
          "Fundación 516",
          "Fundación 517",
          "Fundación 520",
          "Fundación 521",
          "Fundación 522",
          "Fundación 523",
          "Fundación 524",
          "Fundación 525",
          "Fundación 526",
          "Fundación 527",
          "Fundación 530",
          "Fundación 531",
          "Fundación 532",
          "Fundación 533",
          "Fundación 534",
          "Fundación 535",
          "Fundación 536",
          "Fundación 537",
          "Fundación 538",
          "Fundación 539",
          "Fundación 540",
          "Fundación 541",
          "Fundación 542",
          "Fundación 543",
          "Fundación 545",
          "Fundación 546",
          "Fundación 547",
          "Fundación 548",
          "Fundación 550",
          "Fundación 551",
          "Fundación 552",
          "Fundación 553",
          "Fundación 554",
          "Fundación 555",
          "Fundación 556",
          "Fundación 557",
          "Fundación 558",
          "Fundación 559",
          "Fundación 560",
          "Fundación 561",
          "Fundación 562",
          "Fundación 563",
          "Fundación 564",
          "Fundación 565",
          "Fundación 566",
          "Fundación 567",
          "Fundación 568",
          "Fundación 569",
          "Fundación 570",
          "Fundación 571",
          "Fundación 572",
          "Fundación 573",
          "Fundación 574",
          "Fundación 575",
          "Fundación 576",
          "Fundación 577",
          "Fundación 578",
          "Fundación 579",
          "Fundación 580",
          "Fundación 581",
          "Fundación 582",
          "Fundación 583",
          "Fundación 584",
          "Fundación 585",
          "Fundación 586",
          "Fundación 587",
          "Fundación 588",
          "Fundación 589",
          "Fundación 590",
          "Fundación 591",
          "Fundación 592",
          "Fundación 593",
          "Fundación 594",
          "Fundación 595",
          "Fundación 596",
          "Fundación 599",
          "Fundación 600",
          "Fundación 606",
          "Fundación 607",
          "Fundación 608",
          "Fundación 610",
          "Fundación 611",
          "Fundación 612",
          "Fundación 613",
          "Fundación 614",
          "Fundación 615",
          "Fundación 616",
          "Fundación 617",
          "Fundación 618",
          "Fundación 619",
          "Fundación 620",
          "Fundación 621",
          "Fundación 622",
          "Fundación 623"
         ],
         "lat": [
          4.58143,
          4.60116841204114,
          4.594741,
          4.583549,
          4.595307,
          4.598645,
          4.59992,
          4.733723,
          4.662537,
          4.677146,
          4.672669,
          4.66718,
          4.68177,
          4.68231,
          4.682222,
          4.6630894,
          4.6741367,
          4.6543159,
          4.6856782,
          4.6747616,
          4.610242,
          4.631799,
          4.61221851722243,
          4.6079968,
          4.62925,
          4.63239727403919,
          4.61279436731178,
          4.60778550020372,
          4.60298492170407,
          4.6046016090267,
          4.6199315670464,
          4.62728429852338,
          4.57812837840698,
          4.60907433198532,
          4.61201566091473,
          4.61429737101844,
          4.61394401361333,
          4.61065901137946,
          4.5886561,
          4.58657737025049,
          4.59274161247767,
          4.5997768,
          4.59360687200444,
          4.58705991511683,
          4.59203361482541,
          4.67846178851254,
          4.59630111217246,
          4.597317,
          4.59604413431315,
          4.59587251343711,
          4.5927267,
          4.69522923964839,
          4.57437375667623,
          4.62819337771199,
          4.65061327340052,
          4.66211037416536,
          4.6778505,
          4.67132426738067,
          4.64690967445379,
          4.64853,
          4.6508111187404,
          4.63887427677364,
          4.65179997303999,
          4.63850176428031,
          4.63850176428031,
          4.63850176428031,
          4.63740194004553,
          4.62814737986436,
          4.67093519466858,
          4.62838597979568,
          4.60122939906589,
          4.63743402118381,
          4.54966160722963,
          4.66867264787466,
          4.65304505311715,
          4.66226791672301,
          4.57199370122813,
          4.58673396964682,
          4.57963773707633,
          4.55512,
          4.53975,
          4.59445,
          4.6583185909577,
          4.5669663339397,
          4.54557411323263,
          4.59500099501465,
          4.61363,
          4.58013999360919,
          4.68346886384852,
          4.54494892318819,
          4.548787,
          4.548787,
          4.531738,
          4.548681,
          4.592436,
          4.574348,
          4.576285,
          4.562836,
          4.581352,
          4.538745,
          4.544639,
          4.55227,
          4.55361,
          4.666072,
          4.5739,
          4.53839,
          4.54211,
          4.561627,
          4.565702,
          4.576094,
          4.507148,
          4.549681,
          4.556894,
          4.568874,
          4.533085,
          4.567363,
          4.515485,
          4.538388,
          4.555876,
          4.649315,
          4.576686,
          4.550188,
          4.542432,
          4.569831,
          4.587493,
          4.556052,
          4.571718,
          4.617364,
          4.600111,
          4.509303,
          4.554554,
          4.5844754,
          4.5940229,
          4.5726382,
          4.5415855,
          4.5747613,
          4.5600986,
          4.6070297,
          4.6308252,
          4.639753,
          4.7153765,
          4.7118717,
          4.6672996,
          4.701471,
          4.7010664,
          4.7068767,
          4.7018087,
          4.6899311,
          4.6643934,
          4.6643934,
          4.6693301,
          4.7180382,
          4.7527485,
          4.6865426,
          4.6907385,
          4.6697437,
          4.6876583,
          4.671808,
          4.7076384,
          4.7011357,
          4.6999926,
          4.6944886,
          4.6872755,
          4.7148549,
          4.6792239,
          4.6787006,
          4.62765478668079,
          4.68356168057896,
          4.67658891771504,
          4.69296713014783,
          4.67310781106113,
          4.67835601010682,
          4.64760125495714,
          4.67159504114539,
          4.63524024033512,
          4.66847202093992,
          4.72916620044866,
          4.55759748084429,
          4.57801506189112,
          4.58132067153167,
          4.72139137560692,
          4.600799686117,
          4.63832953916383,
          4.62612903156036,
          4.6281201368892,
          4.63254265104949,
          4.63677519622089,
          4.65489170667962,
          4.64519204296023,
          4.6173806,
          4.6344861,
          4.6263946,
          4.623515,
          4.6356743,
          4.6160408,
          4.6397885,
          4.6315243,
          4.6214578,
          4.5905976,
          4.6092309,
          4.6223871,
          4.6275599,
          4.5915231,
          4.6043095,
          4.6219206,
          4.62436,
          4.6399494,
          4.6281493,
          4.6082071,
          4.6399494,
          4.6190915,
          4.5234607,
          4.5954127,
          4.5560899,
          4.5847935,
          4.6824626,
          4.7474938,
          4.6545612,
          4.5433901,
          4.6901945,
          4.5540285,
          4.7193792,
          4.5003465,
          4.5166655,
          4.5803193,
          4.5905355,
          4.5747306,
          4.67951,
          4.5917811,
          4.5877564,
          4.68508,
          4.6266164,
          4.7170009,
          4.5725336,
          4.5634633,
          4.6387081,
          4.5585982,
          4.5961621,
          4.6165539,
          4.6165539,
          4.7012209,
          4.6297241,
          4.5695523,
          4.5815946,
          4.595464,
          4.5962837,
          4.6135039,
          4.5986971,
          4.6103597,
          4.6204552,
          4.5965885,
          4.6085356,
          4.6084276,
          4.6078844,
          4.7383312,
          4.5843069,
          4.5929334,
          4.5556347,
          4.702861,
          4.7072916,
          4.6647516,
          4.5559496,
          4.546416,
          4.6919712,
          4.6974573,
          4.586181,
          4.5631323,
          4.5971079,
          4.7337748,
          4.7050285,
          4.6648576,
          4.6717293,
          4.6702073,
          4.6744585,
          4.67222,
          4.6250332,
          4.6224046,
          4.759723,
          4.7580541,
          4.4783381,
          4.6360299,
          4.5450766,
          4.54929,
          4.55159,
          4.6446623,
          4.6561067,
          4.5356834,
          4.5865216,
          4.7355056,
          4.7349984,
          4.71611695165287,
          4.60610176759018,
          4.63020935957825,
          4.61989577546574,
          4.6129895611495,
          4.62445712356478,
          4.60069911068086,
          4.58056689893362,
          4.57717426439896,
          4.59273178961598,
          4.57918978044826,
          4.57944925877923,
          4.5818340312817,
          4.60322110434176,
          4.56110486070839,
          4.526434445831,
          4.54583295822614,
          4.58301066933862,
          4.5816400531017,
          4.5744411662727,
          4.56200386061405,
          4.55964301024638,
          4.58048024960671,
          4.58180024218478,
          4.57676505906202,
          4.58702888561864,
          4.6453246,
          4.620472,
          4.6087214,
          4.5631518,
          4.5907734,
          4.5294116,
          4.5843001,
          4.6045658,
          4.579313,
          4.5843467,
          4.5558783,
          4.557519,
          4.6184904,
          4.5617109,
          4.548172,
          4.548172,
          4.5375788,
          4.5269058,
          4.5623657,
          4.5653526,
          4.5918962,
          4.5612379,
          4.5455734,
          4.5484263,
          4.5493496,
          4.5393395,
          4.56013817369214,
          4.5924531,
          4.5459186,
          4.5459666,
          4.6136649,
          4.5681416,
          4.5682317,
          4.7370049,
          4.5472173,
          4.6121581,
          4.7731175,
          4.5625991,
          4.6771789,
          4.6771789,
          4.5496954,
          4.5725325,
          4.5779964,
          4.5780865,
          4.58983530199727,
          4.61403710766182,
          4.60911878534657,
          4.61486779558533,
          4.59290830121201,
          4.58937149099431,
          4.58905384109357,
          4.61166223140423,
          4.6176513888844,
          4.61752869490173,
          4.61205890811012,
          4.60577215727389,
          4.60561152742614,
          4.58739604731541,
          4.61301998422797,
          4.61442618382454,
          4.58752605832631,
          4.62203663928113,
          4.59616767772875,
          4.60580379791106,
          4.60069985910691,
          4.56759777240795,
          4.69175705433868,
          4.65540369168613,
          4.65541438512599,
          4.6552379,
          4.5920405,
          4.6008318,
          4.6330469,
          4.6222073,
          4.5784741,
          4.6776,
          4.6776,
          4.6036235,
          4.5907238,
          4.590084,
          4.598369,
          4.57859,
          4.643271,
          4.5948083,
          4.5656044,
          4.5635258,
          4.584355,
          4.573365,
          4.587284,
          4.5803811,
          4.5987213,
          4.5739969,
          4.5758482,
          4.5790718,
          4.5693489,
          4.5676723,
          4.5726739,
          4.5726739,
          4.5694005,
          4.5792061,
          4.5738533,
          4.5778163,
          4.5782713,
          4.5779644,
          4.5811384,
          4.5777266,
          4.5777266,
          4.5834626,
          4.5984744,
          4.5897543,
          4.5777266,
          4.5777266,
          4.7428129,
          4.6208677,
          4.5958147,
          4.594884,
          4.711544,
          4.6673758,
          4.7223157,
          4.734662,
          4.7351567,
          4.645855583,
          4.75908166,
          4.721880107,
          4.734551706,
          4.724461833,
          4.755597809,
          4.746959043,
          4.760598136,
          4.765450222,
          4.765450222,
          4.698109249,
          4.733937466,
          4.744114703,
          4.73794167,
          4.703612573,
          4.757044335,
          4.619532657,
          4.564290188,
          4.718838836,
          4.700748831,
          4.758716784,
          4.751023211,
          4.730278166,
          4.740050222,
          4.765858349,
          4.742926548,
          4.708633,
          4.7830065,
          4.7529312,
          4.726497,
          4.5128126,
          4.6370281,
          4.6276207,
          4.6240317,
          4.6613693,
          4.627767,
          4.627767,
          4.644105,
          4.6271,
          4.648423,
          4.6251085,
          4.6321347,
          4.6501018,
          4.6470895,
          4.6284133,
          4.622102,
          4.6258211,
          4.7514226,
          4.5690694,
          4.5665635,
          4.5858399,
          4.571282,
          4.5643573,
          4.5641902,
          4.5786351,
          4.7408605,
          4.7336449,
          4.7350062,
          4.7435485,
          4.7234392,
          4.6991692,
          4.6891185,
          4.664508,
          4.6929071,
          4.774166,
          4.7363964,
          4.7329464,
          4.69336,
          4.7474938,
          4.7149715,
          4.7633322,
          4.7363592,
          4.7414531,
          4.7586286,
          4.75909,
          4.7646089,
          4.7405484,
          4.739945,
          4.7197645,
          4.7356422,
          4.691024,
          4.747179,
          4.5164309,
          4.5015387,
          4.5035644,
          4.4937499,
          4.5114108,
          4.5018624,
          4.5003787,
          4.5018602,
          4.4949488,
          4.5327529,
          4.5424699,
          4.502576,
          4.5631305,
          4.5123074,
          4.4998025,
          4.5437219,
          4.7589526,
          4.500329,
          4.532763,
          4.5106585,
          4.4900868,
          4.505188,
          4.5055218,
          4.4976288,
          4.5631604,
          4.5566046,
          4.5029571,
          4.5012589,
          4.5139945,
          4.53173005705825,
          4.56521365780407,
          4.60356032002689,
          4.54836544752403,
          4.60376732679297,
          4.59965617681893,
          4.57939815270718,
          4.63513505937921,
          4.5035634065195,
          4.65821076276073,
          4.70992945369682,
          4.59162699205903,
          4.66588410156513,
          4.62011136487285,
          4.62960725638412,
          4.5132746404884,
          4.63332394938156,
          4.66112050250219,
          4.59218063169085,
          4.59218063169085,
          4.50757182698048,
          4.55633040157688,
          4.75294384343555,
          4.62003639288046,
          4.74826534722724,
          4.67505672493916,
          4.60131843356169,
          4.62241408950982
         ],
         "legendgroup": "",
         "lon": [
          -74.09694,
          -74.0877205301045,
          -74.091919,
          -74.095351,
          -74.105222,
          -74.089669,
          -74.079962,
          -74.027954,
          -74.070281,
          -74.066436,
          -74.078501,
          -74.06822,
          -74.06108,
          -74.0734,
          -74.063133,
          -74.0735911,
          -74.0860731,
          -74.0700957,
          -74.0726733,
          -74.0802557,
          -74.353222,
          -74.1819896,
          -74.2035597464007,
          -74.1850391,
          -74.18396,
          -74.1893950953664,
          -74.1896479515058,
          -74.1982301257119,
          -74.1906713506579,
          -74.1872161398176,
          -74.1971452968293,
          -74.1960939456529,
          -74.2102713099175,
          -74.1863593243122,
          -74.1846446186652,
          -74.2114685669855,
          -74.1892271609944,
          -74.184489845906,
          -74.0760233,
          -74.0751930073536,
          -74.0786459168177,
          -74.0731549,
          -74.0699446945879,
          -74.0825572947124,
          -74.0742630028888,
          -74.1480338936401,
          -74.071865501066,
          -74.0747542,
          -74.0718116068181,
          -74.0694768470717,
          -74.0714734,
          -74.0969766680514,
          -74.1745412422762,
          -74.0724149958554,
          -74.0544504186651,
          -74.069409980774,
          -74.046192,
          -74.0435632452185,
          -74.0610730317269,
          -74.07507,
          -74.0562784587103,
          -74.0648486028908,
          -74.0763564317268,
          -74.0781963470712,
          -74.0781963470712,
          -74.0781963470712,
          -74.0610284740546,
          -74.0603177317268,
          -74.0712204298742,
          -74.0859291875463,
          -74.0721805317269,
          -74.0609855587103,
          -74.152219389399,
          -74.0234258317268,
          -74.0605451163825,
          -74.0509378759072,
          -74.1644668740547,
          -74.1016017587104,
          -74.0938762163825,
          -74.14809,
          -74.14616,
          -74.12015,
          -74.0645797028907,
          -74.1689852605629,
          -74.1401520470712,
          -74.1918512875464,
          -74.16003,
          -74.1792612010381,
          -74.0594560028907,
          -74.1461189605629,
          -74.140041,
          -74.140041,
          -74.167628,
          -74.139787,
          -74.175242,
          -74.150003,
          -74.171921,
          -74.147738,
          -74.169573,
          -74.148385,
          -74.160982,
          -74.158491,
          -74.146428,
          -74.059391,
          -74.161629,
          -74.137059,
          -74.139108,
          -74.143721,
          -74.148635,
          -74.136221,
          -74.144534,
          -74.164942,
          -74.111626,
          -74.163622,
          -74.144488,
          -74.170797,
          -74.119584,
          -74.137059,
          -74.142592,
          -74.1764,
          -74.172146,
          -74.142111,
          -74.138502,
          -74.163533,
          -74.156223,
          -74.143624,
          -74.164189,
          -74.148158,
          -74.086438,
          -74.11017,
          -74.142998,
          -74.1593461,
          -74.156431,
          -74.1709965,
          -74.1624523,
          -74.1586981,
          -74.1419427,
          -74.2041025,
          -74.0767397,
          -74.1682081,
          -74.1030595,
          -74.1008184,
          -74.0563696,
          -74.0968875,
          -74.0690094,
          -74.127835,
          -74.0897555,
          -74.0970692,
          -74.1051502,
          -74.1051502,
          -74.0984687,
          -74.1373234,
          -74.1342364,
          -74.0822725,
          -74.086677,
          -74.1036432,
          -74.0870746,
          -73.99771,
          -74.1046111,
          -74.1101629,
          -74.1255565,
          -74.089332,
          -74.0961224,
          -74.1044666,
          -74.1100368,
          -74.0929104,
          -74.078080353,
          -74.132086003,
          -74.1381131745471,
          -74.1723109425913,
          -74.138161311688,
          -74.1480531438566,
          -74.1729809917466,
          -74.1188288949631,
          -74.1491183168746,
          -74.1211966322199,
          -74.0936277389653,
          -74.0991662381471,
          -74.109321945711,
          -74.223912545711,
          -74.0954557612879,
          -74.1969305015831,
          -74.1651045322199,
          -74.1278971457109,
          -74.1437867745472,
          -74.1473043948932,
          -74.1713420322198,
          -74.1365066187288,
          -74.1770698898925,
          -74.1786138,
          -74.1571621,
          -74.1662802,
          -74.1570374,
          -74.1643744,
          -74.1786873,
          -74.1687867,
          -74.1669568,
          -74.1538852,
          -74.0757916,
          -74.1733104,
          -74.1527421,
          -74.1680059,
          -74.0805066,
          -74.1365968,
          -74.1632477,
          -74.147338,
          -74.138262,
          -74.1466222,
          -74.1315133,
          -74.138262,
          -74.1377363,
          -74.123374,
          -74.0724147,
          -74.0974508,
          -74.1014924,
          -74.0616579,
          -74.0267238,
          -74.0639101,
          -74.1449525,
          -74.0706999,
          -74.0989822,
          -74.0890348,
          -74.1068579,
          -74.1210078,
          -74.2205883,
          -74.1764762,
          -74.1710618,
          -74.0542331,
          -74.0959045,
          -74.0795683,
          -74.0849471,
          -74.1974116,
          -74.0725631,
          -74.1088915,
          -74.1364389,
          -74.1910018,
          -74.0957019,
          -74.1021645,
          -74.0810608,
          -74.0810608,
          -74.1312984,
          -74.1464699,
          -74.1194424,
          -74.0780422,
          -74.0997825,
          -74.1023628,
          -74.0790421,
          -74.099369,
          -74.0782842,
          -74.0826546,
          -74.0958922,
          -74.0948147,
          -74.0946825,
          -74.0921343,
          -74.0595752,
          -74.1016669,
          -74.0770214,
          -74.1366647,
          -74.0898362,
          -74.0918205,
          -74.1259784,
          -74.1191973,
          -74.0806271,
          -74.1962185,
          -74.2126703,
          -74.0753235,
          -74.1423238,
          -74.1191921,
          -74.0456092,
          -74.0780727,
          -74.1062629,
          -74.1024658,
          -74.1043495,
          -74.1067217,
          -74.1032479,
          -74.1454398,
          -74.1638721,
          -74.0519008,
          -74.0505459,
          -74.1236634,
          -74.0715374,
          -74.1612213,
          -74.1602,
          -74.15941,
          -74.1706204,
          -74.0640225,
          -74.0848582,
          -74.0889986,
          -74.0966914,
          -74.0959174,
          -74.0552438032671,
          -74.112294960939,
          -74.0813153609391,
          -74.1016721232703,
          -74.0989777897749,
          -74.0916605032672,
          -74.1121702609391,
          -74.1230425609391,
          -74.1198805321032,
          -74.1430882979198,
          -74.1226369032672,
          -74.1227586321032,
          -74.1154568321033,
          -74.1004167744314,
          -74.1105907321032,
          -74.1189943609391,
          -74.1128018944362,
          -74.1044319609391,
          -74.1178044609391,
          -74.1156121944355,
          -74.1208564744314,
          -74.111527617827,
          -74.123612980943,
          -74.1089757609391,
          -74.1013016744314,
          -74.1061469455954,
          -74.1682528,
          -74.082654,
          -74.356028,
          -74.0884502,
          -74.0799226,
          -74.0879346,
          -74.0869715,
          -74.073102,
          -74.0848727,
          -74.0836437,
          -74.0891932,
          -74.1000266,
          -74.0637583,
          -74.0754443,
          -74.0957543,
          -74.0957543,
          -74.0822189,
          -74.090919,
          -74.1039338,
          -74.0839845,
          -74.0817317,
          -74.0948541,
          -74.0876949,
          -74.1012326,
          -74.0937372,
          -74.089365,
          -74.0894413317923,
          -74.0948743,
          -74.0987703,
          -74.1140912,
          -74.1189267,
          -74.1117713,
          -74.1446023,
          -74.0941354,
          -74.0911162,
          -74.0730933,
          -74.0642148,
          -74.1523942,
          -74.0662342,
          -74.0662342,
          -74.1021273,
          -74.1723768,
          -74.2078561,
          -74.2406871,
          -74.0843399898298,
          -74.076722518665,
          -74.0685877033237,
          -74.0779125475005,
          -74.0810962033237,
          -74.0817992033237,
          -74.0819877168176,
          -74.0730428211074,
          -74.0800956879822,
          -74.0640091033237,
          -74.0776547186651,
          -74.0666842898298,
          -74.0731754369753,
          -74.080129732159,
          -74.0779871609945,
          -74.0764971186651,
          -74.0742610744883,
          -74.0798821744883,
          -74.0980840033237,
          -74.0978767475004,
          -74.1016093591469,
          -74.0683615630875,
          -74.0939298609943,
          -74.114908532159,
          -74.114908532159,
          -74.1170865,
          -74.0911297,
          -74.1140935,
          -74.0709614,
          -74.0777223,
          -74.1722186,
          -74.0784,
          -74.0784,
          -74.1355648,
          -74.1801129,
          -74.199649,
          -74.1899755,
          -74.179665,
          -74.139101,
          -74.1918942,
          -74.2201701,
          -74.1882079,
          -74.1846961,
          -74.2101692,
          -74.1926991,
          -74.1248968,
          -74.1969388,
          -74.2330755,
          -74.2265486,
          -74.2161946,
          -74.2301527,
          -74.2368641,
          -74.218509,
          -74.218509,
          -74.2325845,
          -74.2184111,
          -74.1848246,
          -74.1804885,
          -74.2426224,
          -74.2001108,
          -74.2138627,
          -74.2436631,
          -74.2436631,
          -74.2149634,
          -74.2006375,
          -74.2017031,
          -74.2436631,
          -74.2436631,
          -74.016055,
          -74.0663481,
          -74.0986851,
          -74.1007411,
          -74.0563352,
          -74.0754073,
          -74.0965354,
          -74.1014816,
          -74.0533519,
          -74.17653292,
          -74.04927804,
          -74.06792116,
          -74.04581268,
          -74.08459144,
          -74.08493474,
          -74.07687195,
          -74.03105905,
          -74.06873854,
          -74.06873854,
          -74.06656706,
          -74.09761833,
          -74.12276143,
          -74.07333531,
          -74.06181901,
          -74.09873951,
          -74.17325138,
          -74.09040364,
          -74.03529816,
          -74.07538628,
          -74.04721822,
          -74.10226641,
          -74.09298717,
          -74.10877353,
          -74.05557978,
          -74.12628995,
          -74.05557041,
          -74.0964598,
          -74.1136959,
          -74.0850529,
          -74.1109085,
          -74.0738664,
          -74.0780884,
          -74.0731048,
          -74.0979009,
          -74.0717325,
          -74.0717325,
          -74.0697368,
          -74.0869659,
          -74.0822873,
          -74.0761298,
          -74.0711252,
          -74.0702018,
          -74.1036516,
          -74.0701951,
          -74.0701033,
          -74.0782507,
          -74.0766494,
          -74.1220894,
          -74.1302175,
          -74.1297422,
          -74.1442481,
          -74.1352939,
          -74.1341747,
          -74.1412944,
          -74.0279843,
          -74.0197372,
          -74.0221222,
          -74.0179549,
          -74.0449642,
          -74.0308155,
          -74.0465003,
          -74.0494885,
          -74.027304,
          -74.0409603,
          -74.1100261,
          -74.0268909,
          -74.0266614,
          -74.0267238,
          -74.0665352,
          -74.0288553,
          -74.0213544,
          -74.0299276,
          -74.022896,
          -74.01319,
          -74.0294385,
          -74.0429901,
          -74.0678612,
          -74.038947,
          -74.0213591,
          -74.0415087,
          -74.0241407,
          -74.0892533,
          -74.1059224,
          -74.1179204,
          -74.1092098,
          -74.1168656,
          -74.1096598,
          -74.1033343,
          -74.1137442,
          -74.116504,
          -74.1109134,
          -74.1068332,
          -74.1118716,
          -74.1070509,
          -74.116254,
          -74.1093297,
          -74.1141961,
          -74.0237989,
          -74.100645,
          -74.1142664,
          -74.1090484,
          -74.1147916,
          -74.1109575,
          -74.1007654,
          -74.0861099,
          -74.1175423,
          -74.0938121,
          -74.1122914,
          -74.0892932,
          -74.1143554,
          -74.113990235582,
          -74.146176935582,
          -74.0976200796438,
          -74.0882877932538,
          -74.1449261487408,
          -74.1547721644179,
          -74.0892095932538,
          -74.2073313932538,
          -74.1162663906955,
          -74.1307747364376,
          -74.0324851644179,
          -74.1568063882062,
          -74.1062200279331,
          -74.0657999739623,
          -74.1227071046482,
          -74.1163722432766,
          -74.0944794819042,
          -74.0769529739621,
          -74.0854591739624,
          -74.0854591739624,
          -74.1074319739626,
          -74.0889275358755,
          -74.1160600972467,
          -74.1635280126039,
          -74.0443130819038,
          -74.0211753739621,
          -74.0692777199913,
          -74.1625817893053
         ],
         "marker": {
          "color": [
           4,
           1,
           1,
           4,
           1,
           1,
           1,
           1,
           1,
           1,
           1,
           1,
           1,
           1,
           1,
           1,
           1,
           1,
           1,
           3,
           3,
           3,
           1,
           3,
           3,
           3,
           3,
           1,
           3,
           3,
           3,
           1,
           3,
           3,
           3,
           3,
           3,
           3,
           1,
           1,
           1,
           1,
           1,
           4,
           3,
           1,
           1,
           1,
           1,
           1,
           1,
           1,
           0,
           1,
           1,
           1,
           3,
           1,
           1,
           1,
           1,
           1,
           1,
           1,
           1,
           1,
           1,
           3,
           1,
           1,
           1,
           1,
           1,
           1,
           1,
           1,
           0,
           0,
           1,
           0,
           0,
           0,
           0,
           0,
           0,
           3,
           3,
           0,
           0,
           0,
           0,
           0,
           0,
           0,
           0,
           0,
           0,
           0,
           1,
           0,
           0,
           0,
           0,
           0,
           0,
           0,
           4,
           1,
           0,
           1,
           0,
           0,
           3,
           0,
           0,
           0,
           0,
           4,
           4,
           3,
           0,
           0,
           1,
           0,
           0,
           0,
           0,
           0,
           0,
           0,
           0,
           1,
           3,
           1,
           0,
           0,
           0,
           0,
           3,
           1,
           3,
           1,
           1,
           1,
           1,
           1,
           3,
           1,
           1,
           1,
           1,
           1,
           1,
           1,
           1,
           1,
           3,
           1,
           1,
           1,
           1,
           1,
           3,
           1,
           4,
           1,
           1,
           1,
           3,
           4,
           3,
           3,
           1,
           1,
           1,
           3,
           3,
           4,
           1,
           3,
           1,
           3,
           3,
           4,
           1,
           3,
           3,
           3,
           3,
           3,
           3,
           1,
           1,
           1,
           4,
           1,
           1,
           3,
           1,
           1,
           1,
           1,
           3,
           3,
           3,
           1,
           1,
           1,
           1,
           1,
           1,
           1,
           3,
           1,
           4,
           1,
           1,
           1,
           0,
           1,
           1,
           1,
           1,
           1,
           3,
           0,
           0,
           1,
           1,
           1,
           3,
           3,
           1,
           4,
           1,
           3,
           1,
           1,
           3,
           3,
           1,
           1,
           3,
           1,
           1,
           1,
           1,
           3,
           1,
           1,
           1,
           1,
           1,
           1,
           1,
           3,
           3,
           1,
           1,
           1,
           1,
           1,
           4,
           5,
           3,
           1,
           3,
           1,
           1,
           3,
           1,
           3,
           3,
           1,
           1,
           1,
           1,
           3,
           3,
           1,
           1,
           0,
           0,
           0,
           1,
           1,
           3,
           1,
           1,
           3,
           1,
           1,
           1,
           1,
           1,
           1,
           3,
           1,
           4,
           1,
           3,
           3,
           1,
           3,
           1,
           4,
           4,
           3,
           1,
           3,
           3,
           3,
           3,
           3,
           1,
           1,
           1,
           1,
           0,
           1,
           4,
           1,
           1,
           4,
           1,
           4,
           4,
           4,
           1,
           4,
           1,
           1,
           4,
           4,
           1,
           4,
           4,
           4,
           4,
           1,
           4,
           1,
           4,
           4,
           4,
           4,
           4,
           1,
           4,
           1,
           4,
           1,
           1,
           0,
           1,
           1,
           1,
           3,
           3,
           0,
           1,
           1,
           3,
           1,
           1,
           1,
           1,
           1,
           1,
           1,
           1,
           1,
           1,
           1,
           1,
           1,
           1,
           1,
           1,
           1,
           1,
           3,
           1,
           1,
           1,
           1,
           1,
           3,
           3,
           3,
           0,
           1,
           1,
           3,
           3,
           3,
           3,
           1,
           3,
           3,
           3,
           3,
           1,
           3,
           3,
           3,
           3,
           3,
           3,
           3,
           3,
           3,
           3,
           3,
           3,
           3,
           3,
           3,
           3,
           3,
           3,
           3,
           3,
           3,
           3,
           1,
           3,
           3,
           3,
           1,
           3,
           3,
           1,
           1,
           3,
           1,
           1,
           3,
           3,
           1,
           1,
           3,
           3,
           1,
           1,
           1,
           1,
           1,
           1,
           3,
           1,
           4,
           1,
           3,
           1,
           3,
           1,
           1,
           1,
           1,
           2,
           1,
           1,
           1,
           1,
           3,
           1,
           1,
           1,
           1,
           1,
           1,
           1,
           1,
           1,
           1,
           1,
           1,
           1,
           1,
           4,
           1,
           1,
           1,
           1,
           3,
           1,
           1,
           1,
           1,
           1,
           1,
           1,
           1,
           1,
           1,
           1,
           1,
           3,
           1,
           1,
           1,
           1,
           1,
           1,
           1,
           1,
           1,
           1,
           1,
           1,
           3,
           1,
           1,
           1,
           1,
           1,
           3,
           1,
           4,
           4,
           1,
           1,
           1,
           4,
           3,
           1,
           4,
           1,
           1,
           4,
           1,
           1,
           1,
           1,
           1,
           1,
           4,
           4,
           4,
           4,
           4,
           1,
           1,
           1,
           1,
           3,
           3,
           1,
           1,
           1,
           4,
           1,
           1,
           1,
           1,
           1,
           1,
           1,
           0,
           1,
           1,
           1,
           3,
           3,
           3,
           1,
           1,
           1,
           4,
           1,
           3,
           1,
           1,
           1,
           1
          ],
          "coloraxis": "coloraxis"
         },
         "mode": "markers",
         "name": "",
         "showlegend": false,
         "subplot": "mapbox",
         "type": "scattermapbox"
        }
       ],
       "layout": {
        "coloraxis": {
         "colorbar": {
          "title": {
           "text": "kmeans"
          }
         },
         "colorscale": [
          [
           0,
           "#0d0887"
          ],
          [
           0.1111111111111111,
           "#46039f"
          ],
          [
           0.2222222222222222,
           "#7201a8"
          ],
          [
           0.3333333333333333,
           "#9c179e"
          ],
          [
           0.4444444444444444,
           "#bd3786"
          ],
          [
           0.5555555555555556,
           "#d8576b"
          ],
          [
           0.6666666666666666,
           "#ed7953"
          ],
          [
           0.7777777777777778,
           "#fb9f3a"
          ],
          [
           0.8888888888888888,
           "#fdca26"
          ],
          [
           1,
           "#f0f921"
          ]
         ]
        },
        "legend": {
         "tracegroupgap": 0
        },
        "mapbox": {
         "center": {
          "lat": 4.570868,
          "lon": -74.297333
         },
         "domain": {
          "x": [
           0,
           1
          ],
          "y": [
           0,
           1
          ]
         },
         "style": "open-street-map",
         "zoom": 5
        },
        "template": {
         "data": {
          "bar": [
           {
            "error_x": {
             "color": "#2a3f5f"
            },
            "error_y": {
             "color": "#2a3f5f"
            },
            "marker": {
             "line": {
              "color": "#E5ECF6",
              "width": 0.5
             },
             "pattern": {
              "fillmode": "overlay",
              "size": 10,
              "solidity": 0.2
             }
            },
            "type": "bar"
           }
          ],
          "barpolar": [
           {
            "marker": {
             "line": {
              "color": "#E5ECF6",
              "width": 0.5
             },
             "pattern": {
              "fillmode": "overlay",
              "size": 10,
              "solidity": 0.2
             }
            },
            "type": "barpolar"
           }
          ],
          "carpet": [
           {
            "aaxis": {
             "endlinecolor": "#2a3f5f",
             "gridcolor": "white",
             "linecolor": "white",
             "minorgridcolor": "white",
             "startlinecolor": "#2a3f5f"
            },
            "baxis": {
             "endlinecolor": "#2a3f5f",
             "gridcolor": "white",
             "linecolor": "white",
             "minorgridcolor": "white",
             "startlinecolor": "#2a3f5f"
            },
            "type": "carpet"
           }
          ],
          "choropleth": [
           {
            "colorbar": {
             "outlinewidth": 0,
             "ticks": ""
            },
            "type": "choropleth"
           }
          ],
          "contour": [
           {
            "colorbar": {
             "outlinewidth": 0,
             "ticks": ""
            },
            "colorscale": [
             [
              0,
              "#0d0887"
             ],
             [
              0.1111111111111111,
              "#46039f"
             ],
             [
              0.2222222222222222,
              "#7201a8"
             ],
             [
              0.3333333333333333,
              "#9c179e"
             ],
             [
              0.4444444444444444,
              "#bd3786"
             ],
             [
              0.5555555555555556,
              "#d8576b"
             ],
             [
              0.6666666666666666,
              "#ed7953"
             ],
             [
              0.7777777777777778,
              "#fb9f3a"
             ],
             [
              0.8888888888888888,
              "#fdca26"
             ],
             [
              1,
              "#f0f921"
             ]
            ],
            "type": "contour"
           }
          ],
          "contourcarpet": [
           {
            "colorbar": {
             "outlinewidth": 0,
             "ticks": ""
            },
            "type": "contourcarpet"
           }
          ],
          "heatmap": [
           {
            "colorbar": {
             "outlinewidth": 0,
             "ticks": ""
            },
            "colorscale": [
             [
              0,
              "#0d0887"
             ],
             [
              0.1111111111111111,
              "#46039f"
             ],
             [
              0.2222222222222222,
              "#7201a8"
             ],
             [
              0.3333333333333333,
              "#9c179e"
             ],
             [
              0.4444444444444444,
              "#bd3786"
             ],
             [
              0.5555555555555556,
              "#d8576b"
             ],
             [
              0.6666666666666666,
              "#ed7953"
             ],
             [
              0.7777777777777778,
              "#fb9f3a"
             ],
             [
              0.8888888888888888,
              "#fdca26"
             ],
             [
              1,
              "#f0f921"
             ]
            ],
            "type": "heatmap"
           }
          ],
          "heatmapgl": [
           {
            "colorbar": {
             "outlinewidth": 0,
             "ticks": ""
            },
            "colorscale": [
             [
              0,
              "#0d0887"
             ],
             [
              0.1111111111111111,
              "#46039f"
             ],
             [
              0.2222222222222222,
              "#7201a8"
             ],
             [
              0.3333333333333333,
              "#9c179e"
             ],
             [
              0.4444444444444444,
              "#bd3786"
             ],
             [
              0.5555555555555556,
              "#d8576b"
             ],
             [
              0.6666666666666666,
              "#ed7953"
             ],
             [
              0.7777777777777778,
              "#fb9f3a"
             ],
             [
              0.8888888888888888,
              "#fdca26"
             ],
             [
              1,
              "#f0f921"
             ]
            ],
            "type": "heatmapgl"
           }
          ],
          "histogram": [
           {
            "marker": {
             "pattern": {
              "fillmode": "overlay",
              "size": 10,
              "solidity": 0.2
             }
            },
            "type": "histogram"
           }
          ],
          "histogram2d": [
           {
            "colorbar": {
             "outlinewidth": 0,
             "ticks": ""
            },
            "colorscale": [
             [
              0,
              "#0d0887"
             ],
             [
              0.1111111111111111,
              "#46039f"
             ],
             [
              0.2222222222222222,
              "#7201a8"
             ],
             [
              0.3333333333333333,
              "#9c179e"
             ],
             [
              0.4444444444444444,
              "#bd3786"
             ],
             [
              0.5555555555555556,
              "#d8576b"
             ],
             [
              0.6666666666666666,
              "#ed7953"
             ],
             [
              0.7777777777777778,
              "#fb9f3a"
             ],
             [
              0.8888888888888888,
              "#fdca26"
             ],
             [
              1,
              "#f0f921"
             ]
            ],
            "type": "histogram2d"
           }
          ],
          "histogram2dcontour": [
           {
            "colorbar": {
             "outlinewidth": 0,
             "ticks": ""
            },
            "colorscale": [
             [
              0,
              "#0d0887"
             ],
             [
              0.1111111111111111,
              "#46039f"
             ],
             [
              0.2222222222222222,
              "#7201a8"
             ],
             [
              0.3333333333333333,
              "#9c179e"
             ],
             [
              0.4444444444444444,
              "#bd3786"
             ],
             [
              0.5555555555555556,
              "#d8576b"
             ],
             [
              0.6666666666666666,
              "#ed7953"
             ],
             [
              0.7777777777777778,
              "#fb9f3a"
             ],
             [
              0.8888888888888888,
              "#fdca26"
             ],
             [
              1,
              "#f0f921"
             ]
            ],
            "type": "histogram2dcontour"
           }
          ],
          "mesh3d": [
           {
            "colorbar": {
             "outlinewidth": 0,
             "ticks": ""
            },
            "type": "mesh3d"
           }
          ],
          "parcoords": [
           {
            "line": {
             "colorbar": {
              "outlinewidth": 0,
              "ticks": ""
             }
            },
            "type": "parcoords"
           }
          ],
          "pie": [
           {
            "automargin": true,
            "type": "pie"
           }
          ],
          "scatter": [
           {
            "fillpattern": {
             "fillmode": "overlay",
             "size": 10,
             "solidity": 0.2
            },
            "type": "scatter"
           }
          ],
          "scatter3d": [
           {
            "line": {
             "colorbar": {
              "outlinewidth": 0,
              "ticks": ""
             }
            },
            "marker": {
             "colorbar": {
              "outlinewidth": 0,
              "ticks": ""
             }
            },
            "type": "scatter3d"
           }
          ],
          "scattercarpet": [
           {
            "marker": {
             "colorbar": {
              "outlinewidth": 0,
              "ticks": ""
             }
            },
            "type": "scattercarpet"
           }
          ],
          "scattergeo": [
           {
            "marker": {
             "colorbar": {
              "outlinewidth": 0,
              "ticks": ""
             }
            },
            "type": "scattergeo"
           }
          ],
          "scattergl": [
           {
            "marker": {
             "colorbar": {
              "outlinewidth": 0,
              "ticks": ""
             }
            },
            "type": "scattergl"
           }
          ],
          "scattermapbox": [
           {
            "marker": {
             "colorbar": {
              "outlinewidth": 0,
              "ticks": ""
             }
            },
            "type": "scattermapbox"
           }
          ],
          "scatterpolar": [
           {
            "marker": {
             "colorbar": {
              "outlinewidth": 0,
              "ticks": ""
             }
            },
            "type": "scatterpolar"
           }
          ],
          "scatterpolargl": [
           {
            "marker": {
             "colorbar": {
              "outlinewidth": 0,
              "ticks": ""
             }
            },
            "type": "scatterpolargl"
           }
          ],
          "scatterternary": [
           {
            "marker": {
             "colorbar": {
              "outlinewidth": 0,
              "ticks": ""
             }
            },
            "type": "scatterternary"
           }
          ],
          "surface": [
           {
            "colorbar": {
             "outlinewidth": 0,
             "ticks": ""
            },
            "colorscale": [
             [
              0,
              "#0d0887"
             ],
             [
              0.1111111111111111,
              "#46039f"
             ],
             [
              0.2222222222222222,
              "#7201a8"
             ],
             [
              0.3333333333333333,
              "#9c179e"
             ],
             [
              0.4444444444444444,
              "#bd3786"
             ],
             [
              0.5555555555555556,
              "#d8576b"
             ],
             [
              0.6666666666666666,
              "#ed7953"
             ],
             [
              0.7777777777777778,
              "#fb9f3a"
             ],
             [
              0.8888888888888888,
              "#fdca26"
             ],
             [
              1,
              "#f0f921"
             ]
            ],
            "type": "surface"
           }
          ],
          "table": [
           {
            "cells": {
             "fill": {
              "color": "#EBF0F8"
             },
             "line": {
              "color": "white"
             }
            },
            "header": {
             "fill": {
              "color": "#C8D4E3"
             },
             "line": {
              "color": "white"
             }
            },
            "type": "table"
           }
          ]
         },
         "layout": {
          "annotationdefaults": {
           "arrowcolor": "#2a3f5f",
           "arrowhead": 0,
           "arrowwidth": 1
          },
          "autotypenumbers": "strict",
          "coloraxis": {
           "colorbar": {
            "outlinewidth": 0,
            "ticks": ""
           }
          },
          "colorscale": {
           "diverging": [
            [
             0,
             "#8e0152"
            ],
            [
             0.1,
             "#c51b7d"
            ],
            [
             0.2,
             "#de77ae"
            ],
            [
             0.3,
             "#f1b6da"
            ],
            [
             0.4,
             "#fde0ef"
            ],
            [
             0.5,
             "#f7f7f7"
            ],
            [
             0.6,
             "#e6f5d0"
            ],
            [
             0.7,
             "#b8e186"
            ],
            [
             0.8,
             "#7fbc41"
            ],
            [
             0.9,
             "#4d9221"
            ],
            [
             1,
             "#276419"
            ]
           ],
           "sequential": [
            [
             0,
             "#0d0887"
            ],
            [
             0.1111111111111111,
             "#46039f"
            ],
            [
             0.2222222222222222,
             "#7201a8"
            ],
            [
             0.3333333333333333,
             "#9c179e"
            ],
            [
             0.4444444444444444,
             "#bd3786"
            ],
            [
             0.5555555555555556,
             "#d8576b"
            ],
            [
             0.6666666666666666,
             "#ed7953"
            ],
            [
             0.7777777777777778,
             "#fb9f3a"
            ],
            [
             0.8888888888888888,
             "#fdca26"
            ],
            [
             1,
             "#f0f921"
            ]
           ],
           "sequentialminus": [
            [
             0,
             "#0d0887"
            ],
            [
             0.1111111111111111,
             "#46039f"
            ],
            [
             0.2222222222222222,
             "#7201a8"
            ],
            [
             0.3333333333333333,
             "#9c179e"
            ],
            [
             0.4444444444444444,
             "#bd3786"
            ],
            [
             0.5555555555555556,
             "#d8576b"
            ],
            [
             0.6666666666666666,
             "#ed7953"
            ],
            [
             0.7777777777777778,
             "#fb9f3a"
            ],
            [
             0.8888888888888888,
             "#fdca26"
            ],
            [
             1,
             "#f0f921"
            ]
           ]
          },
          "colorway": [
           "#636efa",
           "#EF553B",
           "#00cc96",
           "#ab63fa",
           "#FFA15A",
           "#19d3f3",
           "#FF6692",
           "#B6E880",
           "#FF97FF",
           "#FECB52"
          ],
          "font": {
           "color": "#2a3f5f"
          },
          "geo": {
           "bgcolor": "white",
           "lakecolor": "white",
           "landcolor": "#E5ECF6",
           "showlakes": true,
           "showland": true,
           "subunitcolor": "white"
          },
          "hoverlabel": {
           "align": "left"
          },
          "hovermode": "closest",
          "mapbox": {
           "style": "light"
          },
          "paper_bgcolor": "white",
          "plot_bgcolor": "#E5ECF6",
          "polar": {
           "angularaxis": {
            "gridcolor": "white",
            "linecolor": "white",
            "ticks": ""
           },
           "bgcolor": "#E5ECF6",
           "radialaxis": {
            "gridcolor": "white",
            "linecolor": "white",
            "ticks": ""
           }
          },
          "scene": {
           "xaxis": {
            "backgroundcolor": "#E5ECF6",
            "gridcolor": "white",
            "gridwidth": 2,
            "linecolor": "white",
            "showbackground": true,
            "ticks": "",
            "zerolinecolor": "white"
           },
           "yaxis": {
            "backgroundcolor": "#E5ECF6",
            "gridcolor": "white",
            "gridwidth": 2,
            "linecolor": "white",
            "showbackground": true,
            "ticks": "",
            "zerolinecolor": "white"
           },
           "zaxis": {
            "backgroundcolor": "#E5ECF6",
            "gridcolor": "white",
            "gridwidth": 2,
            "linecolor": "white",
            "showbackground": true,
            "ticks": "",
            "zerolinecolor": "white"
           }
          },
          "shapedefaults": {
           "line": {
            "color": "#2a3f5f"
           }
          },
          "ternary": {
           "aaxis": {
            "gridcolor": "white",
            "linecolor": "white",
            "ticks": ""
           },
           "baxis": {
            "gridcolor": "white",
            "linecolor": "white",
            "ticks": ""
           },
           "bgcolor": "#E5ECF6",
           "caxis": {
            "gridcolor": "white",
            "linecolor": "white",
            "ticks": ""
           }
          },
          "title": {
           "x": 0.05
          },
          "xaxis": {
           "automargin": true,
           "gridcolor": "white",
           "linecolor": "white",
           "ticks": "",
           "title": {
            "standoff": 15
           },
           "zerolinecolor": "white",
           "zerolinewidth": 2
          },
          "yaxis": {
           "automargin": true,
           "gridcolor": "white",
           "linecolor": "white",
           "ticks": "",
           "title": {
            "standoff": 15
           },
           "zerolinecolor": "white",
           "zerolinewidth": 2
          }
         }
        },
        "title": {
         "text": "Fundaciones en Colombia"
        }
       }
      }
     },
     "metadata": {},
     "output_type": "display_data"
    },
    {
     "name": "stdout",
     "output_type": "stream",
     "text": [
      "plot complete\n"
     ]
    }
   ],
   "source": [
    "fig = px.scatter_mapbox(df,\n",
    "                        lat=\"Latitud\",\n",
    "                        lon=\"Longitud\",\n",
    "                        color=\"kmeans\",\n",
    "                        hover_name=\"ORGANIZACIÓN\",\n",
    "                        title=\"Fundaciones en Colombia\",\n",
    "                        zoom=5,\n",
    "\n",
    "                        )\n",
    "fig.update_layout(\n",
    "                    mapbox_center_lat = 4.570868,\n",
    "                    mapbox_center_lon = -74.297333,\n",
    "                    mapbox_style=\"open-street-map\",\n",
    "                )\n",
    "fig.show()\n",
    "print('plot complete')"
   ]
  },
  {
   "cell_type": "code",
   "execution_count": 12,
   "metadata": {},
   "outputs": [
    {
     "name": "stdout",
     "output_type": "stream",
     "text": [
      "(325, 11)\n"
     ]
    },
    {
     "name": "stderr",
     "output_type": "stream",
     "text": [
      "/tmp/ipykernel_5398/4098077425.py:4: SettingWithCopyWarning:\n",
      "\n",
      "\n",
      "A value is trying to be set on a copy of a slice from a DataFrame\n",
      "\n",
      "See the caveats in the documentation: https://pandas.pydata.org/pandas-docs/stable/user_guide/indexing.html#returning-a-view-versus-a-copy\n",
      "\n"
     ]
    },
    {
     "data": {
      "text/html": [
       "<div>\n",
       "<style scoped>\n",
       "    .dataframe tbody tr th:only-of-type {\n",
       "        vertical-align: middle;\n",
       "    }\n",
       "\n",
       "    .dataframe tbody tr th {\n",
       "        vertical-align: top;\n",
       "    }\n",
       "\n",
       "    .dataframe thead th {\n",
       "        text-align: right;\n",
       "    }\n",
       "</style>\n",
       "<table border=\"1\" class=\"dataframe\">\n",
       "  <thead>\n",
       "    <tr style=\"text-align: right;\">\n",
       "      <th></th>\n",
       "      <th>ORGANIZACIÓN</th>\n",
       "      <th>GRUPO POBLACIONAL</th>\n",
       "      <th>RED</th>\n",
       "      <th>LOCALIDAD</th>\n",
       "      <th>BARRIO</th>\n",
       "      <th>DIRECCIÓN</th>\n",
       "      <th>FAMILIAS ATENDIDAS</th>\n",
       "      <th>FRECUENCIA</th>\n",
       "      <th>SEMANA</th>\n",
       "      <th>Latitud</th>\n",
       "      <th>Longitud</th>\n",
       "    </tr>\n",
       "  </thead>\n",
       "  <tbody>\n",
       "    <tr>\n",
       "      <th>5</th>\n",
       "      <td>Fundación 6</td>\n",
       "      <td>TERAPÉUTICO POR ADICCIÓN</td>\n",
       "      <td>INMACULADA CONCEPCIÓN</td>\n",
       "      <td>ANTONIO NARIÑO</td>\n",
       "      <td>LA ESTANZUELA</td>\n",
       "      <td>DIAG. 44 NO. 17 - 40</td>\n",
       "      <td>554</td>\n",
       "      <td>QUINCENAL</td>\n",
       "      <td>2 Y 4 SEMANA DEL MES</td>\n",
       "      <td>4.601168</td>\n",
       "      <td>-74.087721</td>\n",
       "    </tr>\n",
       "    <tr>\n",
       "      <th>6</th>\n",
       "      <td>Fundación 7</td>\n",
       "      <td>TEJIENDO COMUNIDAD</td>\n",
       "      <td>INMACULADA CONCEPCIÓN</td>\n",
       "      <td>ANTONIO NARIÑO</td>\n",
       "      <td>EDUARDO SANTOS</td>\n",
       "      <td>CLL 1C BIS N.19-18</td>\n",
       "      <td>40</td>\n",
       "      <td>QUINCENAL</td>\n",
       "      <td>1 Y 3 SEMANA DEL MES</td>\n",
       "      <td>4.594741</td>\n",
       "      <td>-74.091919</td>\n",
       "    </tr>\n",
       "    <tr>\n",
       "      <th>8</th>\n",
       "      <td>Fundación 9</td>\n",
       "      <td>TEJIENDO COMUNIDAD</td>\n",
       "      <td>ESPÍRITU SANTO</td>\n",
       "      <td>ANTONIO NARIÑO</td>\n",
       "      <td>LA F RAGUA</td>\n",
       "      <td>CALLE 14 A SUR # 28 - 46</td>\n",
       "      <td>50</td>\n",
       "      <td>QUINCENAL</td>\n",
       "      <td>2 Y 4 SEMANA DEL MES</td>\n",
       "      <td>4.595307</td>\n",
       "      <td>-74.105222</td>\n",
       "    </tr>\n",
       "    <tr>\n",
       "      <th>9</th>\n",
       "      <td>Fundación 10</td>\n",
       "      <td>TERAPÉUTICO POR DISCAPACIDAD</td>\n",
       "      <td>INMACULADA CONCEPCIÓN</td>\n",
       "      <td>ANTONIO NARIÑO</td>\n",
       "      <td>LA ESTANZUELA</td>\n",
       "      <td>DIAGONAL 4 A NO. 18A-08</td>\n",
       "      <td>30</td>\n",
       "      <td>QUINCENAL</td>\n",
       "      <td>2 Y 4 SEMANA DEL MES</td>\n",
       "      <td>4.598645</td>\n",
       "      <td>-74.089669</td>\n",
       "    </tr>\n",
       "    <tr>\n",
       "      <th>10</th>\n",
       "      <td>Fundación 11</td>\n",
       "      <td>TEJIENDO COMUNIDAD</td>\n",
       "      <td>SAN JOSÉ</td>\n",
       "      <td>ANTONIO NARIÑO</td>\n",
       "      <td>CUIDAD BERNA</td>\n",
       "      <td>CRA. 11 # 7 - 07 SUR</td>\n",
       "      <td>30</td>\n",
       "      <td>QUINCENAL</td>\n",
       "      <td>1 Y 3 SEMANA DEL MES</td>\n",
       "      <td>4.599920</td>\n",
       "      <td>-74.079962</td>\n",
       "    </tr>\n",
       "  </tbody>\n",
       "</table>\n",
       "</div>"
      ],
      "text/plain": [
       "    ORGANIZACIÓN             GRUPO POBLACIONAL                    RED  \\\n",
       "5    Fundación 6      TERAPÉUTICO POR ADICCIÓN  INMACULADA CONCEPCIÓN   \n",
       "6    Fundación 7            TEJIENDO COMUNIDAD  INMACULADA CONCEPCIÓN   \n",
       "8    Fundación 9            TEJIENDO COMUNIDAD         ESPÍRITU SANTO   \n",
       "9   Fundación 10  TERAPÉUTICO POR DISCAPACIDAD  INMACULADA CONCEPCIÓN   \n",
       "10  Fundación 11            TEJIENDO COMUNIDAD               SAN JOSÉ   \n",
       "\n",
       "         LOCALIDAD           BARRIO                 DIRECCIÓN  \\\n",
       "5   ANTONIO NARIÑO    LA ESTANZUELA      DIAG. 44 NO. 17 - 40   \n",
       "6   ANTONIO NARIÑO  EDUARDO SANTOS         CLL 1C BIS N.19-18   \n",
       "8   ANTONIO NARIÑO       LA F RAGUA  CALLE 14 A SUR # 28 - 46   \n",
       "9   ANTONIO NARIÑO    LA ESTANZUELA   DIAGONAL 4 A NO. 18A-08   \n",
       "10  ANTONIO NARIÑO     CUIDAD BERNA      CRA. 11 # 7 - 07 SUR   \n",
       "\n",
       "    FAMILIAS ATENDIDAS FRECUENCIA                SEMANA   Latitud   Longitud  \n",
       "5                  554  QUINCENAL  2 Y 4 SEMANA DEL MES  4.601168 -74.087721  \n",
       "6                   40  QUINCENAL  1 Y 3 SEMANA DEL MES  4.594741 -74.091919  \n",
       "8                   50  QUINCENAL  2 Y 4 SEMANA DEL MES  4.595307 -74.105222  \n",
       "9                   30  QUINCENAL  2 Y 4 SEMANA DEL MES  4.598645 -74.089669  \n",
       "10                  30  QUINCENAL  1 Y 3 SEMANA DEL MES  4.599920 -74.079962  "
      ]
     },
     "execution_count": 12,
     "metadata": {},
     "output_type": "execute_result"
    }
   ],
   "source": [
    "# Create a new dataframe with only the row with kmeans = 1\n",
    "df_kmeans_1 = df[df['kmeans'] == 1]\n",
    "# drop the kmeans column\n",
    "df_kmeans_1.drop(columns=['kmeans'], inplace=True)\n",
    "print(df_kmeans_1.shape)\n",
    "df_kmeans_1.head()"
   ]
  },
  {
   "cell_type": "markdown",
   "metadata": {},
   "source": [
    "## Hallar la matriz de distancias entre las sucursales"
   ]
  },
  {
   "cell_type": "code",
   "execution_count": 13,
   "metadata": {},
   "outputs": [
    {
     "name": "stderr",
     "output_type": "stream",
     "text": [
      "/tmp/ipykernel_5398/273733597.py:8: FutureWarning:\n",
      "\n",
      "The frame.append method is deprecated and will be removed from pandas in a future version. Use pandas.concat instead.\n",
      "\n"
     ]
    },
    {
     "data": {
      "text/html": [
       "<div>\n",
       "<style scoped>\n",
       "    .dataframe tbody tr th:only-of-type {\n",
       "        vertical-align: middle;\n",
       "    }\n",
       "\n",
       "    .dataframe tbody tr th {\n",
       "        vertical-align: top;\n",
       "    }\n",
       "\n",
       "    .dataframe thead th {\n",
       "        text-align: right;\n",
       "    }\n",
       "</style>\n",
       "<table border=\"1\" class=\"dataframe\">\n",
       "  <thead>\n",
       "    <tr style=\"text-align: right;\">\n",
       "      <th></th>\n",
       "      <th>Latitud</th>\n",
       "      <th>Longitud</th>\n",
       "      <th>ORGANIZACIÓN</th>\n",
       "    </tr>\n",
       "  </thead>\n",
       "  <tbody>\n",
       "    <tr>\n",
       "      <th>321</th>\n",
       "      <td>4.748265</td>\n",
       "      <td>-74.044313</td>\n",
       "      <td>Fundación 620</td>\n",
       "    </tr>\n",
       "    <tr>\n",
       "      <th>322</th>\n",
       "      <td>4.675057</td>\n",
       "      <td>-74.021175</td>\n",
       "      <td>Fundación 621</td>\n",
       "    </tr>\n",
       "    <tr>\n",
       "      <th>323</th>\n",
       "      <td>4.601318</td>\n",
       "      <td>-74.069278</td>\n",
       "      <td>Fundación 622</td>\n",
       "    </tr>\n",
       "    <tr>\n",
       "      <th>324</th>\n",
       "      <td>4.622414</td>\n",
       "      <td>-74.162582</td>\n",
       "      <td>Fundación 623</td>\n",
       "    </tr>\n",
       "    <tr>\n",
       "      <th>325</th>\n",
       "      <td>4.620809</td>\n",
       "      <td>-74.089706</td>\n",
       "      <td>BANCO DE ALIMENTOS DE BOGOTA</td>\n",
       "    </tr>\n",
       "  </tbody>\n",
       "</table>\n",
       "</div>"
      ],
      "text/plain": [
       "      Latitud   Longitud                  ORGANIZACIÓN\n",
       "321  4.748265 -74.044313                 Fundación 620\n",
       "322  4.675057 -74.021175                 Fundación 621\n",
       "323  4.601318 -74.069278                 Fundación 622\n",
       "324  4.622414 -74.162582                 Fundación 623\n",
       "325  4.620809 -74.089706  BANCO DE ALIMENTOS DE BOGOTA"
      ]
     },
     "execution_count": 13,
     "metadata": {},
     "output_type": "execute_result"
    }
   ],
   "source": [
    "organizacion_name = \"BANCO DE ALIMENTOS DE BOGOTA\"\n",
    "banco_de_alimentos_coordenadas = [4.620809028221943, -74.08970640057449]\n",
    "\n",
    "# Add banco de alimentos \n",
    "# Create a new dataframe with only the columns latitud, longitud, organizacion\n",
    "df_distancias = df_kmeans_1[['Latitud', 'Longitud', 'ORGANIZACIÓN']]\n",
    "# Add a new row with the coordenadas of the banco de alimentos\n",
    "df_distancias = df_distancias.append({'Latitud': banco_de_alimentos_coordenadas[0], 'Longitud': banco_de_alimentos_coordenadas[1], 'ORGANIZACIÓN': organizacion_name}, ignore_index=True)\n",
    "\n",
    "df_distancias.tail()"
   ]
  },
  {
   "cell_type": "code",
   "execution_count": 17,
   "metadata": {},
   "outputs": [],
   "source": [
    "# Create a dictionary to store the distances\n",
    "from haversine import haversine, Unit\n",
    "distancias = {}\n",
    "# Iterate over the rows of the dataframe\n",
    "for index, row in df_distancias.iterrows():\n",
    "    for index2, row2 in df_distancias.iterrows():\n",
    "        # Calculate the distance between the two rows using the haversine formula\n",
    "        distancia = haversine((row['Latitud'], row['Longitud']), (row2['Latitud'], row2['Longitud']))\n",
    "\n",
    "        # Add the distance to the dictionary\n",
    "\n",
    "        distancias[(row['ORGANIZACIÓN'], row2['ORGANIZACIÓN'])] = distancia"
   ]
  },
  {
   "cell_type": "code",
   "execution_count": 21,
   "metadata": {},
   "outputs": [],
   "source": [
    "# Create a csv file with the distances\n",
    "import csv\n",
    "with open('distancias.csv', 'w') as f:\n",
    "    for key in distancias.keys():\n",
    "        f.write(f'{key[0]},{key[1]},{distancias[key]}\\n')\n"
   ]
  },
  {
   "cell_type": "markdown",
   "metadata": {},
   "source": []
  }
 ],
 "metadata": {
  "kernelspec": {
   "display_name": "Python 3.10.8 ('.venv': venv)",
   "language": "python",
   "name": "python3"
  },
  "language_info": {
   "codemirror_mode": {
    "name": "ipython",
    "version": 3
   },
   "file_extension": ".py",
   "mimetype": "text/x-python",
   "name": "python",
   "nbconvert_exporter": "python",
   "pygments_lexer": "ipython3",
   "version": "3.10.8"
  },
  "orig_nbformat": 4,
  "vscode": {
   "interpreter": {
    "hash": "bdc49ce8f5e839a48714e1021fa9390fedda57f96c4f7ec47b712bb398ba3696"
   }
  }
 },
 "nbformat": 4,
 "nbformat_minor": 2
}
